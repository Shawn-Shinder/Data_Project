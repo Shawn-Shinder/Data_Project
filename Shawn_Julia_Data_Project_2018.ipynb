{
 "cells": [
  {
   "cell_type": "code",
   "execution_count": 1,
   "metadata": {},
   "outputs": [],
   "source": [
    "import pandas as pd\n",
    "import matplotlib.pyplot as plt\n",
    "import numpy as np"
   ]
  },
  {
   "cell_type": "markdown",
   "metadata": {},
   "source": [
    "# Background"
   ]
  },
  {
   "cell_type": "markdown",
   "metadata": {},
   "source": [
    "The illegal narcotics trade in China has been shaped by many factors including history, geography, politics and the economy. Historically, due to both China’s proximity to the Golden Triangle and the Opium Wars, opium has played an integral role in China’s drug trade. Today, due to less oversight and developed networks of planting cooperatives, opium production has moved south of China’s border, coalescing in Southeast Asian nations. With the dawn of a new age of drugs, China now synthesizes drugs such as meth amphetamine, ecstasy and nimetazepam. Ephedra, the plant used to produce pseudoephedrine and ephedrine, the precursor chemicals necessary to produce meth, is legal and indigenous to Northern China. Furthermore, with China’s massive population and economic growth, enforcement of illegal drugs is incredibly difficult. Most drugs are then exported to Western countries, such as the US where they present massive health risks. This paper seeks to develop a model that detects the profitability and accessibility of certain provinces to the production of meth amphetamine. We hope to be able to quantify each factor that contributes to production, and through the use of statistical analysis, formalize the significance of each input in terms of impact on output. \n"
   ]
  },
  {
   "cell_type": "markdown",
   "metadata": {},
   "source": [
    "#  Theory and Literature Review"
   ]
  },
  {
   "cell_type": "markdown",
   "metadata": {},
   "source": [
    "Methamphetamine production is a highly secretive and complicated illegal industry. There is a distinct lack of literature related to the production of methamphetamine in China. The Chinese government presents a major barrier to collecting accurate production estimates, and often impedes general data accumulation. Currently, most researchers rationalize drug production as a function of variables such as corruption, augmented by endogenous variables such as economic situation. This paper attempts to create a link between a site’s level of production and its underlying corruption, geographic positioning and economy. These overarching classifications are broken into more complex individual subcategories which we explore in depth.\n",
    "\n",
    "In order to facilitate any large-scale illegal activity in China, corruption is a necessary component. Corruption occurs at the local, provincial and national levels. At the local and provincial levels, officials can easily be bribed to overlook and even hide illegal activities. Corruption allows precursor chemicals to be purchased at price points that boost profit margins. We use a variable built around the number of provincial arrests in anti-corruption cases. A possible limitation behind using corruption arrests as a substitute variable is the politically charged nature of the arrests. Xi Jinping has personally vanguarded the anti-corruption campaign, potentially targeting direct enemies of his regime in order to consolidate power. \n",
    "\n",
    "Geographic location and surrounding points of interest are important to consider when deciding where to operate meth laboratories. As explained by Brainard’s Proximity-Concentration Trade-Off Theory, there is an inherent conflict between moving the production process closer to the consumer to cut transportation costs, and creating a clustered production chain to maximize cost-efficiency around the input factors. Such theories do not entirely apply to illicit goods, as the risk of transporting drugs exaggerates marginal costs significantly. In fact, the high street value of most illegal narcotics can be attributed to risk. Ephedra, the main ingredient needed to synthesize meth, is grown in northern provinces of China such as Inner Mongolia and Xinjiang. Ephedra is legal in China since it is commonly used for medicinal purposes. This allows producers to easily transport ephedra throughout China. Since it is easy to transport precursor chemicals, access to water or a port should be more important than proximity to raw materials for Chinese producers looking to sell abroad. Transporting finished meth throughout China is risky, so producers will seek to export it as quickly as possible.\n",
    "\n",
    "Chinese meth manufacturing should be negatively affected by proximity to North Korea, a country that has state-sponsored meth production. Since the early 2000’s, North Korea has been producing large quantities of meth, much of which is trafficked through Northeast China or Vladivostok. According to the theory set out by Sappington and Sidak, state owned enterprises (SOE’s) marginalize and attempt to outcompete rival private firms. In highly competitive industries, SOE’s engage in anti-competitive behavior such as using privileged access to resources to price out competitors (predatory pricing). Chinese producers, who are more segmented than their DPRK counterparts, fight over a limited market share, superior-grade meth, and anti-competitive behavior.\n",
    "\n",
    "Proximity to Myanmar should be a favorable factor due to the effects of external economies of scale. In comparison to North Korea’s strong internal economy of scale, Myanmar’s meth production is segmented (ie. populated by smaller manufacturers). Based on Michael Porter’s clustering framework, industry clusters spill over international borders, especially ones as porous and under-regulated as the Myanmar/China border. Stronger competition leads to information sharing and innovation, so the meth industry thrives when close to this border region.\n",
    "\n",
    "Proximity to Hong Kong should be favorable to meth production. According to UNODC reports from the early 2000’s, Hong Kong was one of the largest meth-making hubs in the region. A “historical accident”, has built a cultural foundation around the sale and production of illicit drugs. Based on HSBC reports, Hong Kong is a regional leader in financial crimes such as money laundering. According to Brouwer and Case, production of illicit drugs requires large criminal syndicates to raise necessary capital. These syndicates allow producers to connect with dealers and sell their products in bulk. In Mainland China, there is a distinct lack of organized gangs. In comparison, the Triads are a notable criminal organization from Hong Kong. Xinmin points out that due to weak competition from domestic gangs, the Triads have dominated criminal activity in Mainland China. Due to the need for constant financing, and the presence of money laundering, Xinmin asserts that Hong Kong triad members have stepped in to fill the role of traditional investors.\n",
    "\n",
    "Beyond spatial positioning and corruption, the local economy and demographics should play a role in the determination of favorable locations for meth production.  This paper subdivides the economy into four specific variables: Gross Regional Product, importance of exports, population size, and major ports.\n",
    "\n",
    "Based on our hypothesis, higher provincial GRP should be positively correlated with meth production. Higher GRP allows profits from drug production to be hidden behind province’s relative wealth. When dealing with developing countries, state-led oversight committees lack resources needed to investigate growth of illegal profits, particularly if trends are consistent with those of the province. Larger administrative subdivisions, such as provinces or states, should exhibit higher GRP’s when producing more meth. Furthermore, according to Tinbergen’s Gravity Model, high GDP should lead to more trade with other high GDP areas. Higher trade predicts increased demand for an area’s exports, leading to more production of both legal and illegal goods to address unfulfilled demand. \n",
    "\n",
    "Increased population size, could also imply higher levels of production. This stems from either difficulties in enforceability, or increased supply of laborers. Similar to the case of GRP, higher populations allow producers to hide activities. Enforcement agents cannot address all cases; the lack of funds makes the opportunity costs of investigations much higher when the total quantity is also greater. The labor supply is also highly correlated with population, giving producers more bargaining power in terms of setting wages, as well as a greater possibility of finding skilled laborers (chemists). \n"
   ]
  },
  {
   "cell_type": "markdown",
   "metadata": {},
   "source": [
    "# Thesis "
   ]
  },
  {
   "cell_type": "markdown",
   "metadata": {},
   "source": [
    "According to the UNODC, “the drug problem and corruption have a mutually reinforcing relationship. Corruption facilitates the production and trafficking of illegal drugs and this, in turn, benefits corruption.” In this paper, we predict that corruption should not be the factor responsible for output. In China, cross-provincial trade is restricted, as there are many formal tariffs and checkpoints to inspect products shipped. When transporting drugs, each barrier exposes producers to risks of rent extraction or arrests. Due to these risks, costs of transporting drugs are distorted. Based on these distortions, we can begin to analyze provinces as individual actors in the division of labor for synthetic drug production. Comparative advantages should begin to emerge as ‘inter-province tariffs’ segment suppliers. Without considering each province’s comparative advantage, it would be impossible to determine which province is the most productive and the largest exporter of drugs. Our hypothesis is that geography is the greatest point of differentiation between comparative advantages. Therefore, our model will present a far more accurate depiction of productivity between provinces, which directly leads to higher production output. \n"
   ]
  },
  {
   "cell_type": "markdown",
   "metadata": {},
   "source": [
    "# Data "
   ]
  },
  {
   "cell_type": "markdown",
   "metadata": {},
   "source": [
    "First, we create a data set using figures on the economics of the provinces of China. As previously noted, we designate grp(rmb) as the regional gross domestic product of China in Renminbi, pop is the population of each province in millions, ports is the number of major ports within the territority, and export is the RMB value of all exports in this province. "
   ]
  },
  {
   "cell_type": "markdown",
   "metadata": {},
   "source": [
    "### Note"
   ]
  },
  {
   "cell_type": "markdown",
   "metadata": {},
   "source": [
    "We have uploaded our data to github in order to allow others to download our data directly from this document. "
   ]
  },
  {
   "cell_type": "markdown",
   "metadata": {},
   "source": [
    "#### Provincial Economic Data"
   ]
  },
  {
   "cell_type": "code",
   "execution_count": 3,
   "metadata": {},
   "outputs": [],
   "source": [
    "import pandas as pd \n",
    "\n",
    "url=\"https://raw.githubusercontent.com/Shawn-Shinder/Data_Project/master/data.csv\"\n",
    "df=pd.read_csv(url)"
   ]
  },
  {
   "cell_type": "code",
   "execution_count": 4,
   "metadata": {
    "scrolled": true
   },
   "outputs": [
    {
     "data": {
      "text/html": [
       "<div>\n",
       "<style scoped>\n",
       "    .dataframe tbody tr th:only-of-type {\n",
       "        vertical-align: middle;\n",
       "    }\n",
       "\n",
       "    .dataframe tbody tr th {\n",
       "        vertical-align: top;\n",
       "    }\n",
       "\n",
       "    .dataframe thead th {\n",
       "        text-align: right;\n",
       "    }\n",
       "</style>\n",
       "<table border=\"1\" class=\"dataframe\">\n",
       "  <thead>\n",
       "    <tr style=\"text-align: right;\">\n",
       "      <th></th>\n",
       "      <th>province</th>\n",
       "      <th>grp rmb</th>\n",
       "      <th>pop</th>\n",
       "      <th>ports</th>\n",
       "      <th>export</th>\n",
       "    </tr>\n",
       "  </thead>\n",
       "  <tbody>\n",
       "    <tr>\n",
       "      <th>0</th>\n",
       "      <td>Guangdong</td>\n",
       "      <td>8,085.49</td>\n",
       "      <td>109.99</td>\n",
       "      <td>113</td>\n",
       "      <td>654.140000</td>\n",
       "    </tr>\n",
       "    <tr>\n",
       "      <th>1</th>\n",
       "      <td>Jiangsu</td>\n",
       "      <td>7,738.83</td>\n",
       "      <td>79.99</td>\n",
       "      <td>27</td>\n",
       "      <td>330.960000</td>\n",
       "    </tr>\n",
       "    <tr>\n",
       "      <th>2</th>\n",
       "      <td>Shandong</td>\n",
       "      <td>6,802.45</td>\n",
       "      <td>99.47</td>\n",
       "      <td>12</td>\n",
       "      <td>144.310000</td>\n",
       "    </tr>\n",
       "    <tr>\n",
       "      <th>3</th>\n",
       "      <td>Zhejiang</td>\n",
       "      <td>4,725.14</td>\n",
       "      <td>55.90</td>\n",
       "      <td>27</td>\n",
       "      <td>273.450000</td>\n",
       "    </tr>\n",
       "    <tr>\n",
       "      <th>4</th>\n",
       "      <td>Henan</td>\n",
       "      <td>4,047.18</td>\n",
       "      <td>95.32</td>\n",
       "      <td>9</td>\n",
       "      <td>45.320000</td>\n",
       "    </tr>\n",
       "    <tr>\n",
       "      <th>5</th>\n",
       "      <td>Sichuan</td>\n",
       "      <td>3,293.45</td>\n",
       "      <td>82.62</td>\n",
       "      <td>0</td>\n",
       "      <td>26.200000</td>\n",
       "    </tr>\n",
       "    <tr>\n",
       "      <th>6</th>\n",
       "      <td>Hubei</td>\n",
       "      <td>3,266.54</td>\n",
       "      <td>58.85</td>\n",
       "      <td>7</td>\n",
       "      <td>24.760000</td>\n",
       "    </tr>\n",
       "    <tr>\n",
       "      <th>7</th>\n",
       "      <td>Hebei</td>\n",
       "      <td>3,207.05</td>\n",
       "      <td>74.70</td>\n",
       "      <td>5</td>\n",
       "      <td>44.000000</td>\n",
       "    </tr>\n",
       "    <tr>\n",
       "      <th>8</th>\n",
       "      <td>Hunan</td>\n",
       "      <td>3,155.14</td>\n",
       "      <td>68.22</td>\n",
       "      <td>10</td>\n",
       "      <td>14.280000</td>\n",
       "    </tr>\n",
       "    <tr>\n",
       "      <th>9</th>\n",
       "      <td>Fujian</td>\n",
       "      <td>2,881.06</td>\n",
       "      <td>38.74</td>\n",
       "      <td>23</td>\n",
       "      <td>87.230000</td>\n",
       "    </tr>\n",
       "    <tr>\n",
       "      <th>10</th>\n",
       "      <td>Shanghai</td>\n",
       "      <td>2,817.87</td>\n",
       "      <td>24.20</td>\n",
       "      <td>8</td>\n",
       "      <td>166.380000</td>\n",
       "    </tr>\n",
       "    <tr>\n",
       "      <th>11</th>\n",
       "      <td>Beijing</td>\n",
       "      <td>2,566.91</td>\n",
       "      <td>21.73</td>\n",
       "      <td>1</td>\n",
       "      <td>25.460000</td>\n",
       "    </tr>\n",
       "    <tr>\n",
       "      <th>12</th>\n",
       "      <td>Anhui</td>\n",
       "      <td>2,440.76</td>\n",
       "      <td>61.96</td>\n",
       "      <td>9</td>\n",
       "      <td>25.970000</td>\n",
       "    </tr>\n",
       "    <tr>\n",
       "      <th>13</th>\n",
       "      <td>Liaoning</td>\n",
       "      <td>2,224.69</td>\n",
       "      <td>43.78</td>\n",
       "      <td>6</td>\n",
       "      <td>44.810000</td>\n",
       "    </tr>\n",
       "    <tr>\n",
       "      <th>14</th>\n",
       "      <td>Shaanxi</td>\n",
       "      <td>1,939.96</td>\n",
       "      <td>38.13</td>\n",
       "      <td>2</td>\n",
       "      <td>15.800000</td>\n",
       "    </tr>\n",
       "    <tr>\n",
       "      <th>15</th>\n",
       "      <td>Jiangxi</td>\n",
       "      <td>1,849.90</td>\n",
       "      <td>45.92</td>\n",
       "      <td>2</td>\n",
       "      <td>24.150000</td>\n",
       "    </tr>\n",
       "    <tr>\n",
       "      <th>16</th>\n",
       "      <td>Guangxi</td>\n",
       "      <td>1,831.76</td>\n",
       "      <td>48.38</td>\n",
       "      <td>8</td>\n",
       "      <td>12.630000</td>\n",
       "    </tr>\n",
       "    <tr>\n",
       "      <th>17</th>\n",
       "      <td>Inner Mongolia</td>\n",
       "      <td>1,812.81</td>\n",
       "      <td>25.20</td>\n",
       "      <td>4</td>\n",
       "      <td>5.200000</td>\n",
       "    </tr>\n",
       "    <tr>\n",
       "      <th>18</th>\n",
       "      <td>Tianjin</td>\n",
       "      <td>1,788.54</td>\n",
       "      <td>15.62</td>\n",
       "      <td>2</td>\n",
       "      <td>41.660000</td>\n",
       "    </tr>\n",
       "    <tr>\n",
       "      <th>19</th>\n",
       "      <td>Chongqing</td>\n",
       "      <td>1,774.06</td>\n",
       "      <td>30.48</td>\n",
       "      <td>1</td>\n",
       "      <td>33.560000</td>\n",
       "    </tr>\n",
       "    <tr>\n",
       "      <th>20</th>\n",
       "      <td>Heilongjiang</td>\n",
       "      <td>1,538.61</td>\n",
       "      <td>37.99</td>\n",
       "      <td>3</td>\n",
       "      <td>4.920000</td>\n",
       "    </tr>\n",
       "    <tr>\n",
       "      <th>21</th>\n",
       "      <td>Yunnan</td>\n",
       "      <td>1,478.84</td>\n",
       "      <td>47.71</td>\n",
       "      <td>1</td>\n",
       "      <td>8.860000</td>\n",
       "    </tr>\n",
       "    <tr>\n",
       "      <th>22</th>\n",
       "      <td>Jilin</td>\n",
       "      <td>1,477.68</td>\n",
       "      <td>27.33</td>\n",
       "      <td>2</td>\n",
       "      <td>4.910000</td>\n",
       "    </tr>\n",
       "    <tr>\n",
       "      <th>23</th>\n",
       "      <td>Shanxi</td>\n",
       "      <td>1,305.04</td>\n",
       "      <td>36.82</td>\n",
       "      <td>1</td>\n",
       "      <td>12.530000</td>\n",
       "    </tr>\n",
       "    <tr>\n",
       "      <th>24</th>\n",
       "      <td>Guizhou</td>\n",
       "      <td>1,177.67</td>\n",
       "      <td>35.55</td>\n",
       "      <td>2</td>\n",
       "      <td>3.990000</td>\n",
       "    </tr>\n",
       "    <tr>\n",
       "      <th>25</th>\n",
       "      <td>Xinjiang</td>\n",
       "      <td>964.97</td>\n",
       "      <td>23.98</td>\n",
       "      <td>2</td>\n",
       "      <td>13.910000</td>\n",
       "    </tr>\n",
       "    <tr>\n",
       "      <th>26</th>\n",
       "      <td>Gansu</td>\n",
       "      <td>720.04</td>\n",
       "      <td>26.10</td>\n",
       "      <td>1</td>\n",
       "      <td>1.920000</td>\n",
       "    </tr>\n",
       "    <tr>\n",
       "      <th>27</th>\n",
       "      <td>Hainan</td>\n",
       "      <td>405.32</td>\n",
       "      <td>9.17</td>\n",
       "      <td>1</td>\n",
       "      <td>3.470000</td>\n",
       "    </tr>\n",
       "    <tr>\n",
       "      <th>28</th>\n",
       "      <td>Ningxia</td>\n",
       "      <td>316.86</td>\n",
       "      <td>6.75</td>\n",
       "      <td>1</td>\n",
       "      <td>2.050000</td>\n",
       "    </tr>\n",
       "    <tr>\n",
       "      <th>29</th>\n",
       "      <td>Qinghai</td>\n",
       "      <td>257.25</td>\n",
       "      <td>5.93</td>\n",
       "      <td>1</td>\n",
       "      <td>0.360000</td>\n",
       "    </tr>\n",
       "    <tr>\n",
       "      <th>30</th>\n",
       "      <td>Tibet</td>\n",
       "      <td>115.14</td>\n",
       "      <td>3.31</td>\n",
       "      <td>0</td>\n",
       "      <td>2.592062</td>\n",
       "    </tr>\n",
       "  </tbody>\n",
       "</table>\n",
       "</div>"
      ],
      "text/plain": [
       "          province   grp rmb     pop  ports      export\n",
       "0        Guangdong  8,085.49  109.99    113  654.140000\n",
       "1          Jiangsu  7,738.83   79.99     27  330.960000\n",
       "2         Shandong  6,802.45   99.47     12  144.310000\n",
       "3         Zhejiang  4,725.14   55.90     27  273.450000\n",
       "4            Henan  4,047.18   95.32      9   45.320000\n",
       "5          Sichuan  3,293.45   82.62      0   26.200000\n",
       "6            Hubei  3,266.54   58.85      7   24.760000\n",
       "7            Hebei  3,207.05   74.70      5   44.000000\n",
       "8            Hunan  3,155.14   68.22     10   14.280000\n",
       "9           Fujian  2,881.06   38.74     23   87.230000\n",
       "10        Shanghai  2,817.87   24.20      8  166.380000\n",
       "11         Beijing  2,566.91   21.73      1   25.460000\n",
       "12           Anhui  2,440.76   61.96      9   25.970000\n",
       "13        Liaoning  2,224.69   43.78      6   44.810000\n",
       "14         Shaanxi  1,939.96   38.13      2   15.800000\n",
       "15         Jiangxi  1,849.90   45.92      2   24.150000\n",
       "16         Guangxi  1,831.76   48.38      8   12.630000\n",
       "17  Inner Mongolia  1,812.81   25.20      4    5.200000\n",
       "18         Tianjin  1,788.54   15.62      2   41.660000\n",
       "19       Chongqing  1,774.06   30.48      1   33.560000\n",
       "20    Heilongjiang  1,538.61   37.99      3    4.920000\n",
       "21          Yunnan  1,478.84   47.71      1    8.860000\n",
       "22           Jilin  1,477.68   27.33      2    4.910000\n",
       "23          Shanxi  1,305.04   36.82      1   12.530000\n",
       "24         Guizhou  1,177.67   35.55      2    3.990000\n",
       "25        Xinjiang    964.97   23.98      2   13.910000\n",
       "26           Gansu    720.04   26.10      1    1.920000\n",
       "27          Hainan    405.32    9.17      1    3.470000\n",
       "28         Ningxia    316.86    6.75      1    2.050000\n",
       "29         Qinghai    257.25    5.93      1    0.360000\n",
       "30           Tibet    115.14    3.31      0    2.592062"
      ]
     },
     "execution_count": 4,
     "metadata": {},
     "output_type": "execute_result"
    }
   ],
   "source": [
    "df"
   ]
  },
  {
   "cell_type": "markdown",
   "metadata": {},
   "source": [
    "We must first clean the above data, as some columns such as grp rmb are seen as a string rather than a float due to their commas"
   ]
  },
  {
   "cell_type": "code",
   "execution_count": 5,
   "metadata": {},
   "outputs": [],
   "source": [
    "df['grp rmb'] = df['grp rmb'].str.replace(',', '')"
   ]
  },
  {
   "cell_type": "code",
   "execution_count": 6,
   "metadata": {},
   "outputs": [],
   "source": [
    "df['grp rmb'] = df['grp rmb'].astype(float)"
   ]
  },
  {
   "cell_type": "code",
   "execution_count": 7,
   "metadata": {
    "scrolled": true
   },
   "outputs": [
    {
     "data": {
      "text/plain": [
       "0     8085.49\n",
       "1     7738.83\n",
       "2     6802.45\n",
       "3     4725.14\n",
       "4     4047.18\n",
       "5     3293.45\n",
       "6     3266.54\n",
       "7     3207.05\n",
       "8     3155.14\n",
       "9     2881.06\n",
       "10    2817.87\n",
       "11    2566.91\n",
       "12    2440.76\n",
       "13    2224.69\n",
       "14    1939.96\n",
       "15    1849.90\n",
       "16    1831.76\n",
       "17    1812.81\n",
       "18    1788.54\n",
       "19    1774.06\n",
       "20    1538.61\n",
       "21    1478.84\n",
       "22    1477.68\n",
       "23    1305.04\n",
       "24    1177.67\n",
       "25     964.97\n",
       "26     720.04\n",
       "27     405.32\n",
       "28     316.86\n",
       "29     257.25\n",
       "30     115.14\n",
       "Name: grp rmb, dtype: float64"
      ]
     },
     "execution_count": 7,
     "metadata": {},
     "output_type": "execute_result"
    }
   ],
   "source": [
    "df[\"grp rmb\"]"
   ]
  },
  {
   "cell_type": "code",
   "execution_count": 8,
   "metadata": {},
   "outputs": [
    {
     "data": {
      "text/plain": [
       "province     object\n",
       "grp rmb     float64\n",
       "pop         float64\n",
       "ports         int64\n",
       "export      float64\n",
       "dtype: object"
      ]
     },
     "execution_count": 8,
     "metadata": {},
     "output_type": "execute_result"
    }
   ],
   "source": [
    "df.dtypes"
   ]
  },
  {
   "cell_type": "code",
   "execution_count": 9,
   "metadata": {},
   "outputs": [],
   "source": [
    "df['ports'] = df['ports'].astype(float)"
   ]
  },
  {
   "cell_type": "markdown",
   "metadata": {},
   "source": [
    "Now we reconfirm grp(RMB) into USD to maintain the integrity and readability of this data. To do so we will try to avoid the risk inherent in changing exchange rates, and use the average RMB-USD rate for the year. In this case, we will use the variable \n",
    "rmb to display average exchange rates for 2016"
   ]
  },
  {
   "cell_type": "code",
   "execution_count": 10,
   "metadata": {},
   "outputs": [],
   "source": [
    "rmb= 6.9421"
   ]
  },
  {
   "cell_type": "code",
   "execution_count": 11,
   "metadata": {},
   "outputs": [],
   "source": [
    "df['grp usd'] = df['grp rmb']/rmb"
   ]
  },
  {
   "cell_type": "code",
   "execution_count": 12,
   "metadata": {
    "scrolled": true
   },
   "outputs": [
    {
     "data": {
      "text/html": [
       "<div>\n",
       "<style scoped>\n",
       "    .dataframe tbody tr th:only-of-type {\n",
       "        vertical-align: middle;\n",
       "    }\n",
       "\n",
       "    .dataframe tbody tr th {\n",
       "        vertical-align: top;\n",
       "    }\n",
       "\n",
       "    .dataframe thead th {\n",
       "        text-align: right;\n",
       "    }\n",
       "</style>\n",
       "<table border=\"1\" class=\"dataframe\">\n",
       "  <thead>\n",
       "    <tr style=\"text-align: right;\">\n",
       "      <th></th>\n",
       "      <th>province</th>\n",
       "      <th>grp rmb</th>\n",
       "      <th>pop</th>\n",
       "      <th>ports</th>\n",
       "      <th>export</th>\n",
       "      <th>grp usd</th>\n",
       "    </tr>\n",
       "  </thead>\n",
       "  <tbody>\n",
       "    <tr>\n",
       "      <th>0</th>\n",
       "      <td>Guangdong</td>\n",
       "      <td>8085.49</td>\n",
       "      <td>109.99</td>\n",
       "      <td>113.0</td>\n",
       "      <td>654.140000</td>\n",
       "      <td>1164.703764</td>\n",
       "    </tr>\n",
       "    <tr>\n",
       "      <th>1</th>\n",
       "      <td>Jiangsu</td>\n",
       "      <td>7738.83</td>\n",
       "      <td>79.99</td>\n",
       "      <td>27.0</td>\n",
       "      <td>330.960000</td>\n",
       "      <td>1114.767866</td>\n",
       "    </tr>\n",
       "    <tr>\n",
       "      <th>2</th>\n",
       "      <td>Shandong</td>\n",
       "      <td>6802.45</td>\n",
       "      <td>99.47</td>\n",
       "      <td>12.0</td>\n",
       "      <td>144.310000</td>\n",
       "      <td>979.883609</td>\n",
       "    </tr>\n",
       "    <tr>\n",
       "      <th>3</th>\n",
       "      <td>Zhejiang</td>\n",
       "      <td>4725.14</td>\n",
       "      <td>55.90</td>\n",
       "      <td>27.0</td>\n",
       "      <td>273.450000</td>\n",
       "      <td>680.649947</td>\n",
       "    </tr>\n",
       "    <tr>\n",
       "      <th>4</th>\n",
       "      <td>Henan</td>\n",
       "      <td>4047.18</td>\n",
       "      <td>95.32</td>\n",
       "      <td>9.0</td>\n",
       "      <td>45.320000</td>\n",
       "      <td>582.990738</td>\n",
       "    </tr>\n",
       "    <tr>\n",
       "      <th>5</th>\n",
       "      <td>Sichuan</td>\n",
       "      <td>3293.45</td>\n",
       "      <td>82.62</td>\n",
       "      <td>0.0</td>\n",
       "      <td>26.200000</td>\n",
       "      <td>474.416963</td>\n",
       "    </tr>\n",
       "    <tr>\n",
       "      <th>6</th>\n",
       "      <td>Hubei</td>\n",
       "      <td>3266.54</td>\n",
       "      <td>58.85</td>\n",
       "      <td>7.0</td>\n",
       "      <td>24.760000</td>\n",
       "      <td>470.540615</td>\n",
       "    </tr>\n",
       "    <tr>\n",
       "      <th>7</th>\n",
       "      <td>Hebei</td>\n",
       "      <td>3207.05</td>\n",
       "      <td>74.70</td>\n",
       "      <td>5.0</td>\n",
       "      <td>44.000000</td>\n",
       "      <td>461.971161</td>\n",
       "    </tr>\n",
       "    <tr>\n",
       "      <th>8</th>\n",
       "      <td>Hunan</td>\n",
       "      <td>3155.14</td>\n",
       "      <td>68.22</td>\n",
       "      <td>10.0</td>\n",
       "      <td>14.280000</td>\n",
       "      <td>454.493597</td>\n",
       "    </tr>\n",
       "    <tr>\n",
       "      <th>9</th>\n",
       "      <td>Fujian</td>\n",
       "      <td>2881.06</td>\n",
       "      <td>38.74</td>\n",
       "      <td>23.0</td>\n",
       "      <td>87.230000</td>\n",
       "      <td>415.012748</td>\n",
       "    </tr>\n",
       "    <tr>\n",
       "      <th>10</th>\n",
       "      <td>Shanghai</td>\n",
       "      <td>2817.87</td>\n",
       "      <td>24.20</td>\n",
       "      <td>8.0</td>\n",
       "      <td>166.380000</td>\n",
       "      <td>405.910315</td>\n",
       "    </tr>\n",
       "    <tr>\n",
       "      <th>11</th>\n",
       "      <td>Beijing</td>\n",
       "      <td>2566.91</td>\n",
       "      <td>21.73</td>\n",
       "      <td>1.0</td>\n",
       "      <td>25.460000</td>\n",
       "      <td>369.759871</td>\n",
       "    </tr>\n",
       "    <tr>\n",
       "      <th>12</th>\n",
       "      <td>Anhui</td>\n",
       "      <td>2440.76</td>\n",
       "      <td>61.96</td>\n",
       "      <td>9.0</td>\n",
       "      <td>25.970000</td>\n",
       "      <td>351.588136</td>\n",
       "    </tr>\n",
       "    <tr>\n",
       "      <th>13</th>\n",
       "      <td>Liaoning</td>\n",
       "      <td>2224.69</td>\n",
       "      <td>43.78</td>\n",
       "      <td>6.0</td>\n",
       "      <td>44.810000</td>\n",
       "      <td>320.463548</td>\n",
       "    </tr>\n",
       "    <tr>\n",
       "      <th>14</th>\n",
       "      <td>Shaanxi</td>\n",
       "      <td>1939.96</td>\n",
       "      <td>38.13</td>\n",
       "      <td>2.0</td>\n",
       "      <td>15.800000</td>\n",
       "      <td>279.448582</td>\n",
       "    </tr>\n",
       "    <tr>\n",
       "      <th>15</th>\n",
       "      <td>Jiangxi</td>\n",
       "      <td>1849.90</td>\n",
       "      <td>45.92</td>\n",
       "      <td>2.0</td>\n",
       "      <td>24.150000</td>\n",
       "      <td>266.475562</td>\n",
       "    </tr>\n",
       "    <tr>\n",
       "      <th>16</th>\n",
       "      <td>Guangxi</td>\n",
       "      <td>1831.76</td>\n",
       "      <td>48.38</td>\n",
       "      <td>8.0</td>\n",
       "      <td>12.630000</td>\n",
       "      <td>263.862520</td>\n",
       "    </tr>\n",
       "    <tr>\n",
       "      <th>17</th>\n",
       "      <td>Inner Mongolia</td>\n",
       "      <td>1812.81</td>\n",
       "      <td>25.20</td>\n",
       "      <td>4.0</td>\n",
       "      <td>5.200000</td>\n",
       "      <td>261.132798</td>\n",
       "    </tr>\n",
       "    <tr>\n",
       "      <th>18</th>\n",
       "      <td>Tianjin</td>\n",
       "      <td>1788.54</td>\n",
       "      <td>15.62</td>\n",
       "      <td>2.0</td>\n",
       "      <td>41.660000</td>\n",
       "      <td>257.636738</td>\n",
       "    </tr>\n",
       "    <tr>\n",
       "      <th>19</th>\n",
       "      <td>Chongqing</td>\n",
       "      <td>1774.06</td>\n",
       "      <td>30.48</td>\n",
       "      <td>1.0</td>\n",
       "      <td>33.560000</td>\n",
       "      <td>255.550914</td>\n",
       "    </tr>\n",
       "    <tr>\n",
       "      <th>20</th>\n",
       "      <td>Heilongjiang</td>\n",
       "      <td>1538.61</td>\n",
       "      <td>37.99</td>\n",
       "      <td>3.0</td>\n",
       "      <td>4.920000</td>\n",
       "      <td>221.634664</td>\n",
       "    </tr>\n",
       "    <tr>\n",
       "      <th>21</th>\n",
       "      <td>Yunnan</td>\n",
       "      <td>1478.84</td>\n",
       "      <td>47.71</td>\n",
       "      <td>1.0</td>\n",
       "      <td>8.860000</td>\n",
       "      <td>213.024877</td>\n",
       "    </tr>\n",
       "    <tr>\n",
       "      <th>22</th>\n",
       "      <td>Jilin</td>\n",
       "      <td>1477.68</td>\n",
       "      <td>27.33</td>\n",
       "      <td>2.0</td>\n",
       "      <td>4.910000</td>\n",
       "      <td>212.857781</td>\n",
       "    </tr>\n",
       "    <tr>\n",
       "      <th>23</th>\n",
       "      <td>Shanxi</td>\n",
       "      <td>1305.04</td>\n",
       "      <td>36.82</td>\n",
       "      <td>1.0</td>\n",
       "      <td>12.530000</td>\n",
       "      <td>187.989225</td>\n",
       "    </tr>\n",
       "    <tr>\n",
       "      <th>24</th>\n",
       "      <td>Guizhou</td>\n",
       "      <td>1177.67</td>\n",
       "      <td>35.55</td>\n",
       "      <td>2.0</td>\n",
       "      <td>3.990000</td>\n",
       "      <td>169.641751</td>\n",
       "    </tr>\n",
       "    <tr>\n",
       "      <th>25</th>\n",
       "      <td>Xinjiang</td>\n",
       "      <td>964.97</td>\n",
       "      <td>23.98</td>\n",
       "      <td>2.0</td>\n",
       "      <td>13.910000</td>\n",
       "      <td>139.002607</td>\n",
       "    </tr>\n",
       "    <tr>\n",
       "      <th>26</th>\n",
       "      <td>Gansu</td>\n",
       "      <td>720.04</td>\n",
       "      <td>26.10</td>\n",
       "      <td>1.0</td>\n",
       "      <td>1.920000</td>\n",
       "      <td>103.720776</td>\n",
       "    </tr>\n",
       "    <tr>\n",
       "      <th>27</th>\n",
       "      <td>Hainan</td>\n",
       "      <td>405.32</td>\n",
       "      <td>9.17</td>\n",
       "      <td>1.0</td>\n",
       "      <td>3.470000</td>\n",
       "      <td>58.385791</td>\n",
       "    </tr>\n",
       "    <tr>\n",
       "      <th>28</th>\n",
       "      <td>Ningxia</td>\n",
       "      <td>316.86</td>\n",
       "      <td>6.75</td>\n",
       "      <td>1.0</td>\n",
       "      <td>2.050000</td>\n",
       "      <td>45.643249</td>\n",
       "    </tr>\n",
       "    <tr>\n",
       "      <th>29</th>\n",
       "      <td>Qinghai</td>\n",
       "      <td>257.25</td>\n",
       "      <td>5.93</td>\n",
       "      <td>1.0</td>\n",
       "      <td>0.360000</td>\n",
       "      <td>37.056510</td>\n",
       "    </tr>\n",
       "    <tr>\n",
       "      <th>30</th>\n",
       "      <td>Tibet</td>\n",
       "      <td>115.14</td>\n",
       "      <td>3.31</td>\n",
       "      <td>0.0</td>\n",
       "      <td>2.592062</td>\n",
       "      <td>16.585759</td>\n",
       "    </tr>\n",
       "  </tbody>\n",
       "</table>\n",
       "</div>"
      ],
      "text/plain": [
       "          province  grp rmb     pop  ports      export      grp usd\n",
       "0        Guangdong  8085.49  109.99  113.0  654.140000  1164.703764\n",
       "1          Jiangsu  7738.83   79.99   27.0  330.960000  1114.767866\n",
       "2         Shandong  6802.45   99.47   12.0  144.310000   979.883609\n",
       "3         Zhejiang  4725.14   55.90   27.0  273.450000   680.649947\n",
       "4            Henan  4047.18   95.32    9.0   45.320000   582.990738\n",
       "5          Sichuan  3293.45   82.62    0.0   26.200000   474.416963\n",
       "6            Hubei  3266.54   58.85    7.0   24.760000   470.540615\n",
       "7            Hebei  3207.05   74.70    5.0   44.000000   461.971161\n",
       "8            Hunan  3155.14   68.22   10.0   14.280000   454.493597\n",
       "9           Fujian  2881.06   38.74   23.0   87.230000   415.012748\n",
       "10        Shanghai  2817.87   24.20    8.0  166.380000   405.910315\n",
       "11         Beijing  2566.91   21.73    1.0   25.460000   369.759871\n",
       "12           Anhui  2440.76   61.96    9.0   25.970000   351.588136\n",
       "13        Liaoning  2224.69   43.78    6.0   44.810000   320.463548\n",
       "14         Shaanxi  1939.96   38.13    2.0   15.800000   279.448582\n",
       "15         Jiangxi  1849.90   45.92    2.0   24.150000   266.475562\n",
       "16         Guangxi  1831.76   48.38    8.0   12.630000   263.862520\n",
       "17  Inner Mongolia  1812.81   25.20    4.0    5.200000   261.132798\n",
       "18         Tianjin  1788.54   15.62    2.0   41.660000   257.636738\n",
       "19       Chongqing  1774.06   30.48    1.0   33.560000   255.550914\n",
       "20    Heilongjiang  1538.61   37.99    3.0    4.920000   221.634664\n",
       "21          Yunnan  1478.84   47.71    1.0    8.860000   213.024877\n",
       "22           Jilin  1477.68   27.33    2.0    4.910000   212.857781\n",
       "23          Shanxi  1305.04   36.82    1.0   12.530000   187.989225\n",
       "24         Guizhou  1177.67   35.55    2.0    3.990000   169.641751\n",
       "25        Xinjiang   964.97   23.98    2.0   13.910000   139.002607\n",
       "26           Gansu   720.04   26.10    1.0    1.920000   103.720776\n",
       "27          Hainan   405.32    9.17    1.0    3.470000    58.385791\n",
       "28         Ningxia   316.86    6.75    1.0    2.050000    45.643249\n",
       "29         Qinghai   257.25    5.93    1.0    0.360000    37.056510\n",
       "30           Tibet   115.14    3.31    0.0    2.592062    16.585759"
      ]
     },
     "execution_count": 12,
     "metadata": {},
     "output_type": "execute_result"
    }
   ],
   "source": [
    "df"
   ]
  },
  {
   "cell_type": "markdown",
   "metadata": {},
   "source": [
    "We can now delete grp(rmb) as it will be a redundancy in our data"
   ]
  },
  {
   "cell_type": "code",
   "execution_count": 13,
   "metadata": {},
   "outputs": [],
   "source": [
    "df = df.drop(\"grp rmb\", axis=1)"
   ]
  },
  {
   "cell_type": "code",
   "execution_count": 14,
   "metadata": {
    "scrolled": true
   },
   "outputs": [
    {
     "data": {
      "text/html": [
       "<div>\n",
       "<style scoped>\n",
       "    .dataframe tbody tr th:only-of-type {\n",
       "        vertical-align: middle;\n",
       "    }\n",
       "\n",
       "    .dataframe tbody tr th {\n",
       "        vertical-align: top;\n",
       "    }\n",
       "\n",
       "    .dataframe thead th {\n",
       "        text-align: right;\n",
       "    }\n",
       "</style>\n",
       "<table border=\"1\" class=\"dataframe\">\n",
       "  <thead>\n",
       "    <tr style=\"text-align: right;\">\n",
       "      <th></th>\n",
       "      <th>province</th>\n",
       "      <th>pop</th>\n",
       "      <th>ports</th>\n",
       "      <th>export</th>\n",
       "      <th>grp usd</th>\n",
       "    </tr>\n",
       "  </thead>\n",
       "  <tbody>\n",
       "    <tr>\n",
       "      <th>0</th>\n",
       "      <td>Guangdong</td>\n",
       "      <td>109.99</td>\n",
       "      <td>113.0</td>\n",
       "      <td>654.140000</td>\n",
       "      <td>1164.703764</td>\n",
       "    </tr>\n",
       "    <tr>\n",
       "      <th>1</th>\n",
       "      <td>Jiangsu</td>\n",
       "      <td>79.99</td>\n",
       "      <td>27.0</td>\n",
       "      <td>330.960000</td>\n",
       "      <td>1114.767866</td>\n",
       "    </tr>\n",
       "    <tr>\n",
       "      <th>2</th>\n",
       "      <td>Shandong</td>\n",
       "      <td>99.47</td>\n",
       "      <td>12.0</td>\n",
       "      <td>144.310000</td>\n",
       "      <td>979.883609</td>\n",
       "    </tr>\n",
       "    <tr>\n",
       "      <th>3</th>\n",
       "      <td>Zhejiang</td>\n",
       "      <td>55.90</td>\n",
       "      <td>27.0</td>\n",
       "      <td>273.450000</td>\n",
       "      <td>680.649947</td>\n",
       "    </tr>\n",
       "    <tr>\n",
       "      <th>4</th>\n",
       "      <td>Henan</td>\n",
       "      <td>95.32</td>\n",
       "      <td>9.0</td>\n",
       "      <td>45.320000</td>\n",
       "      <td>582.990738</td>\n",
       "    </tr>\n",
       "    <tr>\n",
       "      <th>5</th>\n",
       "      <td>Sichuan</td>\n",
       "      <td>82.62</td>\n",
       "      <td>0.0</td>\n",
       "      <td>26.200000</td>\n",
       "      <td>474.416963</td>\n",
       "    </tr>\n",
       "    <tr>\n",
       "      <th>6</th>\n",
       "      <td>Hubei</td>\n",
       "      <td>58.85</td>\n",
       "      <td>7.0</td>\n",
       "      <td>24.760000</td>\n",
       "      <td>470.540615</td>\n",
       "    </tr>\n",
       "    <tr>\n",
       "      <th>7</th>\n",
       "      <td>Hebei</td>\n",
       "      <td>74.70</td>\n",
       "      <td>5.0</td>\n",
       "      <td>44.000000</td>\n",
       "      <td>461.971161</td>\n",
       "    </tr>\n",
       "    <tr>\n",
       "      <th>8</th>\n",
       "      <td>Hunan</td>\n",
       "      <td>68.22</td>\n",
       "      <td>10.0</td>\n",
       "      <td>14.280000</td>\n",
       "      <td>454.493597</td>\n",
       "    </tr>\n",
       "    <tr>\n",
       "      <th>9</th>\n",
       "      <td>Fujian</td>\n",
       "      <td>38.74</td>\n",
       "      <td>23.0</td>\n",
       "      <td>87.230000</td>\n",
       "      <td>415.012748</td>\n",
       "    </tr>\n",
       "    <tr>\n",
       "      <th>10</th>\n",
       "      <td>Shanghai</td>\n",
       "      <td>24.20</td>\n",
       "      <td>8.0</td>\n",
       "      <td>166.380000</td>\n",
       "      <td>405.910315</td>\n",
       "    </tr>\n",
       "    <tr>\n",
       "      <th>11</th>\n",
       "      <td>Beijing</td>\n",
       "      <td>21.73</td>\n",
       "      <td>1.0</td>\n",
       "      <td>25.460000</td>\n",
       "      <td>369.759871</td>\n",
       "    </tr>\n",
       "    <tr>\n",
       "      <th>12</th>\n",
       "      <td>Anhui</td>\n",
       "      <td>61.96</td>\n",
       "      <td>9.0</td>\n",
       "      <td>25.970000</td>\n",
       "      <td>351.588136</td>\n",
       "    </tr>\n",
       "    <tr>\n",
       "      <th>13</th>\n",
       "      <td>Liaoning</td>\n",
       "      <td>43.78</td>\n",
       "      <td>6.0</td>\n",
       "      <td>44.810000</td>\n",
       "      <td>320.463548</td>\n",
       "    </tr>\n",
       "    <tr>\n",
       "      <th>14</th>\n",
       "      <td>Shaanxi</td>\n",
       "      <td>38.13</td>\n",
       "      <td>2.0</td>\n",
       "      <td>15.800000</td>\n",
       "      <td>279.448582</td>\n",
       "    </tr>\n",
       "    <tr>\n",
       "      <th>15</th>\n",
       "      <td>Jiangxi</td>\n",
       "      <td>45.92</td>\n",
       "      <td>2.0</td>\n",
       "      <td>24.150000</td>\n",
       "      <td>266.475562</td>\n",
       "    </tr>\n",
       "    <tr>\n",
       "      <th>16</th>\n",
       "      <td>Guangxi</td>\n",
       "      <td>48.38</td>\n",
       "      <td>8.0</td>\n",
       "      <td>12.630000</td>\n",
       "      <td>263.862520</td>\n",
       "    </tr>\n",
       "    <tr>\n",
       "      <th>17</th>\n",
       "      <td>Inner Mongolia</td>\n",
       "      <td>25.20</td>\n",
       "      <td>4.0</td>\n",
       "      <td>5.200000</td>\n",
       "      <td>261.132798</td>\n",
       "    </tr>\n",
       "    <tr>\n",
       "      <th>18</th>\n",
       "      <td>Tianjin</td>\n",
       "      <td>15.62</td>\n",
       "      <td>2.0</td>\n",
       "      <td>41.660000</td>\n",
       "      <td>257.636738</td>\n",
       "    </tr>\n",
       "    <tr>\n",
       "      <th>19</th>\n",
       "      <td>Chongqing</td>\n",
       "      <td>30.48</td>\n",
       "      <td>1.0</td>\n",
       "      <td>33.560000</td>\n",
       "      <td>255.550914</td>\n",
       "    </tr>\n",
       "    <tr>\n",
       "      <th>20</th>\n",
       "      <td>Heilongjiang</td>\n",
       "      <td>37.99</td>\n",
       "      <td>3.0</td>\n",
       "      <td>4.920000</td>\n",
       "      <td>221.634664</td>\n",
       "    </tr>\n",
       "    <tr>\n",
       "      <th>21</th>\n",
       "      <td>Yunnan</td>\n",
       "      <td>47.71</td>\n",
       "      <td>1.0</td>\n",
       "      <td>8.860000</td>\n",
       "      <td>213.024877</td>\n",
       "    </tr>\n",
       "    <tr>\n",
       "      <th>22</th>\n",
       "      <td>Jilin</td>\n",
       "      <td>27.33</td>\n",
       "      <td>2.0</td>\n",
       "      <td>4.910000</td>\n",
       "      <td>212.857781</td>\n",
       "    </tr>\n",
       "    <tr>\n",
       "      <th>23</th>\n",
       "      <td>Shanxi</td>\n",
       "      <td>36.82</td>\n",
       "      <td>1.0</td>\n",
       "      <td>12.530000</td>\n",
       "      <td>187.989225</td>\n",
       "    </tr>\n",
       "    <tr>\n",
       "      <th>24</th>\n",
       "      <td>Guizhou</td>\n",
       "      <td>35.55</td>\n",
       "      <td>2.0</td>\n",
       "      <td>3.990000</td>\n",
       "      <td>169.641751</td>\n",
       "    </tr>\n",
       "    <tr>\n",
       "      <th>25</th>\n",
       "      <td>Xinjiang</td>\n",
       "      <td>23.98</td>\n",
       "      <td>2.0</td>\n",
       "      <td>13.910000</td>\n",
       "      <td>139.002607</td>\n",
       "    </tr>\n",
       "    <tr>\n",
       "      <th>26</th>\n",
       "      <td>Gansu</td>\n",
       "      <td>26.10</td>\n",
       "      <td>1.0</td>\n",
       "      <td>1.920000</td>\n",
       "      <td>103.720776</td>\n",
       "    </tr>\n",
       "    <tr>\n",
       "      <th>27</th>\n",
       "      <td>Hainan</td>\n",
       "      <td>9.17</td>\n",
       "      <td>1.0</td>\n",
       "      <td>3.470000</td>\n",
       "      <td>58.385791</td>\n",
       "    </tr>\n",
       "    <tr>\n",
       "      <th>28</th>\n",
       "      <td>Ningxia</td>\n",
       "      <td>6.75</td>\n",
       "      <td>1.0</td>\n",
       "      <td>2.050000</td>\n",
       "      <td>45.643249</td>\n",
       "    </tr>\n",
       "    <tr>\n",
       "      <th>29</th>\n",
       "      <td>Qinghai</td>\n",
       "      <td>5.93</td>\n",
       "      <td>1.0</td>\n",
       "      <td>0.360000</td>\n",
       "      <td>37.056510</td>\n",
       "    </tr>\n",
       "    <tr>\n",
       "      <th>30</th>\n",
       "      <td>Tibet</td>\n",
       "      <td>3.31</td>\n",
       "      <td>0.0</td>\n",
       "      <td>2.592062</td>\n",
       "      <td>16.585759</td>\n",
       "    </tr>\n",
       "  </tbody>\n",
       "</table>\n",
       "</div>"
      ],
      "text/plain": [
       "          province     pop  ports      export      grp usd\n",
       "0        Guangdong  109.99  113.0  654.140000  1164.703764\n",
       "1          Jiangsu   79.99   27.0  330.960000  1114.767866\n",
       "2         Shandong   99.47   12.0  144.310000   979.883609\n",
       "3         Zhejiang   55.90   27.0  273.450000   680.649947\n",
       "4            Henan   95.32    9.0   45.320000   582.990738\n",
       "5          Sichuan   82.62    0.0   26.200000   474.416963\n",
       "6            Hubei   58.85    7.0   24.760000   470.540615\n",
       "7            Hebei   74.70    5.0   44.000000   461.971161\n",
       "8            Hunan   68.22   10.0   14.280000   454.493597\n",
       "9           Fujian   38.74   23.0   87.230000   415.012748\n",
       "10        Shanghai   24.20    8.0  166.380000   405.910315\n",
       "11         Beijing   21.73    1.0   25.460000   369.759871\n",
       "12           Anhui   61.96    9.0   25.970000   351.588136\n",
       "13        Liaoning   43.78    6.0   44.810000   320.463548\n",
       "14         Shaanxi   38.13    2.0   15.800000   279.448582\n",
       "15         Jiangxi   45.92    2.0   24.150000   266.475562\n",
       "16         Guangxi   48.38    8.0   12.630000   263.862520\n",
       "17  Inner Mongolia   25.20    4.0    5.200000   261.132798\n",
       "18         Tianjin   15.62    2.0   41.660000   257.636738\n",
       "19       Chongqing   30.48    1.0   33.560000   255.550914\n",
       "20    Heilongjiang   37.99    3.0    4.920000   221.634664\n",
       "21          Yunnan   47.71    1.0    8.860000   213.024877\n",
       "22           Jilin   27.33    2.0    4.910000   212.857781\n",
       "23          Shanxi   36.82    1.0   12.530000   187.989225\n",
       "24         Guizhou   35.55    2.0    3.990000   169.641751\n",
       "25        Xinjiang   23.98    2.0   13.910000   139.002607\n",
       "26           Gansu   26.10    1.0    1.920000   103.720776\n",
       "27          Hainan    9.17    1.0    3.470000    58.385791\n",
       "28         Ningxia    6.75    1.0    2.050000    45.643249\n",
       "29         Qinghai    5.93    1.0    0.360000    37.056510\n",
       "30           Tibet    3.31    0.0    2.592062    16.585759"
      ]
     },
     "execution_count": 14,
     "metadata": {},
     "output_type": "execute_result"
    }
   ],
   "source": [
    "df"
   ]
  },
  {
   "cell_type": "markdown",
   "metadata": {},
   "source": [
    "To account for differences in GRP between provinces, we take the percentage of exports to total GRP. This will remove biases in large more rich provinces. "
   ]
  },
  {
   "cell_type": "code",
   "execution_count": 15,
   "metadata": {},
   "outputs": [],
   "source": [
    "df['export'] = (df['export'] / df['grp usd'] ) * 100"
   ]
  },
  {
   "cell_type": "code",
   "execution_count": 16,
   "metadata": {
    "scrolled": true
   },
   "outputs": [
    {
     "data": {
      "text/plain": [
       "0     56.163638\n",
       "1     29.688692\n",
       "2     14.727259\n",
       "3     40.174836\n",
       "4      7.773708\n",
       "5      5.522568\n",
       "6      5.262032\n",
       "7      9.524404\n",
       "8      3.141958\n",
       "9     21.018631\n",
       "10    40.989350\n",
       "11     6.885550\n",
       "12     7.386484\n",
       "13    13.982870\n",
       "14     5.653992\n",
       "15     9.062745\n",
       "16     4.786584\n",
       "17     1.991324\n",
       "18    16.170054\n",
       "19    13.132412\n",
       "20     2.219869\n",
       "21     4.159139\n",
       "22     2.306704\n",
       "23     6.665276\n",
       "24     2.352015\n",
       "25    10.007007\n",
       "26     1.851124\n",
       "27     5.943227\n",
       "28     4.491354\n",
       "29     0.971489\n",
       "30    15.628237\n",
       "Name: export, dtype: float64"
      ]
     },
     "execution_count": 16,
     "metadata": {},
     "output_type": "execute_result"
    }
   ],
   "source": [
    "df['export']"
   ]
  },
  {
   "cell_type": "markdown",
   "metadata": {},
   "source": [
    "#### Provincial Geographic Data"
   ]
  },
  {
   "cell_type": "code",
   "execution_count": 17,
   "metadata": {},
   "outputs": [],
   "source": [
    "geo_url= \"https://raw.githubusercontent.com/jdupes/Data_Final_Project/master/geo.csv\"\n",
    "\n",
    "geo = pd.read_csv(geo_url)  "
   ]
  },
  {
   "cell_type": "code",
   "execution_count": 18,
   "metadata": {},
   "outputs": [
    {
     "data": {
      "text/html": [
       "<div>\n",
       "<style scoped>\n",
       "    .dataframe tbody tr th:only-of-type {\n",
       "        vertical-align: middle;\n",
       "    }\n",
       "\n",
       "    .dataframe tbody tr th {\n",
       "        vertical-align: top;\n",
       "    }\n",
       "\n",
       "    .dataframe thead th {\n",
       "        text-align: right;\n",
       "    }\n",
       "</style>\n",
       "<table border=\"1\" class=\"dataframe\">\n",
       "  <thead>\n",
       "    <tr style=\"text-align: right;\">\n",
       "      <th></th>\n",
       "      <th>NK</th>\n",
       "      <th>Burma</th>\n",
       "      <th>HK</th>\n",
       "    </tr>\n",
       "  </thead>\n",
       "  <tbody>\n",
       "    <tr>\n",
       "      <th>0</th>\n",
       "      <td>2,080</td>\n",
       "      <td>1,611</td>\n",
       "      <td>115</td>\n",
       "    </tr>\n",
       "    <tr>\n",
       "      <th>1</th>\n",
       "      <td>848</td>\n",
       "      <td>2,461</td>\n",
       "      <td>1,320</td>\n",
       "    </tr>\n",
       "    <tr>\n",
       "      <th>2</th>\n",
       "      <td>776</td>\n",
       "      <td>2,460</td>\n",
       "      <td>1,547</td>\n",
       "    </tr>\n",
       "    <tr>\n",
       "      <th>3</th>\n",
       "      <td>1,231</td>\n",
       "      <td>2,309</td>\n",
       "      <td>942</td>\n",
       "    </tr>\n",
       "    <tr>\n",
       "      <th>4</th>\n",
       "      <td>1,224</td>\n",
       "      <td>2,020</td>\n",
       "      <td>1,326</td>\n",
       "    </tr>\n",
       "  </tbody>\n",
       "</table>\n",
       "</div>"
      ],
      "text/plain": [
       "      NK  Burma     HK\n",
       "0  2,080  1,611    115\n",
       "1    848  2,461  1,320\n",
       "2    776  2,460  1,547\n",
       "3  1,231  2,309    942\n",
       "4  1,224  2,020  1,326"
      ]
     },
     "execution_count": 18,
     "metadata": {},
     "output_type": "execute_result"
    }
   ],
   "source": [
    "geo.head()"
   ]
  },
  {
   "cell_type": "markdown",
   "metadata": {},
   "source": [
    "Cleaning: \n",
    "    The variables in the datasets are strings, that include commas.\n",
    "    \n",
    "    We first have to delete all commas from each column. \n",
    "    Secondly, we have to convert the strings into floats."
   ]
  },
  {
   "cell_type": "code",
   "execution_count": 19,
   "metadata": {},
   "outputs": [],
   "source": [
    "geo['NK'] = geo['NK'].str.replace(',', '')\n",
    "geo['NK'] = geo['NK'].astype(float)\n",
    "geo['Burma'] = geo['Burma'].str.replace(',', '')\n",
    "geo['Burma'] = geo['Burma'].astype(float)\n",
    "geo['HK'] = geo['HK'].str.replace(',', '')\n",
    "geo['HK'] = geo['HK'].astype(float)"
   ]
  },
  {
   "cell_type": "code",
   "execution_count": 20,
   "metadata": {},
   "outputs": [
    {
     "data": {
      "text/plain": [
       "NK       float64\n",
       "Burma    float64\n",
       "HK       float64\n",
       "dtype: object"
      ]
     },
     "execution_count": 20,
     "metadata": {},
     "output_type": "execute_result"
    }
   ],
   "source": [
    "geo.dtypes"
   ]
  },
  {
   "cell_type": "markdown",
   "metadata": {},
   "source": [
    "#### Provincial Corruption Data"
   ]
  },
  {
   "cell_type": "code",
   "execution_count": 21,
   "metadata": {},
   "outputs": [],
   "source": [
    "corrupt_url = \"https://raw.githubusercontent.com/Shawn-Shinder/Data_Project/c/corrupt.csv\"\n",
    "corrupt = pd.read_csv(corrupt_url)"
   ]
  },
  {
   "cell_type": "markdown",
   "metadata": {},
   "source": [
    "We have now added our corruption variables as a csv. Our data is segmented into years (2001-2003) and is calculated in corruption arrests per 100000 people. "
   ]
  },
  {
   "cell_type": "markdown",
   "metadata": {},
   "source": [
    "#### Rationale for Corruption Data"
   ]
  },
  {
   "cell_type": "markdown",
   "metadata": {},
   "source": [
    "Objective methods of measuring corruption differ between scholars. Some, such as Zhu, go for the direct approach. Zhu uses the exact amount of people arrested on corruption charges by province.  However, the direct usage of law enforcement statistics in operationalization is problematic due to the nature of law enforcement in China. There are concerns regarding police targeting suspects who are directly opposed to the current regime, and anti-corruption campaigns are frequently associated with a restructuring of the distributions of power.\n",
    "\n",
    "This paper operationalizes corruption using the methods of Cole, Elliott, and Zhang.  Their paper, in an attempt to determine the variables responsible for flows of FDI, has created a novel measurement for corruption. Zhu established the expectation that the most corrupt provinces have the most arrests, but in reality, with an opaque legal system in place, China should exhibit a reverse relationship. The theory is consistent with Shleifer and Vishny’s analysis that provinces should experience corruption in a self-reinforcing manner, where one corrupt official incentivizes other officials to act in a similar manner in order to maximize individual returns.  Therefore, when considering that each provincial official in China experiences the same incentives to commit corrupt activities, we can derive a constant provincial supply curve for corruption.  The demand curve is the demand for each provincial leader to address the problems of corruption. The equilibrium point in such a relationship is the total amount of arrests per capita. When a province is less corrupt, we expect there would be more arrests, as there is greater dedication to addressing the problems of corruption. The opposite is true for the most corrupt provinces. \n",
    "\n",
    "We operationalized corruption in terms of a ranking between provinces. Our data uses the amount of arrests related to corruption per 100,000 people, per province. To include a more diverse amount of time periods, we included the rankings for three time periods. The rankings for the three time periods are then averaged out to create a final ranking which is put into our model. The source of this information is China’s Supreme People’s Procuratorate (SPP), which is cited in Cole, Elliot, and Zhang’s study.\n"
   ]
  },
  {
   "cell_type": "code",
   "execution_count": 22,
   "metadata": {},
   "outputs": [
    {
     "data": {
      "text/html": [
       "<div>\n",
       "<style scoped>\n",
       "    .dataframe tbody tr th:only-of-type {\n",
       "        vertical-align: middle;\n",
       "    }\n",
       "\n",
       "    .dataframe tbody tr th {\n",
       "        vertical-align: top;\n",
       "    }\n",
       "\n",
       "    .dataframe thead th {\n",
       "        text-align: right;\n",
       "    }\n",
       "</style>\n",
       "<table border=\"1\" class=\"dataframe\">\n",
       "  <thead>\n",
       "    <tr style=\"text-align: right;\">\n",
       "      <th></th>\n",
       "      <th>corrupt 2001</th>\n",
       "      <th>corrupt 2002</th>\n",
       "      <th>corrupt 2003</th>\n",
       "    </tr>\n",
       "  </thead>\n",
       "  <tbody>\n",
       "    <tr>\n",
       "      <th>0</th>\n",
       "      <td>2.28</td>\n",
       "      <td>2.32</td>\n",
       "      <td>1.99</td>\n",
       "    </tr>\n",
       "    <tr>\n",
       "      <th>1</th>\n",
       "      <td>3.31</td>\n",
       "      <td>3.30</td>\n",
       "      <td>3.03</td>\n",
       "    </tr>\n",
       "    <tr>\n",
       "      <th>2</th>\n",
       "      <td>4.50</td>\n",
       "      <td>6.09</td>\n",
       "      <td>3.06</td>\n",
       "    </tr>\n",
       "    <tr>\n",
       "      <th>3</th>\n",
       "      <td>3.16</td>\n",
       "      <td>3.12</td>\n",
       "      <td>2.98</td>\n",
       "    </tr>\n",
       "    <tr>\n",
       "      <th>4</th>\n",
       "      <td>3.86</td>\n",
       "      <td>3.76</td>\n",
       "      <td>3.34</td>\n",
       "    </tr>\n",
       "  </tbody>\n",
       "</table>\n",
       "</div>"
      ],
      "text/plain": [
       "   corrupt 2001  corrupt 2002  corrupt 2003\n",
       "0          2.28          2.32          1.99\n",
       "1          3.31          3.30          3.03\n",
       "2          4.50          6.09          3.06\n",
       "3          3.16          3.12          2.98\n",
       "4          3.86          3.76          3.34"
      ]
     },
     "execution_count": 22,
     "metadata": {},
     "output_type": "execute_result"
    }
   ],
   "source": [
    "corrupt.head()"
   ]
  },
  {
   "cell_type": "code",
   "execution_count": 23,
   "metadata": {},
   "outputs": [
    {
     "data": {
      "text/plain": [
       "corrupt 2001    float64\n",
       "corrupt 2002    float64\n",
       "corrupt 2003    float64\n",
       "dtype: object"
      ]
     },
     "execution_count": 23,
     "metadata": {},
     "output_type": "execute_result"
    }
   ],
   "source": [
    "corrupt.dtypes"
   ]
  },
  {
   "cell_type": "markdown",
   "metadata": {},
   "source": [
    "We now attempt to rank these results by their size in each year. "
   ]
  },
  {
   "cell_type": "code",
   "execution_count": 1,
   "metadata": {},
   "outputs": [
    {
     "ename": "NameError",
     "evalue": "name 'corrupt' is not defined",
     "output_type": "error",
     "traceback": [
      "\u001b[1;31m---------------------------------------------------------------------------\u001b[0m",
      "\u001b[1;31mNameError\u001b[0m                                 Traceback (most recent call last)",
      "\u001b[1;32m<ipython-input-1-e82d65e9e825>\u001b[0m in \u001b[0;36m<module>\u001b[1;34m()\u001b[0m\n\u001b[1;32m----> 1\u001b[1;33m \u001b[0mcorrupt\u001b[0m\u001b[1;33m[\u001b[0m\u001b[1;34m'corrupt 2001'\u001b[0m\u001b[1;33m]\u001b[0m \u001b[1;33m=\u001b[0m \u001b[0mcorrupt\u001b[0m\u001b[1;33m[\u001b[0m\u001b[1;34m'corrupt 2001'\u001b[0m\u001b[1;33m]\u001b[0m\u001b[1;33m.\u001b[0m\u001b[0mrank\u001b[0m\u001b[1;33m(\u001b[0m\u001b[0maxis\u001b[0m\u001b[1;33m=\u001b[0m \u001b[1;36m0\u001b[0m\u001b[1;33m,\u001b[0m \u001b[0mmethod\u001b[0m\u001b[1;33m=\u001b[0m \u001b[1;34m\"min\"\u001b[0m\u001b[1;33m,\u001b[0m \u001b[0mascending\u001b[0m \u001b[1;33m=\u001b[0m \u001b[1;32mFalse\u001b[0m\u001b[1;33m)\u001b[0m\u001b[1;33m\u001b[0m\u001b[0m\n\u001b[0m\u001b[0;32m      2\u001b[0m \u001b[1;33m\u001b[0m\u001b[0m\n\u001b[0;32m      3\u001b[0m \u001b[1;31m# This ranks the entries for 2001 in descending order, and specifices that if\u001b[0m\u001b[1;33m\u001b[0m\u001b[1;33m\u001b[0m\u001b[0m\n\u001b[0;32m      4\u001b[0m \u001b[1;31m# there are twomatching entries it will take the minimum value. Then it skips the next rank\u001b[0m\u001b[1;33m\u001b[0m\u001b[1;33m\u001b[0m\u001b[0m\n",
      "\u001b[1;31mNameError\u001b[0m: name 'corrupt' is not defined"
     ]
    }
   ],
   "source": [
    "corrupt['corrupt 2001'] = corrupt['corrupt 2001'].rank(axis= 0, method= \"min\", ascending = False)\n",
    "\n",
    "# This ranks the entries for 2001 in descending order, and specifices that if  \n",
    "# there are two matching entries it will take the minimum value. Then it skips the next rank"
   ]
  },
  {
   "cell_type": "code",
   "execution_count": 25,
   "metadata": {},
   "outputs": [],
   "source": [
    "corrupt['corrupt 2002'] = corrupt['corrupt 2002'].rank(axis= 0, method= \"min\", ascending = False)\n",
    "# This now ranks the entries for 2002 under the same assumption"
   ]
  },
  {
   "cell_type": "code",
   "execution_count": 26,
   "metadata": {},
   "outputs": [],
   "source": [
    "corrupt['corrupt 2003'] = corrupt['corrupt 2003'].rank(axis= 0, method= \"min\", ascending = False)\n",
    "#Ranks the entries for 2003 under the same assumption"
   ]
  },
  {
   "cell_type": "code",
   "execution_count": 27,
   "metadata": {},
   "outputs": [
    {
     "data": {
      "text/html": [
       "<div>\n",
       "<style scoped>\n",
       "    .dataframe tbody tr th:only-of-type {\n",
       "        vertical-align: middle;\n",
       "    }\n",
       "\n",
       "    .dataframe tbody tr th {\n",
       "        vertical-align: top;\n",
       "    }\n",
       "\n",
       "    .dataframe thead th {\n",
       "        text-align: right;\n",
       "    }\n",
       "</style>\n",
       "<table border=\"1\" class=\"dataframe\">\n",
       "  <thead>\n",
       "    <tr style=\"text-align: right;\">\n",
       "      <th></th>\n",
       "      <th>corrupt 2001</th>\n",
       "      <th>corrupt 2002</th>\n",
       "      <th>corrupt 2003</th>\n",
       "    </tr>\n",
       "  </thead>\n",
       "  <tbody>\n",
       "    <tr>\n",
       "      <th>0</th>\n",
       "      <td>29.0</td>\n",
       "      <td>29.0</td>\n",
       "      <td>29.0</td>\n",
       "    </tr>\n",
       "    <tr>\n",
       "      <th>1</th>\n",
       "      <td>15.0</td>\n",
       "      <td>11.0</td>\n",
       "      <td>13.0</td>\n",
       "    </tr>\n",
       "    <tr>\n",
       "      <th>2</th>\n",
       "      <td>4.0</td>\n",
       "      <td>2.0</td>\n",
       "      <td>12.0</td>\n",
       "    </tr>\n",
       "    <tr>\n",
       "      <th>3</th>\n",
       "      <td>18.0</td>\n",
       "      <td>18.0</td>\n",
       "      <td>14.0</td>\n",
       "    </tr>\n",
       "    <tr>\n",
       "      <th>4</th>\n",
       "      <td>7.0</td>\n",
       "      <td>8.0</td>\n",
       "      <td>8.0</td>\n",
       "    </tr>\n",
       "  </tbody>\n",
       "</table>\n",
       "</div>"
      ],
      "text/plain": [
       "   corrupt 2001  corrupt 2002  corrupt 2003\n",
       "0          29.0          29.0          29.0\n",
       "1          15.0          11.0          13.0\n",
       "2           4.0           2.0          12.0\n",
       "3          18.0          18.0          14.0\n",
       "4           7.0           8.0           8.0"
      ]
     },
     "execution_count": 27,
     "metadata": {},
     "output_type": "execute_result"
    }
   ],
   "source": [
    "corrupt.head()"
   ]
  },
  {
   "cell_type": "markdown",
   "metadata": {},
   "source": [
    "We now can take the mean of each column in order to continue our calculations with only one variable."
   ]
  },
  {
   "cell_type": "code",
   "execution_count": 28,
   "metadata": {},
   "outputs": [],
   "source": [
    "corrupt['average']= round(corrupt.mean(axis=1,skipna=True),2)"
   ]
  },
  {
   "cell_type": "code",
   "execution_count": 29,
   "metadata": {},
   "outputs": [
    {
     "data": {
      "text/html": [
       "<div>\n",
       "<style scoped>\n",
       "    .dataframe tbody tr th:only-of-type {\n",
       "        vertical-align: middle;\n",
       "    }\n",
       "\n",
       "    .dataframe tbody tr th {\n",
       "        vertical-align: top;\n",
       "    }\n",
       "\n",
       "    .dataframe thead th {\n",
       "        text-align: right;\n",
       "    }\n",
       "</style>\n",
       "<table border=\"1\" class=\"dataframe\">\n",
       "  <thead>\n",
       "    <tr style=\"text-align: right;\">\n",
       "      <th></th>\n",
       "      <th>corrupt 2001</th>\n",
       "      <th>corrupt 2002</th>\n",
       "      <th>corrupt 2003</th>\n",
       "      <th>average</th>\n",
       "    </tr>\n",
       "  </thead>\n",
       "  <tbody>\n",
       "    <tr>\n",
       "      <th>0</th>\n",
       "      <td>29.0</td>\n",
       "      <td>29.0</td>\n",
       "      <td>29.0</td>\n",
       "      <td>29.00</td>\n",
       "    </tr>\n",
       "    <tr>\n",
       "      <th>1</th>\n",
       "      <td>15.0</td>\n",
       "      <td>11.0</td>\n",
       "      <td>13.0</td>\n",
       "      <td>13.00</td>\n",
       "    </tr>\n",
       "    <tr>\n",
       "      <th>2</th>\n",
       "      <td>4.0</td>\n",
       "      <td>2.0</td>\n",
       "      <td>12.0</td>\n",
       "      <td>6.00</td>\n",
       "    </tr>\n",
       "    <tr>\n",
       "      <th>3</th>\n",
       "      <td>18.0</td>\n",
       "      <td>18.0</td>\n",
       "      <td>14.0</td>\n",
       "      <td>16.67</td>\n",
       "    </tr>\n",
       "    <tr>\n",
       "      <th>4</th>\n",
       "      <td>7.0</td>\n",
       "      <td>8.0</td>\n",
       "      <td>8.0</td>\n",
       "      <td>7.67</td>\n",
       "    </tr>\n",
       "  </tbody>\n",
       "</table>\n",
       "</div>"
      ],
      "text/plain": [
       "   corrupt 2001  corrupt 2002  corrupt 2003  average\n",
       "0          29.0          29.0          29.0    29.00\n",
       "1          15.0          11.0          13.0    13.00\n",
       "2           4.0           2.0          12.0     6.00\n",
       "3          18.0          18.0          14.0    16.67\n",
       "4           7.0           8.0           8.0     7.67"
      ]
     },
     "execution_count": 29,
     "metadata": {},
     "output_type": "execute_result"
    }
   ],
   "source": [
    "corrupt.head()"
   ]
  },
  {
   "cell_type": "markdown",
   "metadata": {},
   "source": [
    "We will now drop the rest of the yearly data "
   ]
  },
  {
   "cell_type": "code",
   "execution_count": 30,
   "metadata": {},
   "outputs": [],
   "source": [
    "corrupt.drop(labels = ['corrupt 2001', 'corrupt 2002', 'corrupt 2003'], axis= 1, inplace=True)"
   ]
  },
  {
   "cell_type": "code",
   "execution_count": 31,
   "metadata": {},
   "outputs": [
    {
     "data": {
      "text/html": [
       "<div>\n",
       "<style scoped>\n",
       "    .dataframe tbody tr th:only-of-type {\n",
       "        vertical-align: middle;\n",
       "    }\n",
       "\n",
       "    .dataframe tbody tr th {\n",
       "        vertical-align: top;\n",
       "    }\n",
       "\n",
       "    .dataframe thead th {\n",
       "        text-align: right;\n",
       "    }\n",
       "</style>\n",
       "<table border=\"1\" class=\"dataframe\">\n",
       "  <thead>\n",
       "    <tr style=\"text-align: right;\">\n",
       "      <th></th>\n",
       "      <th>average</th>\n",
       "    </tr>\n",
       "  </thead>\n",
       "  <tbody>\n",
       "    <tr>\n",
       "      <th>0</th>\n",
       "      <td>29.00</td>\n",
       "    </tr>\n",
       "    <tr>\n",
       "      <th>1</th>\n",
       "      <td>13.00</td>\n",
       "    </tr>\n",
       "    <tr>\n",
       "      <th>2</th>\n",
       "      <td>6.00</td>\n",
       "    </tr>\n",
       "    <tr>\n",
       "      <th>3</th>\n",
       "      <td>16.67</td>\n",
       "    </tr>\n",
       "    <tr>\n",
       "      <th>4</th>\n",
       "      <td>7.67</td>\n",
       "    </tr>\n",
       "  </tbody>\n",
       "</table>\n",
       "</div>"
      ],
      "text/plain": [
       "   average\n",
       "0    29.00\n",
       "1    13.00\n",
       "2     6.00\n",
       "3    16.67\n",
       "4     7.67"
      ]
     },
     "execution_count": 31,
     "metadata": {},
     "output_type": "execute_result"
    }
   ],
   "source": [
    "corrupt.head()"
   ]
  },
  {
   "cell_type": "markdown",
   "metadata": {},
   "source": [
    "#### Production Data"
   ]
  },
  {
   "cell_type": "code",
   "execution_count": 32,
   "metadata": {},
   "outputs": [],
   "source": [
    "product_url= \"https://raw.githubusercontent.com/jdupes/Data_Final_Project/master/product.csv\"\n",
    "\n",
    "product= pd.read_csv(product_url)  "
   ]
  },
  {
   "cell_type": "markdown",
   "metadata": {},
   "source": [
    "#### Rationale for Production Data"
   ]
  },
  {
   "cell_type": "markdown",
   "metadata": {},
   "source": [
    "We operationalize production using drug production arrest data available from the Supreme People's Court. The Chinese government publishes criminal and civil cases online through an online database. Our model uses the percentage of drug production cases out of total arrests in every province (we also incorporate a scaling factor of 1,000 to allow for better readability). We believe that creating a proxy is necessary, because using the raw number of production arrests will fail to account for sizes of provinces, and most importantly, the efficacy of the police department. A police department that is incapable of enforcing drug crimes should be just as inept at policing regular crimes. When considering both total arrests and drug arrests together, we can avoid biases caused by different police forces around the country. The proxy we use is not the actual amount of meth being produced, but how many of total criminals are associated with drug production. This measure assesses both the profitability and the opportunity for meth production, which we assume should be highly correlated to production, as any opportunities should be seized by rational actors. We assume there is uniform incentive between provinces to tamper with case data. If every province is incentivized to lower the amount of cases, there will still be a trend that emerges across geographic divides. The main problem associated with this variable is the weight that some smaller provinces may end up carrying. In these cases, although it is clear that small provinces are not capable of out-producing larger provinces, they may have a much higher incentive to produce. Therefore, we will keep in mind size of provinces when proceeding into our Analysis and Discussion components. \n"
   ]
  },
  {
   "cell_type": "code",
   "execution_count": 33,
   "metadata": {},
   "outputs": [
    {
     "data": {
      "text/plain": [
       "arr        object\n",
       "prodarr    object\n",
       "dtype: object"
      ]
     },
     "execution_count": 33,
     "metadata": {},
     "output_type": "execute_result"
    }
   ],
   "source": [
    "product.dtypes"
   ]
  },
  {
   "cell_type": "code",
   "execution_count": 34,
   "metadata": {
    "scrolled": true
   },
   "outputs": [],
   "source": [
    "product['arr'] = product['arr'].str.replace(',', '')\n",
    "product['arr'] = product['arr'].astype(float)\n",
    "product['prodarr'] = product['prodarr'].str.replace(',', '')\n",
    "product['prodarr'] = product['prodarr'].astype(float)"
   ]
  },
  {
   "cell_type": "code",
   "execution_count": 35,
   "metadata": {},
   "outputs": [
    {
     "data": {
      "text/plain": [
       "arr        float64\n",
       "prodarr    float64\n",
       "dtype: object"
      ]
     },
     "execution_count": 35,
     "metadata": {},
     "output_type": "execute_result"
    }
   ],
   "source": [
    "product.dtypes"
   ]
  },
  {
   "cell_type": "code",
   "execution_count": 36,
   "metadata": {},
   "outputs": [
    {
     "data": {
      "text/html": [
       "<div>\n",
       "<style scoped>\n",
       "    .dataframe tbody tr th:only-of-type {\n",
       "        vertical-align: middle;\n",
       "    }\n",
       "\n",
       "    .dataframe tbody tr th {\n",
       "        vertical-align: top;\n",
       "    }\n",
       "\n",
       "    .dataframe thead th {\n",
       "        text-align: right;\n",
       "    }\n",
       "</style>\n",
       "<table border=\"1\" class=\"dataframe\">\n",
       "  <thead>\n",
       "    <tr style=\"text-align: right;\">\n",
       "      <th></th>\n",
       "      <th>arr</th>\n",
       "      <th>prodarr</th>\n",
       "    </tr>\n",
       "  </thead>\n",
       "  <tbody>\n",
       "    <tr>\n",
       "      <th>0</th>\n",
       "      <td>2527598.0</td>\n",
       "      <td>24399.0</td>\n",
       "    </tr>\n",
       "    <tr>\n",
       "      <th>1</th>\n",
       "      <td>3117415.0</td>\n",
       "      <td>3737.0</td>\n",
       "    </tr>\n",
       "    <tr>\n",
       "      <th>2</th>\n",
       "      <td>794559.0</td>\n",
       "      <td>2225.0</td>\n",
       "    </tr>\n",
       "    <tr>\n",
       "      <th>3</th>\n",
       "      <td>3734768.0</td>\n",
       "      <td>4277.0</td>\n",
       "    </tr>\n",
       "    <tr>\n",
       "      <th>4</th>\n",
       "      <td>3077134.0</td>\n",
       "      <td>570.0</td>\n",
       "    </tr>\n",
       "  </tbody>\n",
       "</table>\n",
       "</div>"
      ],
      "text/plain": [
       "         arr  prodarr\n",
       "0  2527598.0  24399.0\n",
       "1  3117415.0   3737.0\n",
       "2   794559.0   2225.0\n",
       "3  3734768.0   4277.0\n",
       "4  3077134.0    570.0"
      ]
     },
     "execution_count": 36,
     "metadata": {},
     "output_type": "execute_result"
    }
   ],
   "source": [
    "product.head()"
   ]
  },
  {
   "cell_type": "code",
   "execution_count": 37,
   "metadata": {},
   "outputs": [],
   "source": [
    "product ['prod'] = product ['prodarr'] / product['arr']"
   ]
  },
  {
   "cell_type": "code",
   "execution_count": 38,
   "metadata": {},
   "outputs": [
    {
     "data": {
      "text/html": [
       "<div>\n",
       "<style scoped>\n",
       "    .dataframe tbody tr th:only-of-type {\n",
       "        vertical-align: middle;\n",
       "    }\n",
       "\n",
       "    .dataframe tbody tr th {\n",
       "        vertical-align: top;\n",
       "    }\n",
       "\n",
       "    .dataframe thead th {\n",
       "        text-align: right;\n",
       "    }\n",
       "</style>\n",
       "<table border=\"1\" class=\"dataframe\">\n",
       "  <thead>\n",
       "    <tr style=\"text-align: right;\">\n",
       "      <th></th>\n",
       "      <th>arr</th>\n",
       "      <th>prodarr</th>\n",
       "      <th>prod</th>\n",
       "    </tr>\n",
       "  </thead>\n",
       "  <tbody>\n",
       "    <tr>\n",
       "      <th>0</th>\n",
       "      <td>2527598.0</td>\n",
       "      <td>24399.0</td>\n",
       "      <td>0.009653</td>\n",
       "    </tr>\n",
       "    <tr>\n",
       "      <th>1</th>\n",
       "      <td>3117415.0</td>\n",
       "      <td>3737.0</td>\n",
       "      <td>0.001199</td>\n",
       "    </tr>\n",
       "    <tr>\n",
       "      <th>2</th>\n",
       "      <td>794559.0</td>\n",
       "      <td>2225.0</td>\n",
       "      <td>0.002800</td>\n",
       "    </tr>\n",
       "    <tr>\n",
       "      <th>3</th>\n",
       "      <td>3734768.0</td>\n",
       "      <td>4277.0</td>\n",
       "      <td>0.001145</td>\n",
       "    </tr>\n",
       "    <tr>\n",
       "      <th>4</th>\n",
       "      <td>3077134.0</td>\n",
       "      <td>570.0</td>\n",
       "      <td>0.000185</td>\n",
       "    </tr>\n",
       "  </tbody>\n",
       "</table>\n",
       "</div>"
      ],
      "text/plain": [
       "         arr  prodarr      prod\n",
       "0  2527598.0  24399.0  0.009653\n",
       "1  3117415.0   3737.0  0.001199\n",
       "2   794559.0   2225.0  0.002800\n",
       "3  3734768.0   4277.0  0.001145\n",
       "4  3077134.0    570.0  0.000185"
      ]
     },
     "execution_count": 38,
     "metadata": {},
     "output_type": "execute_result"
    }
   ],
   "source": [
    "product.head()"
   ]
  },
  {
   "cell_type": "code",
   "execution_count": 39,
   "metadata": {},
   "outputs": [],
   "source": [
    "product.drop(labels = ['arr','prodarr'], axis = 1, inplace= True)"
   ]
  },
  {
   "cell_type": "code",
   "execution_count": 40,
   "metadata": {},
   "outputs": [],
   "source": [
    "product ['prod'] = product ['prod'] * 1000"
   ]
  },
  {
   "cell_type": "code",
   "execution_count": 41,
   "metadata": {},
   "outputs": [
    {
     "data": {
      "text/html": [
       "<div>\n",
       "<style scoped>\n",
       "    .dataframe tbody tr th:only-of-type {\n",
       "        vertical-align: middle;\n",
       "    }\n",
       "\n",
       "    .dataframe tbody tr th {\n",
       "        vertical-align: top;\n",
       "    }\n",
       "\n",
       "    .dataframe thead th {\n",
       "        text-align: right;\n",
       "    }\n",
       "</style>\n",
       "<table border=\"1\" class=\"dataframe\">\n",
       "  <thead>\n",
       "    <tr style=\"text-align: right;\">\n",
       "      <th></th>\n",
       "      <th>prod</th>\n",
       "    </tr>\n",
       "  </thead>\n",
       "  <tbody>\n",
       "    <tr>\n",
       "      <th>0</th>\n",
       "      <td>9.653038</td>\n",
       "    </tr>\n",
       "    <tr>\n",
       "      <th>1</th>\n",
       "      <td>1.198750</td>\n",
       "    </tr>\n",
       "    <tr>\n",
       "      <th>2</th>\n",
       "      <td>2.800296</td>\n",
       "    </tr>\n",
       "    <tr>\n",
       "      <th>3</th>\n",
       "      <td>1.145185</td>\n",
       "    </tr>\n",
       "    <tr>\n",
       "      <th>4</th>\n",
       "      <td>0.185237</td>\n",
       "    </tr>\n",
       "  </tbody>\n",
       "</table>\n",
       "</div>"
      ],
      "text/plain": [
       "       prod\n",
       "0  9.653038\n",
       "1  1.198750\n",
       "2  2.800296\n",
       "3  1.145185\n",
       "4  0.185237"
      ]
     },
     "execution_count": 41,
     "metadata": {},
     "output_type": "execute_result"
    }
   ],
   "source": [
    "product.head()"
   ]
  },
  {
   "cell_type": "markdown",
   "metadata": {},
   "source": [
    "### Making Master Data\n",
    "\n",
    "We shall now merge the various data frames together in order to create one master data frame."
   ]
  },
  {
   "cell_type": "code",
   "execution_count": 42,
   "metadata": {},
   "outputs": [],
   "source": [
    "merge = pd.merge(df, geo, how='outer', left_index=True , right_index=True, sort=True)"
   ]
  },
  {
   "cell_type": "code",
   "execution_count": 43,
   "metadata": {
    "scrolled": true
   },
   "outputs": [
    {
     "data": {
      "text/html": [
       "<div>\n",
       "<style scoped>\n",
       "    .dataframe tbody tr th:only-of-type {\n",
       "        vertical-align: middle;\n",
       "    }\n",
       "\n",
       "    .dataframe tbody tr th {\n",
       "        vertical-align: top;\n",
       "    }\n",
       "\n",
       "    .dataframe thead th {\n",
       "        text-align: right;\n",
       "    }\n",
       "</style>\n",
       "<table border=\"1\" class=\"dataframe\">\n",
       "  <thead>\n",
       "    <tr style=\"text-align: right;\">\n",
       "      <th></th>\n",
       "      <th>province</th>\n",
       "      <th>pop</th>\n",
       "      <th>ports</th>\n",
       "      <th>export</th>\n",
       "      <th>grp usd</th>\n",
       "      <th>NK</th>\n",
       "      <th>Burma</th>\n",
       "      <th>HK</th>\n",
       "    </tr>\n",
       "  </thead>\n",
       "  <tbody>\n",
       "    <tr>\n",
       "      <th>0</th>\n",
       "      <td>Guangdong</td>\n",
       "      <td>109.99</td>\n",
       "      <td>113.0</td>\n",
       "      <td>56.163638</td>\n",
       "      <td>1164.703764</td>\n",
       "      <td>2080.0</td>\n",
       "      <td>1611.0</td>\n",
       "      <td>115.0</td>\n",
       "    </tr>\n",
       "    <tr>\n",
       "      <th>1</th>\n",
       "      <td>Jiangsu</td>\n",
       "      <td>79.99</td>\n",
       "      <td>27.0</td>\n",
       "      <td>29.688692</td>\n",
       "      <td>1114.767866</td>\n",
       "      <td>848.0</td>\n",
       "      <td>2461.0</td>\n",
       "      <td>1320.0</td>\n",
       "    </tr>\n",
       "    <tr>\n",
       "      <th>2</th>\n",
       "      <td>Shandong</td>\n",
       "      <td>99.47</td>\n",
       "      <td>12.0</td>\n",
       "      <td>14.727259</td>\n",
       "      <td>979.883609</td>\n",
       "      <td>776.0</td>\n",
       "      <td>2460.0</td>\n",
       "      <td>1547.0</td>\n",
       "    </tr>\n",
       "    <tr>\n",
       "      <th>3</th>\n",
       "      <td>Zhejiang</td>\n",
       "      <td>55.90</td>\n",
       "      <td>27.0</td>\n",
       "      <td>40.174836</td>\n",
       "      <td>680.649947</td>\n",
       "      <td>1231.0</td>\n",
       "      <td>2309.0</td>\n",
       "      <td>942.0</td>\n",
       "    </tr>\n",
       "    <tr>\n",
       "      <th>4</th>\n",
       "      <td>Henan</td>\n",
       "      <td>95.32</td>\n",
       "      <td>9.0</td>\n",
       "      <td>7.773708</td>\n",
       "      <td>582.990738</td>\n",
       "      <td>1224.0</td>\n",
       "      <td>2020.0</td>\n",
       "      <td>1326.0</td>\n",
       "    </tr>\n",
       "    <tr>\n",
       "      <th>5</th>\n",
       "      <td>Sichuan</td>\n",
       "      <td>82.62</td>\n",
       "      <td>0.0</td>\n",
       "      <td>5.522568</td>\n",
       "      <td>474.416963</td>\n",
       "      <td>2309.0</td>\n",
       "      <td>1028.0</td>\n",
       "      <td>1426.0</td>\n",
       "    </tr>\n",
       "    <tr>\n",
       "      <th>6</th>\n",
       "      <td>Hubei</td>\n",
       "      <td>58.85</td>\n",
       "      <td>7.0</td>\n",
       "      <td>5.262032</td>\n",
       "      <td>470.540615</td>\n",
       "      <td>1540.0</td>\n",
       "      <td>1705.0</td>\n",
       "      <td>947.0</td>\n",
       "    </tr>\n",
       "    <tr>\n",
       "      <th>7</th>\n",
       "      <td>Hebei</td>\n",
       "      <td>74.70</td>\n",
       "      <td>5.0</td>\n",
       "      <td>9.524404</td>\n",
       "      <td>461.971161</td>\n",
       "      <td>954.0</td>\n",
       "      <td>2386.0</td>\n",
       "      <td>1727.0</td>\n",
       "    </tr>\n",
       "    <tr>\n",
       "      <th>8</th>\n",
       "      <td>Hunan</td>\n",
       "      <td>68.22</td>\n",
       "      <td>10.0</td>\n",
       "      <td>3.141958</td>\n",
       "      <td>454.493597</td>\n",
       "      <td>1809.0</td>\n",
       "      <td>1518.0</td>\n",
       "      <td>625.0</td>\n",
       "    </tr>\n",
       "    <tr>\n",
       "      <th>9</th>\n",
       "      <td>Fujian</td>\n",
       "      <td>38.74</td>\n",
       "      <td>23.0</td>\n",
       "      <td>21.018631</td>\n",
       "      <td>415.012748</td>\n",
       "      <td>1577.0</td>\n",
       "      <td>2066.0</td>\n",
       "      <td>597.0</td>\n",
       "    </tr>\n",
       "    <tr>\n",
       "      <th>10</th>\n",
       "      <td>Shanghai</td>\n",
       "      <td>24.20</td>\n",
       "      <td>8.0</td>\n",
       "      <td>40.989350</td>\n",
       "      <td>405.910315</td>\n",
       "      <td>953.0</td>\n",
       "      <td>2531.0</td>\n",
       "      <td>1225.0</td>\n",
       "    </tr>\n",
       "    <tr>\n",
       "      <th>11</th>\n",
       "      <td>Beijing</td>\n",
       "      <td>21.73</td>\n",
       "      <td>1.0</td>\n",
       "      <td>6.885550</td>\n",
       "      <td>369.759871</td>\n",
       "      <td>809.0</td>\n",
       "      <td>2634.0</td>\n",
       "      <td>1961.0</td>\n",
       "    </tr>\n",
       "    <tr>\n",
       "      <th>12</th>\n",
       "      <td>Anhui</td>\n",
       "      <td>61.96</td>\n",
       "      <td>9.0</td>\n",
       "      <td>7.386484</td>\n",
       "      <td>351.588136</td>\n",
       "      <td>1180.0</td>\n",
       "      <td>2188.0</td>\n",
       "      <td>989.0</td>\n",
       "    </tr>\n",
       "    <tr>\n",
       "      <th>13</th>\n",
       "      <td>Liaoning</td>\n",
       "      <td>43.78</td>\n",
       "      <td>6.0</td>\n",
       "      <td>13.982870</td>\n",
       "      <td>320.463548</td>\n",
       "      <td>424.0</td>\n",
       "      <td>3176.0</td>\n",
       "      <td>2313.0</td>\n",
       "    </tr>\n",
       "    <tr>\n",
       "      <th>14</th>\n",
       "      <td>Shaanxi</td>\n",
       "      <td>38.13</td>\n",
       "      <td>2.0</td>\n",
       "      <td>5.653992</td>\n",
       "      <td>279.448582</td>\n",
       "      <td>1522.0</td>\n",
       "      <td>1834.0</td>\n",
       "      <td>1524.0</td>\n",
       "    </tr>\n",
       "    <tr>\n",
       "      <th>15</th>\n",
       "      <td>Jiangxi</td>\n",
       "      <td>45.92</td>\n",
       "      <td>2.0</td>\n",
       "      <td>9.062745</td>\n",
       "      <td>266.475562</td>\n",
       "      <td>1669.0</td>\n",
       "      <td>1787.0</td>\n",
       "      <td>1320.0</td>\n",
       "    </tr>\n",
       "    <tr>\n",
       "      <th>16</th>\n",
       "      <td>Guangxi</td>\n",
       "      <td>48.38</td>\n",
       "      <td>8.0</td>\n",
       "      <td>4.786584</td>\n",
       "      <td>263.862520</td>\n",
       "      <td>2338.0</td>\n",
       "      <td>1110.0</td>\n",
       "      <td>563.0</td>\n",
       "    </tr>\n",
       "    <tr>\n",
       "      <th>17</th>\n",
       "      <td>Inner Mongolia</td>\n",
       "      <td>25.20</td>\n",
       "      <td>4.0</td>\n",
       "      <td>1.991324</td>\n",
       "      <td>261.132798</td>\n",
       "      <td>1017.0</td>\n",
       "      <td>2844.0</td>\n",
       "      <td>2337.0</td>\n",
       "    </tr>\n",
       "    <tr>\n",
       "      <th>18</th>\n",
       "      <td>Tianjin</td>\n",
       "      <td>15.62</td>\n",
       "      <td>2.0</td>\n",
       "      <td>16.170054</td>\n",
       "      <td>257.636738</td>\n",
       "      <td>725.0</td>\n",
       "      <td>2653.0</td>\n",
       "      <td>1912.0</td>\n",
       "    </tr>\n",
       "    <tr>\n",
       "      <th>19</th>\n",
       "      <td>Chongqing</td>\n",
       "      <td>30.48</td>\n",
       "      <td>1.0</td>\n",
       "      <td>13.132412</td>\n",
       "      <td>255.550914</td>\n",
       "      <td>2032.0</td>\n",
       "      <td>1204.0</td>\n",
       "      <td>1064.0</td>\n",
       "    </tr>\n",
       "    <tr>\n",
       "      <th>20</th>\n",
       "      <td>Heilongjiang</td>\n",
       "      <td>37.99</td>\n",
       "      <td>3.0</td>\n",
       "      <td>2.219869</td>\n",
       "      <td>221.634664</td>\n",
       "      <td>932.0</td>\n",
       "      <td>3911.0</td>\n",
       "      <td>3049.0</td>\n",
       "    </tr>\n",
       "    <tr>\n",
       "      <th>21</th>\n",
       "      <td>Yunnan</td>\n",
       "      <td>47.71</td>\n",
       "      <td>1.0</td>\n",
       "      <td>4.159139</td>\n",
       "      <td>213.024877</td>\n",
       "      <td>2808.0</td>\n",
       "      <td>426.0</td>\n",
       "      <td>1324.0</td>\n",
       "    </tr>\n",
       "    <tr>\n",
       "      <th>22</th>\n",
       "      <td>Jilin</td>\n",
       "      <td>27.33</td>\n",
       "      <td>2.0</td>\n",
       "      <td>2.306704</td>\n",
       "      <td>212.857781</td>\n",
       "      <td>461.0</td>\n",
       "      <td>3514.0</td>\n",
       "      <td>2576.0</td>\n",
       "    </tr>\n",
       "    <tr>\n",
       "      <th>23</th>\n",
       "      <td>Shanxi</td>\n",
       "      <td>36.82</td>\n",
       "      <td>1.0</td>\n",
       "      <td>6.665276</td>\n",
       "      <td>187.989225</td>\n",
       "      <td>1233.0</td>\n",
       "      <td>2146.0</td>\n",
       "      <td>1667.0</td>\n",
       "    </tr>\n",
       "    <tr>\n",
       "      <th>24</th>\n",
       "      <td>Guizhou</td>\n",
       "      <td>35.55</td>\n",
       "      <td>2.0</td>\n",
       "      <td>2.352015</td>\n",
       "      <td>169.641751</td>\n",
       "      <td>2188.0</td>\n",
       "      <td>1071.0</td>\n",
       "      <td>849.0</td>\n",
       "    </tr>\n",
       "    <tr>\n",
       "      <th>25</th>\n",
       "      <td>Xinjiang</td>\n",
       "      <td>23.98</td>\n",
       "      <td>2.0</td>\n",
       "      <td>10.007007</td>\n",
       "      <td>139.002607</td>\n",
       "      <td>3218.0</td>\n",
       "      <td>2484.0</td>\n",
       "      <td>3328.0</td>\n",
       "    </tr>\n",
       "    <tr>\n",
       "      <th>26</th>\n",
       "      <td>Gansu</td>\n",
       "      <td>26.10</td>\n",
       "      <td>1.0</td>\n",
       "      <td>1.851124</td>\n",
       "      <td>103.720776</td>\n",
       "      <td>1930.0</td>\n",
       "      <td>1639.0</td>\n",
       "      <td>1765.0</td>\n",
       "    </tr>\n",
       "    <tr>\n",
       "      <th>27</th>\n",
       "      <td>Hainan</td>\n",
       "      <td>9.17</td>\n",
       "      <td>1.0</td>\n",
       "      <td>5.943227</td>\n",
       "      <td>58.385791</td>\n",
       "      <td>2647.0</td>\n",
       "      <td>1260.0</td>\n",
       "      <td>535.0</td>\n",
       "    </tr>\n",
       "    <tr>\n",
       "      <th>28</th>\n",
       "      <td>Ningxia</td>\n",
       "      <td>6.75</td>\n",
       "      <td>1.0</td>\n",
       "      <td>4.491354</td>\n",
       "      <td>45.643249</td>\n",
       "      <td>1726.0</td>\n",
       "      <td>1856.0</td>\n",
       "      <td>1816.0</td>\n",
       "    </tr>\n",
       "    <tr>\n",
       "      <th>29</th>\n",
       "      <td>Qinghai</td>\n",
       "      <td>5.93</td>\n",
       "      <td>1.0</td>\n",
       "      <td>0.971489</td>\n",
       "      <td>37.056510</td>\n",
       "      <td>2610.0</td>\n",
       "      <td>1535.0</td>\n",
       "      <td>2268.0</td>\n",
       "    </tr>\n",
       "    <tr>\n",
       "      <th>30</th>\n",
       "      <td>Tibet</td>\n",
       "      <td>3.31</td>\n",
       "      <td>0.0</td>\n",
       "      <td>15.628237</td>\n",
       "      <td>16.585759</td>\n",
       "      <td>3503.0</td>\n",
       "      <td>1299.0</td>\n",
       "      <td>2664.0</td>\n",
       "    </tr>\n",
       "  </tbody>\n",
       "</table>\n",
       "</div>"
      ],
      "text/plain": [
       "          province     pop  ports     export      grp usd      NK   Burma  \\\n",
       "0        Guangdong  109.99  113.0  56.163638  1164.703764  2080.0  1611.0   \n",
       "1          Jiangsu   79.99   27.0  29.688692  1114.767866   848.0  2461.0   \n",
       "2         Shandong   99.47   12.0  14.727259   979.883609   776.0  2460.0   \n",
       "3         Zhejiang   55.90   27.0  40.174836   680.649947  1231.0  2309.0   \n",
       "4            Henan   95.32    9.0   7.773708   582.990738  1224.0  2020.0   \n",
       "5          Sichuan   82.62    0.0   5.522568   474.416963  2309.0  1028.0   \n",
       "6            Hubei   58.85    7.0   5.262032   470.540615  1540.0  1705.0   \n",
       "7            Hebei   74.70    5.0   9.524404   461.971161   954.0  2386.0   \n",
       "8            Hunan   68.22   10.0   3.141958   454.493597  1809.0  1518.0   \n",
       "9           Fujian   38.74   23.0  21.018631   415.012748  1577.0  2066.0   \n",
       "10        Shanghai   24.20    8.0  40.989350   405.910315   953.0  2531.0   \n",
       "11         Beijing   21.73    1.0   6.885550   369.759871   809.0  2634.0   \n",
       "12           Anhui   61.96    9.0   7.386484   351.588136  1180.0  2188.0   \n",
       "13        Liaoning   43.78    6.0  13.982870   320.463548   424.0  3176.0   \n",
       "14         Shaanxi   38.13    2.0   5.653992   279.448582  1522.0  1834.0   \n",
       "15         Jiangxi   45.92    2.0   9.062745   266.475562  1669.0  1787.0   \n",
       "16         Guangxi   48.38    8.0   4.786584   263.862520  2338.0  1110.0   \n",
       "17  Inner Mongolia   25.20    4.0   1.991324   261.132798  1017.0  2844.0   \n",
       "18         Tianjin   15.62    2.0  16.170054   257.636738   725.0  2653.0   \n",
       "19       Chongqing   30.48    1.0  13.132412   255.550914  2032.0  1204.0   \n",
       "20    Heilongjiang   37.99    3.0   2.219869   221.634664   932.0  3911.0   \n",
       "21          Yunnan   47.71    1.0   4.159139   213.024877  2808.0   426.0   \n",
       "22           Jilin   27.33    2.0   2.306704   212.857781   461.0  3514.0   \n",
       "23          Shanxi   36.82    1.0   6.665276   187.989225  1233.0  2146.0   \n",
       "24         Guizhou   35.55    2.0   2.352015   169.641751  2188.0  1071.0   \n",
       "25        Xinjiang   23.98    2.0  10.007007   139.002607  3218.0  2484.0   \n",
       "26           Gansu   26.10    1.0   1.851124   103.720776  1930.0  1639.0   \n",
       "27          Hainan    9.17    1.0   5.943227    58.385791  2647.0  1260.0   \n",
       "28         Ningxia    6.75    1.0   4.491354    45.643249  1726.0  1856.0   \n",
       "29         Qinghai    5.93    1.0   0.971489    37.056510  2610.0  1535.0   \n",
       "30           Tibet    3.31    0.0  15.628237    16.585759  3503.0  1299.0   \n",
       "\n",
       "        HK  \n",
       "0    115.0  \n",
       "1   1320.0  \n",
       "2   1547.0  \n",
       "3    942.0  \n",
       "4   1326.0  \n",
       "5   1426.0  \n",
       "6    947.0  \n",
       "7   1727.0  \n",
       "8    625.0  \n",
       "9    597.0  \n",
       "10  1225.0  \n",
       "11  1961.0  \n",
       "12   989.0  \n",
       "13  2313.0  \n",
       "14  1524.0  \n",
       "15  1320.0  \n",
       "16   563.0  \n",
       "17  2337.0  \n",
       "18  1912.0  \n",
       "19  1064.0  \n",
       "20  3049.0  \n",
       "21  1324.0  \n",
       "22  2576.0  \n",
       "23  1667.0  \n",
       "24   849.0  \n",
       "25  3328.0  \n",
       "26  1765.0  \n",
       "27   535.0  \n",
       "28  1816.0  \n",
       "29  2268.0  \n",
       "30  2664.0  "
      ]
     },
     "execution_count": 43,
     "metadata": {},
     "output_type": "execute_result"
    }
   ],
   "source": [
    "merge"
   ]
  },
  {
   "cell_type": "code",
   "execution_count": 44,
   "metadata": {},
   "outputs": [],
   "source": [
    "merge = pd.merge(merge, corrupt, how='outer', left_index=True , right_index=True, sort=True)"
   ]
  },
  {
   "cell_type": "code",
   "execution_count": 45,
   "metadata": {},
   "outputs": [
    {
     "data": {
      "text/html": [
       "<div>\n",
       "<style scoped>\n",
       "    .dataframe tbody tr th:only-of-type {\n",
       "        vertical-align: middle;\n",
       "    }\n",
       "\n",
       "    .dataframe tbody tr th {\n",
       "        vertical-align: top;\n",
       "    }\n",
       "\n",
       "    .dataframe thead th {\n",
       "        text-align: right;\n",
       "    }\n",
       "</style>\n",
       "<table border=\"1\" class=\"dataframe\">\n",
       "  <thead>\n",
       "    <tr style=\"text-align: right;\">\n",
       "      <th></th>\n",
       "      <th>province</th>\n",
       "      <th>pop</th>\n",
       "      <th>ports</th>\n",
       "      <th>export</th>\n",
       "      <th>grp usd</th>\n",
       "      <th>NK</th>\n",
       "      <th>Burma</th>\n",
       "      <th>HK</th>\n",
       "      <th>average</th>\n",
       "    </tr>\n",
       "  </thead>\n",
       "  <tbody>\n",
       "    <tr>\n",
       "      <th>0</th>\n",
       "      <td>Guangdong</td>\n",
       "      <td>109.99</td>\n",
       "      <td>113.0</td>\n",
       "      <td>56.163638</td>\n",
       "      <td>1164.703764</td>\n",
       "      <td>2080.0</td>\n",
       "      <td>1611.0</td>\n",
       "      <td>115.0</td>\n",
       "      <td>29.00</td>\n",
       "    </tr>\n",
       "    <tr>\n",
       "      <th>1</th>\n",
       "      <td>Jiangsu</td>\n",
       "      <td>79.99</td>\n",
       "      <td>27.0</td>\n",
       "      <td>29.688692</td>\n",
       "      <td>1114.767866</td>\n",
       "      <td>848.0</td>\n",
       "      <td>2461.0</td>\n",
       "      <td>1320.0</td>\n",
       "      <td>13.00</td>\n",
       "    </tr>\n",
       "    <tr>\n",
       "      <th>2</th>\n",
       "      <td>Shandong</td>\n",
       "      <td>99.47</td>\n",
       "      <td>12.0</td>\n",
       "      <td>14.727259</td>\n",
       "      <td>979.883609</td>\n",
       "      <td>776.0</td>\n",
       "      <td>2460.0</td>\n",
       "      <td>1547.0</td>\n",
       "      <td>6.00</td>\n",
       "    </tr>\n",
       "    <tr>\n",
       "      <th>3</th>\n",
       "      <td>Zhejiang</td>\n",
       "      <td>55.90</td>\n",
       "      <td>27.0</td>\n",
       "      <td>40.174836</td>\n",
       "      <td>680.649947</td>\n",
       "      <td>1231.0</td>\n",
       "      <td>2309.0</td>\n",
       "      <td>942.0</td>\n",
       "      <td>16.67</td>\n",
       "    </tr>\n",
       "    <tr>\n",
       "      <th>4</th>\n",
       "      <td>Henan</td>\n",
       "      <td>95.32</td>\n",
       "      <td>9.0</td>\n",
       "      <td>7.773708</td>\n",
       "      <td>582.990738</td>\n",
       "      <td>1224.0</td>\n",
       "      <td>2020.0</td>\n",
       "      <td>1326.0</td>\n",
       "      <td>7.67</td>\n",
       "    </tr>\n",
       "  </tbody>\n",
       "</table>\n",
       "</div>"
      ],
      "text/plain": [
       "    province     pop  ports     export      grp usd      NK   Burma      HK  \\\n",
       "0  Guangdong  109.99  113.0  56.163638  1164.703764  2080.0  1611.0   115.0   \n",
       "1    Jiangsu   79.99   27.0  29.688692  1114.767866   848.0  2461.0  1320.0   \n",
       "2   Shandong   99.47   12.0  14.727259   979.883609   776.0  2460.0  1547.0   \n",
       "3   Zhejiang   55.90   27.0  40.174836   680.649947  1231.0  2309.0   942.0   \n",
       "4      Henan   95.32    9.0   7.773708   582.990738  1224.0  2020.0  1326.0   \n",
       "\n",
       "   average  \n",
       "0    29.00  \n",
       "1    13.00  \n",
       "2     6.00  \n",
       "3    16.67  \n",
       "4     7.67  "
      ]
     },
     "execution_count": 45,
     "metadata": {},
     "output_type": "execute_result"
    }
   ],
   "source": [
    "merge.head()"
   ]
  },
  {
   "cell_type": "code",
   "execution_count": 46,
   "metadata": {},
   "outputs": [],
   "source": [
    "merge = pd.merge(merge, product, how = 'outer', left_index = True, right_index = True, sort = True)"
   ]
  },
  {
   "cell_type": "code",
   "execution_count": 47,
   "metadata": {},
   "outputs": [
    {
     "data": {
      "text/html": [
       "<div>\n",
       "<style scoped>\n",
       "    .dataframe tbody tr th:only-of-type {\n",
       "        vertical-align: middle;\n",
       "    }\n",
       "\n",
       "    .dataframe tbody tr th {\n",
       "        vertical-align: top;\n",
       "    }\n",
       "\n",
       "    .dataframe thead th {\n",
       "        text-align: right;\n",
       "    }\n",
       "</style>\n",
       "<table border=\"1\" class=\"dataframe\">\n",
       "  <thead>\n",
       "    <tr style=\"text-align: right;\">\n",
       "      <th></th>\n",
       "      <th>province</th>\n",
       "      <th>pop</th>\n",
       "      <th>ports</th>\n",
       "      <th>export</th>\n",
       "      <th>grp usd</th>\n",
       "      <th>NK</th>\n",
       "      <th>Burma</th>\n",
       "      <th>HK</th>\n",
       "      <th>average</th>\n",
       "      <th>prod</th>\n",
       "    </tr>\n",
       "  </thead>\n",
       "  <tbody>\n",
       "    <tr>\n",
       "      <th>0</th>\n",
       "      <td>Guangdong</td>\n",
       "      <td>109.99</td>\n",
       "      <td>113.0</td>\n",
       "      <td>56.163638</td>\n",
       "      <td>1164.703764</td>\n",
       "      <td>2080.0</td>\n",
       "      <td>1611.0</td>\n",
       "      <td>115.0</td>\n",
       "      <td>29.00</td>\n",
       "      <td>9.653038</td>\n",
       "    </tr>\n",
       "    <tr>\n",
       "      <th>1</th>\n",
       "      <td>Jiangsu</td>\n",
       "      <td>79.99</td>\n",
       "      <td>27.0</td>\n",
       "      <td>29.688692</td>\n",
       "      <td>1114.767866</td>\n",
       "      <td>848.0</td>\n",
       "      <td>2461.0</td>\n",
       "      <td>1320.0</td>\n",
       "      <td>13.00</td>\n",
       "      <td>1.198750</td>\n",
       "    </tr>\n",
       "    <tr>\n",
       "      <th>2</th>\n",
       "      <td>Shandong</td>\n",
       "      <td>99.47</td>\n",
       "      <td>12.0</td>\n",
       "      <td>14.727259</td>\n",
       "      <td>979.883609</td>\n",
       "      <td>776.0</td>\n",
       "      <td>2460.0</td>\n",
       "      <td>1547.0</td>\n",
       "      <td>6.00</td>\n",
       "      <td>2.800296</td>\n",
       "    </tr>\n",
       "    <tr>\n",
       "      <th>3</th>\n",
       "      <td>Zhejiang</td>\n",
       "      <td>55.90</td>\n",
       "      <td>27.0</td>\n",
       "      <td>40.174836</td>\n",
       "      <td>680.649947</td>\n",
       "      <td>1231.0</td>\n",
       "      <td>2309.0</td>\n",
       "      <td>942.0</td>\n",
       "      <td>16.67</td>\n",
       "      <td>1.145185</td>\n",
       "    </tr>\n",
       "    <tr>\n",
       "      <th>4</th>\n",
       "      <td>Henan</td>\n",
       "      <td>95.32</td>\n",
       "      <td>9.0</td>\n",
       "      <td>7.773708</td>\n",
       "      <td>582.990738</td>\n",
       "      <td>1224.0</td>\n",
       "      <td>2020.0</td>\n",
       "      <td>1326.0</td>\n",
       "      <td>7.67</td>\n",
       "      <td>0.185237</td>\n",
       "    </tr>\n",
       "  </tbody>\n",
       "</table>\n",
       "</div>"
      ],
      "text/plain": [
       "    province     pop  ports     export      grp usd      NK   Burma      HK  \\\n",
       "0  Guangdong  109.99  113.0  56.163638  1164.703764  2080.0  1611.0   115.0   \n",
       "1    Jiangsu   79.99   27.0  29.688692  1114.767866   848.0  2461.0  1320.0   \n",
       "2   Shandong   99.47   12.0  14.727259   979.883609   776.0  2460.0  1547.0   \n",
       "3   Zhejiang   55.90   27.0  40.174836   680.649947  1231.0  2309.0   942.0   \n",
       "4      Henan   95.32    9.0   7.773708   582.990738  1224.0  2020.0  1326.0   \n",
       "\n",
       "   average      prod  \n",
       "0    29.00  9.653038  \n",
       "1    13.00  1.198750  \n",
       "2     6.00  2.800296  \n",
       "3    16.67  1.145185  \n",
       "4     7.67  0.185237  "
      ]
     },
     "execution_count": 47,
     "metadata": {},
     "output_type": "execute_result"
    }
   ],
   "source": [
    "merge.head()"
   ]
  },
  {
   "cell_type": "markdown",
   "metadata": {},
   "source": [
    "Now we can take the province list and make it the index of the data frame"
   ]
  },
  {
   "cell_type": "code",
   "execution_count": 48,
   "metadata": {},
   "outputs": [],
   "source": [
    "merge.set_index('province', inplace = True)"
   ]
  },
  {
   "cell_type": "code",
   "execution_count": 49,
   "metadata": {},
   "outputs": [
    {
     "data": {
      "text/html": [
       "<div>\n",
       "<style scoped>\n",
       "    .dataframe tbody tr th:only-of-type {\n",
       "        vertical-align: middle;\n",
       "    }\n",
       "\n",
       "    .dataframe tbody tr th {\n",
       "        vertical-align: top;\n",
       "    }\n",
       "\n",
       "    .dataframe thead th {\n",
       "        text-align: right;\n",
       "    }\n",
       "</style>\n",
       "<table border=\"1\" class=\"dataframe\">\n",
       "  <thead>\n",
       "    <tr style=\"text-align: right;\">\n",
       "      <th></th>\n",
       "      <th>pop</th>\n",
       "      <th>ports</th>\n",
       "      <th>export</th>\n",
       "      <th>grp usd</th>\n",
       "      <th>NK</th>\n",
       "      <th>Burma</th>\n",
       "      <th>HK</th>\n",
       "      <th>average</th>\n",
       "      <th>prod</th>\n",
       "    </tr>\n",
       "    <tr>\n",
       "      <th>province</th>\n",
       "      <th></th>\n",
       "      <th></th>\n",
       "      <th></th>\n",
       "      <th></th>\n",
       "      <th></th>\n",
       "      <th></th>\n",
       "      <th></th>\n",
       "      <th></th>\n",
       "      <th></th>\n",
       "    </tr>\n",
       "  </thead>\n",
       "  <tbody>\n",
       "    <tr>\n",
       "      <th>Guangdong</th>\n",
       "      <td>109.99</td>\n",
       "      <td>113.0</td>\n",
       "      <td>56.163638</td>\n",
       "      <td>1164.703764</td>\n",
       "      <td>2080.0</td>\n",
       "      <td>1611.0</td>\n",
       "      <td>115.0</td>\n",
       "      <td>29.00</td>\n",
       "      <td>9.653038</td>\n",
       "    </tr>\n",
       "    <tr>\n",
       "      <th>Jiangsu</th>\n",
       "      <td>79.99</td>\n",
       "      <td>27.0</td>\n",
       "      <td>29.688692</td>\n",
       "      <td>1114.767866</td>\n",
       "      <td>848.0</td>\n",
       "      <td>2461.0</td>\n",
       "      <td>1320.0</td>\n",
       "      <td>13.00</td>\n",
       "      <td>1.198750</td>\n",
       "    </tr>\n",
       "    <tr>\n",
       "      <th>Shandong</th>\n",
       "      <td>99.47</td>\n",
       "      <td>12.0</td>\n",
       "      <td>14.727259</td>\n",
       "      <td>979.883609</td>\n",
       "      <td>776.0</td>\n",
       "      <td>2460.0</td>\n",
       "      <td>1547.0</td>\n",
       "      <td>6.00</td>\n",
       "      <td>2.800296</td>\n",
       "    </tr>\n",
       "    <tr>\n",
       "      <th>Zhejiang</th>\n",
       "      <td>55.90</td>\n",
       "      <td>27.0</td>\n",
       "      <td>40.174836</td>\n",
       "      <td>680.649947</td>\n",
       "      <td>1231.0</td>\n",
       "      <td>2309.0</td>\n",
       "      <td>942.0</td>\n",
       "      <td>16.67</td>\n",
       "      <td>1.145185</td>\n",
       "    </tr>\n",
       "    <tr>\n",
       "      <th>Henan</th>\n",
       "      <td>95.32</td>\n",
       "      <td>9.0</td>\n",
       "      <td>7.773708</td>\n",
       "      <td>582.990738</td>\n",
       "      <td>1224.0</td>\n",
       "      <td>2020.0</td>\n",
       "      <td>1326.0</td>\n",
       "      <td>7.67</td>\n",
       "      <td>0.185237</td>\n",
       "    </tr>\n",
       "  </tbody>\n",
       "</table>\n",
       "</div>"
      ],
      "text/plain": [
       "              pop  ports     export      grp usd      NK   Burma      HK  \\\n",
       "province                                                                   \n",
       "Guangdong  109.99  113.0  56.163638  1164.703764  2080.0  1611.0   115.0   \n",
       "Jiangsu     79.99   27.0  29.688692  1114.767866   848.0  2461.0  1320.0   \n",
       "Shandong    99.47   12.0  14.727259   979.883609   776.0  2460.0  1547.0   \n",
       "Zhejiang    55.90   27.0  40.174836   680.649947  1231.0  2309.0   942.0   \n",
       "Henan       95.32    9.0   7.773708   582.990738  1224.0  2020.0  1326.0   \n",
       "\n",
       "           average      prod  \n",
       "province                      \n",
       "Guangdong    29.00  9.653038  \n",
       "Jiangsu      13.00  1.198750  \n",
       "Shandong      6.00  2.800296  \n",
       "Zhejiang     16.67  1.145185  \n",
       "Henan         7.67  0.185237  "
      ]
     },
     "execution_count": 49,
     "metadata": {},
     "output_type": "execute_result"
    }
   ],
   "source": [
    "merge.head()"
   ]
  },
  {
   "cell_type": "markdown",
   "metadata": {},
   "source": [
    "I will also now move GRP USD back to the first position  in order to help order this set"
   ]
  },
  {
   "cell_type": "code",
   "execution_count": 50,
   "metadata": {},
   "outputs": [],
   "source": [
    "cols = merge.columns.tolist()"
   ]
  },
  {
   "cell_type": "code",
   "execution_count": 51,
   "metadata": {},
   "outputs": [
    {
     "data": {
      "text/plain": [
       "['pop', 'ports', 'export', 'grp usd', 'NK', 'Burma', 'HK', 'average', 'prod']"
      ]
     },
     "execution_count": 51,
     "metadata": {},
     "output_type": "execute_result"
    }
   ],
   "source": [
    "cols"
   ]
  },
  {
   "cell_type": "code",
   "execution_count": 52,
   "metadata": {},
   "outputs": [],
   "source": [
    "cols = ['grp usd', 'pop', 'ports', 'export','NK', 'Burma', 'HK', 'average', 'prod']\n"
   ]
  },
  {
   "cell_type": "code",
   "execution_count": 53,
   "metadata": {},
   "outputs": [
    {
     "data": {
      "text/plain": [
       "['grp usd', 'pop', 'ports', 'export', 'NK', 'Burma', 'HK', 'average', 'prod']"
      ]
     },
     "execution_count": 53,
     "metadata": {},
     "output_type": "execute_result"
    }
   ],
   "source": [
    "cols"
   ]
  },
  {
   "cell_type": "code",
   "execution_count": 54,
   "metadata": {},
   "outputs": [],
   "source": [
    "merge = merge [cols]"
   ]
  },
  {
   "cell_type": "code",
   "execution_count": 55,
   "metadata": {},
   "outputs": [],
   "source": [
    "merge = merge.drop(merge.index[30])"
   ]
  },
  {
   "cell_type": "markdown",
   "metadata": {},
   "source": [
    "### Testing the Data for Normality"
   ]
  },
  {
   "cell_type": "code",
   "execution_count": 56,
   "metadata": {},
   "outputs": [
    {
     "data": {
      "image/png": "[encoded data removed]",
      "text/plain": [
       "<matplotlib.figure.Figure at 0x299b2590710>"
      ]
     },
     "metadata": {},
     "output_type": "display_data"
    }
   ],
   "source": [
    "size, scale = 1000, 10\n",
    "\n",
    "merge['pop'].plot.hist(grid=True, bins=9, rwidth=.8,\n",
    "                   color='#607c8e')\n",
    "plt.title('Population in Millions')\n",
    "plt.xlabel('Population')\n",
    "plt.ylabel('Counts')\n",
    "plt.grid(axis='y', alpha=0.75)"
   ]
  },
  {
   "cell_type": "markdown",
   "metadata": {},
   "source": [
    "We find that this data-set at a bin size of 9, is relatively normally distributed, but slightly left-skewed."
   ]
  },
  {
   "cell_type": "code",
   "execution_count": 57,
   "metadata": {},
   "outputs": [
    {
     "data": {
      "image/png": "[encoded data removed]",
      "text/plain": [
       "<matplotlib.figure.Figure at 0x299b269f208>"
      ]
     },
     "metadata": {},
     "output_type": "display_data"
    }
   ],
   "source": [
    "size, scale = 1000, 10\n",
    "\n",
    "merge['ports'].plot.hist(grid=True, bins=20, rwidth=.8,\n",
    "                   color='#28B463')\n",
    "plt.title('Major Ports per Province')\n",
    "plt.xlabel('Counts')\n",
    "plt.ylabel('Ports')\n",
    "plt.grid(axis='y', alpha=0.75)"
   ]
  },
  {
   "cell_type": "markdown",
   "metadata": {},
   "source": [
    "Here, since few provinces have more than 25 ports, we must switch over to using a box-plot in order to test normality"
   ]
  },
  {
   "cell_type": "code",
   "execution_count": 58,
   "metadata": {},
   "outputs": [
    {
     "data": {
      "image/png": "[encoded data removed]",
      "text/plain": [
       "<matplotlib.figure.Figure at 0x299b26cf048>"
      ]
     },
     "metadata": {},
     "output_type": "display_data"
    }
   ],
   "source": [
    "size, scale = 100,10 \n",
    "\n",
    "merge.boxplot(column = ['ports'], fontsize=12, rot=0, figsize = (5,5), grid=False)\n",
    "plt.title('Major Ports per Province')\n",
    "plt.grid(axis='y', alpha=0.75)\n"
   ]
  },
  {
   "cell_type": "markdown",
   "metadata": {},
   "source": [
    "Since there are such large outliers and the grouping of ports tends to be around a  small number of ports, we decide to reinterpret ports as a categorical variable. In this variable 1 represents more than 2 ports, and 0 represents any value less than or equal to  2"
   ]
  },
  {
   "cell_type": "code",
   "execution_count": 59,
   "metadata": {},
   "outputs": [
    {
     "data": {
      "text/plain": [
       "30"
      ]
     },
     "execution_count": 59,
     "metadata": {},
     "output_type": "execute_result"
    }
   ],
   "source": [
    "portvalue = []\n",
    "for i in merge['ports']:\n",
    "    if i < 2:\n",
    "        portvalue.append(0)\n",
    "    if i == 2:\n",
    "        portvalue.append(0)\n",
    "    if i > 2:\n",
    "        portvalue.append(1)\n",
    "        \n",
    "len(portvalue)"
   ]
  },
  {
   "cell_type": "code",
   "execution_count": 60,
   "metadata": {},
   "outputs": [],
   "source": [
    "merge['ports'] = portvalue"
   ]
  },
  {
   "cell_type": "code",
   "execution_count": 61,
   "metadata": {},
   "outputs": [
    {
     "data": {
      "text/plain": [
       "dtype('int64')"
      ]
     },
     "execution_count": 61,
     "metadata": {},
     "output_type": "execute_result"
    }
   ],
   "source": [
    "merge['ports'].dtypes"
   ]
  },
  {
   "cell_type": "code",
   "execution_count": 62,
   "metadata": {},
   "outputs": [
    {
     "data": {
      "text/plain": [
       "CategoricalDtype(categories=[0, 1], ordered=False)"
      ]
     },
     "execution_count": 62,
     "metadata": {},
     "output_type": "execute_result"
    }
   ],
   "source": [
    "merge['ports'] = merge['ports'].astype('category')\n",
    "merge['ports'].dtypes"
   ]
  },
  {
   "cell_type": "code",
   "execution_count": 63,
   "metadata": {},
   "outputs": [
    {
     "data": {
      "image/png": "[encoded data removed]",
      "text/plain": [
       "<matplotlib.figure.Figure at 0x299b279dda0>"
      ]
     },
     "metadata": {},
     "output_type": "display_data"
    }
   ],
   "source": [
    "size, scale = 1000, 10\n",
    "\n",
    "merge['export'].plot.hist(grid=True, bins=8, rwidth=.8,\n",
    "                   color='#F4D03F')\n",
    "plt.title('Percentage of GRP to Exports')\n",
    "plt.xlabel('Counts')\n",
    "plt.ylabel('Exports')\n",
    "plt.grid(axis='y', alpha=0.75)"
   ]
  },
  {
   "cell_type": "markdown",
   "metadata": {},
   "source": [
    "Will try to remove an outlier for the purposes of testing normality"
   ]
  },
  {
   "cell_type": "code",
   "execution_count": 64,
   "metadata": {},
   "outputs": [],
   "source": [
    "def is_outlier(points, thresh=3.5):\n",
    "    if len(points.shape) == 1:\n",
    "        points = points[:,None]\n",
    "    median = np.median(points, axis=0)\n",
    "    diff = np.sum((points - median)**2, axis=-1)\n",
    "    diff = np.sqrt(diff)\n",
    "    med_abs_deviation = np.median(diff)\n",
    "\n",
    "    modified_z_score = 0.6745 * diff / med_abs_deviation\n",
    "\n",
    "    return modified_z_score > thresh"
   ]
  },
  {
   "cell_type": "code",
   "execution_count": 65,
   "metadata": {
    "scrolled": true
   },
   "outputs": [
    {
     "data": {
      "text/plain": [
       "array([ True,  True, False,  True, False, False, False, False, False,\n",
       "       False,  True, False, False, False, False, False, False, False,\n",
       "       False, False, False, False, False, False, False, False, False,\n",
       "       False, False, False])"
      ]
     },
     "execution_count": 65,
     "metadata": {},
     "output_type": "execute_result"
    }
   ],
   "source": [
    "is_outlier(merge ['export'])"
   ]
  },
  {
   "cell_type": "code",
   "execution_count": 66,
   "metadata": {},
   "outputs": [],
   "source": [
    "filteredexp = merge.export[~is_outlier(merge [ 'export'])]"
   ]
  },
  {
   "cell_type": "code",
   "execution_count": 67,
   "metadata": {},
   "outputs": [
    {
     "data": {
      "text/plain": [
       "province\n",
       "Shandong          14.727259\n",
       "Henan              7.773708\n",
       "Sichuan            5.522568\n",
       "Hubei              5.262032\n",
       "Hebei              9.524404\n",
       "Hunan              3.141958\n",
       "Fujian            21.018631\n",
       "Beijing            6.885550\n",
       "Anhui              7.386484\n",
       "Liaoning          13.982870\n",
       "Shaanxi            5.653992\n",
       "Jiangxi            9.062745\n",
       "Guangxi            4.786584\n",
       "Inner Mongolia     1.991324\n",
       "Tianjin           16.170054\n",
       "Chongqing         13.132412\n",
       "Heilongjiang       2.219869\n",
       "Yunnan             4.159139\n",
       "Jilin              2.306704\n",
       "Shanxi             6.665276\n",
       "Guizhou            2.352015\n",
       "Xinjiang          10.007007\n",
       "Gansu              1.851124\n",
       "Hainan             5.943227\n",
       "Ningxia            4.491354\n",
       "Qinghai            0.971489\n",
       "Name: export, dtype: float64"
      ]
     },
     "execution_count": 67,
     "metadata": {},
     "output_type": "execute_result"
    }
   ],
   "source": [
    "filteredexp"
   ]
  },
  {
   "cell_type": "code",
   "execution_count": 68,
   "metadata": {},
   "outputs": [
    {
     "data": {
      "image/png": "[encoded data removed]",
      "text/plain": [
       "<matplotlib.figure.Figure at 0x299b2a1a908>"
      ]
     },
     "metadata": {},
     "output_type": "display_data"
    }
   ],
   "source": [
    "size, scale = 1000, 10\n",
    "\n",
    "filteredexp.plot.hist(grid=True, bins=8, rwidth=.8,\n",
    "                   color='#F4D03F')\n",
    "plt.title('Percentage of GRP to Exports')\n",
    "plt.xlabel('% Exports')\n",
    "plt.ylabel('Count')\n",
    "plt.grid(axis='y', alpha=0.75)"
   ]
  },
  {
   "cell_type": "code",
   "execution_count": 69,
   "metadata": {},
   "outputs": [
    {
     "data": {
      "image/png": "[encoded data removed]",
      "text/plain": [
       "<matplotlib.figure.Figure at 0x299b2a4b4e0>"
      ]
     },
     "metadata": {},
     "output_type": "display_data"
    }
   ],
   "source": [
    "size, scale = 1000, 10\n",
    "\n",
    "merge['grp usd'].plot.hist(grid=True, bins=8, rwidth=.8,\n",
    "                   color='#00FFFF')\n",
    "plt.title('GRP in Provinces')\n",
    "plt.xlabel('GRP')\n",
    "plt.ylabel('Counts')\n",
    "plt.grid(axis='y', alpha=0.75)"
   ]
  },
  {
   "cell_type": "code",
   "execution_count": 70,
   "metadata": {},
   "outputs": [],
   "source": [
    "is_outlier(merge ['NK'])\n",
    "filteredNK = merge.NK[~is_outlier(merge [ 'NK'])]"
   ]
  },
  {
   "cell_type": "code",
   "execution_count": 71,
   "metadata": {},
   "outputs": [
    {
     "data": {
      "image/png": "[encoded data removed]",
      "text/plain": [
       "<matplotlib.figure.Figure at 0x299b2a4e400>"
      ]
     },
     "metadata": {},
     "output_type": "display_data"
    }
   ],
   "source": [
    "size, scale = 1000, 10\n",
    "\n",
    "merge['NK'].plot.hist(grid=True, bins=7, rwidth=.8,\n",
    "                   color='#FFA07A')\n",
    "plt.title('Distances to North Korea')\n",
    "plt.xlabel('Distance')\n",
    "plt.ylabel('Count')\n",
    "plt.grid(axis='y', alpha=0.75)"
   ]
  },
  {
   "cell_type": "code",
   "execution_count": 72,
   "metadata": {},
   "outputs": [
    {
     "data": {
      "image/png": "[encoded data removed]",
      "text/plain": [
       "<matplotlib.figure.Figure at 0x299b2b429e8>"
      ]
     },
     "metadata": {},
     "output_type": "display_data"
    }
   ],
   "source": [
    "size, scale = 1000, 10\n",
    "\n",
    "merge['Burma'].plot.hist(grid=True, bins=8, rwidth=.8,\n",
    "                   color='#FFD700')\n",
    "plt.title('Distances to Burma')\n",
    "plt.xlabel('Distance')\n",
    "plt.ylabel('Counts')\n",
    "plt.grid(axis='y', alpha=0.75)"
   ]
  },
  {
   "cell_type": "code",
   "execution_count": 73,
   "metadata": {},
   "outputs": [
    {
     "data": {
      "image/png": "[encoded data removed]",
      "text/plain": [
       "<matplotlib.figure.Figure at 0x299b2b4f860>"
      ]
     },
     "metadata": {},
     "output_type": "display_data"
    }
   ],
   "source": [
    "size, scale = 1000, 10\n",
    "\n",
    "merge['HK'].plot.hist(grid=True, bins=8, rwidth=.8,\n",
    "                   color='#FF00FF', alpha = 0.75)\n",
    "plt.title('Distances to Hong Kong')\n",
    "plt.xlabel('Distance')\n",
    "plt.ylabel('Counts')\n",
    "plt.grid(axis='y', alpha=0.75)"
   ]
  },
  {
   "cell_type": "code",
   "execution_count": 74,
   "metadata": {},
   "outputs": [
    {
     "data": {
      "image/png": "[encoded data removed]",
      "text/plain": [
       "<matplotlib.figure.Figure at 0x299b3c095c0>"
      ]
     },
     "metadata": {},
     "output_type": "display_data"
    }
   ],
   "source": [
    "size, scale = 1000, 10\n",
    "\n",
    "merge['average'].plot.hist(grid=True, bins=6, rwidth=.95,\n",
    "                   color = '#980000', alpha = 0.6)\n",
    "plt.title('Provincial Corruption Ranking')\n",
    "plt.xlabel('Corruption')\n",
    "plt.ylabel('Count')\n",
    "plt.grid(axis='y', alpha=0.75)"
   ]
  },
  {
   "cell_type": "code",
   "execution_count": 75,
   "metadata": {},
   "outputs": [
    {
     "data": {
      "image/png": "[encoded data removed]",
      "text/plain": [
       "<matplotlib.figure.Figure at 0x299b3cb52b0>"
      ]
     },
     "metadata": {},
     "output_type": "display_data"
    }
   ],
   "source": [
    "size, scale = 1000, 10\n",
    "\n",
    "merge['prod'].plot.hist(grid=True, bins=5, rwidth=.95,\n",
    "                   color = '#2F4F4F', alpha = 0.6)\n",
    "plt.title('Provincial Drug Production')\n",
    "plt.xlabel('Production')\n",
    "plt.ylabel('Count')\n",
    "plt.grid(axis='y', alpha=0.75)"
   ]
  },
  {
   "cell_type": "markdown",
   "metadata": {},
   "source": [
    "This data set is severely right-skewed therefore a possible solution is a transformation of the data to make it more normally distributed"
   ]
  },
  {
   "cell_type": "code",
   "execution_count": 76,
   "metadata": {},
   "outputs": [],
   "source": [
    "merge ['prod'] = np.log(merge ['prod'])"
   ]
  },
  {
   "cell_type": "code",
   "execution_count": 77,
   "metadata": {},
   "outputs": [
    {
     "data": {
      "text/html": [
       "<div>\n",
       "<style scoped>\n",
       "    .dataframe tbody tr th:only-of-type {\n",
       "        vertical-align: middle;\n",
       "    }\n",
       "\n",
       "    .dataframe tbody tr th {\n",
       "        vertical-align: top;\n",
       "    }\n",
       "\n",
       "    .dataframe thead th {\n",
       "        text-align: right;\n",
       "    }\n",
       "</style>\n",
       "<table border=\"1\" class=\"dataframe\">\n",
       "  <thead>\n",
       "    <tr style=\"text-align: right;\">\n",
       "      <th></th>\n",
       "      <th>grp usd</th>\n",
       "      <th>pop</th>\n",
       "      <th>ports</th>\n",
       "      <th>export</th>\n",
       "      <th>NK</th>\n",
       "      <th>Burma</th>\n",
       "      <th>HK</th>\n",
       "      <th>average</th>\n",
       "      <th>prod</th>\n",
       "    </tr>\n",
       "    <tr>\n",
       "      <th>province</th>\n",
       "      <th></th>\n",
       "      <th></th>\n",
       "      <th></th>\n",
       "      <th></th>\n",
       "      <th></th>\n",
       "      <th></th>\n",
       "      <th></th>\n",
       "      <th></th>\n",
       "      <th></th>\n",
       "    </tr>\n",
       "  </thead>\n",
       "  <tbody>\n",
       "    <tr>\n",
       "      <th>Guangdong</th>\n",
       "      <td>1164.703764</td>\n",
       "      <td>109.99</td>\n",
       "      <td>1</td>\n",
       "      <td>56.163638</td>\n",
       "      <td>2080.0</td>\n",
       "      <td>1611.0</td>\n",
       "      <td>115.0</td>\n",
       "      <td>29.00</td>\n",
       "      <td>2.267273</td>\n",
       "    </tr>\n",
       "    <tr>\n",
       "      <th>Jiangsu</th>\n",
       "      <td>1114.767866</td>\n",
       "      <td>79.99</td>\n",
       "      <td>1</td>\n",
       "      <td>29.688692</td>\n",
       "      <td>848.0</td>\n",
       "      <td>2461.0</td>\n",
       "      <td>1320.0</td>\n",
       "      <td>13.00</td>\n",
       "      <td>0.181279</td>\n",
       "    </tr>\n",
       "    <tr>\n",
       "      <th>Shandong</th>\n",
       "      <td>979.883609</td>\n",
       "      <td>99.47</td>\n",
       "      <td>1</td>\n",
       "      <td>14.727259</td>\n",
       "      <td>776.0</td>\n",
       "      <td>2460.0</td>\n",
       "      <td>1547.0</td>\n",
       "      <td>6.00</td>\n",
       "      <td>1.029725</td>\n",
       "    </tr>\n",
       "    <tr>\n",
       "      <th>Zhejiang</th>\n",
       "      <td>680.649947</td>\n",
       "      <td>55.90</td>\n",
       "      <td>1</td>\n",
       "      <td>40.174836</td>\n",
       "      <td>1231.0</td>\n",
       "      <td>2309.0</td>\n",
       "      <td>942.0</td>\n",
       "      <td>16.67</td>\n",
       "      <td>0.135566</td>\n",
       "    </tr>\n",
       "    <tr>\n",
       "      <th>Henan</th>\n",
       "      <td>582.990738</td>\n",
       "      <td>95.32</td>\n",
       "      <td>1</td>\n",
       "      <td>7.773708</td>\n",
       "      <td>1224.0</td>\n",
       "      <td>2020.0</td>\n",
       "      <td>1326.0</td>\n",
       "      <td>7.67</td>\n",
       "      <td>-1.686118</td>\n",
       "    </tr>\n",
       "  </tbody>\n",
       "</table>\n",
       "</div>"
      ],
      "text/plain": [
       "               grp usd     pop ports     export      NK   Burma      HK  \\\n",
       "province                                                                  \n",
       "Guangdong  1164.703764  109.99     1  56.163638  2080.0  1611.0   115.0   \n",
       "Jiangsu    1114.767866   79.99     1  29.688692   848.0  2461.0  1320.0   \n",
       "Shandong    979.883609   99.47     1  14.727259   776.0  2460.0  1547.0   \n",
       "Zhejiang    680.649947   55.90     1  40.174836  1231.0  2309.0   942.0   \n",
       "Henan       582.990738   95.32     1   7.773708  1224.0  2020.0  1326.0   \n",
       "\n",
       "           average      prod  \n",
       "province                      \n",
       "Guangdong    29.00  2.267273  \n",
       "Jiangsu      13.00  0.181279  \n",
       "Shandong      6.00  1.029725  \n",
       "Zhejiang     16.67  0.135566  \n",
       "Henan         7.67 -1.686118  "
      ]
     },
     "execution_count": 77,
     "metadata": {},
     "output_type": "execute_result"
    }
   ],
   "source": [
    "merge.head()"
   ]
  },
  {
   "cell_type": "code",
   "execution_count": 78,
   "metadata": {},
   "outputs": [
    {
     "data": {
      "image/png": "[encoded data removed]",
      "text/plain": [
       "<matplotlib.figure.Figure at 0x299b3cc9fd0>"
      ]
     },
     "metadata": {},
     "output_type": "display_data"
    }
   ],
   "source": [
    "size, scale = 1000, 10\n",
    "\n",
    "merge['prod'].plot.hist(grid=True, bins=8, rwidth=.95,\n",
    "                   color = '#2F4F4F', alpha = 0.6)\n",
    "plt.title('Provincial Drug Production')\n",
    "plt.xlabel('Production')\n",
    "plt.ylabel('Count')\n",
    "plt.grid(axis='y', alpha=0.75)\n",
    "\n",
    "#far closer to normal distribution "
   ]
  },
  {
   "cell_type": "markdown",
   "metadata": {},
   "source": [
    "### Due to this change, we now will refer to the logarithmic of the production data set when referring to the production variable. "
   ]
  },
  {
   "cell_type": "markdown",
   "metadata": {},
   "source": [
    "# Data Analysis"
   ]
  },
  {
   "cell_type": "markdown",
   "metadata": {},
   "source": [
    "We form multivariate regression models out of the variables based on their relation to one another. We separate the different variables into blocks due to the large quantity of variables tested for, and the limited number of observations. When simultaneously considering all predictors, it is impossible to determine with confidence if any variables are individually significant. Therefore, consistent with our original theory section, we form three blocks: Economic, Corruption and Geographic. The Economic variables considered are multports (the categorical interpretation of ports), GRP (Gross Regional Product) and exports as percentage of GDP. Geographic variables are distance to North Korea, distance to Hong Kong and distance to Myanmar. The Corruption grouping consists only of the average ranking of provincial corruption cases, as established in the data section. Population is considered as a control."
   ]
  },
  {
   "cell_type": "markdown",
   "metadata": {},
   "source": [
    "## Testing for Economic Variables"
   ]
  },
  {
   "cell_type": "code",
   "execution_count": 79,
   "metadata": {},
   "outputs": [],
   "source": [
    "import statsmodels.formula.api as smf\n",
    "\n"
   ]
  },
  {
   "cell_type": "code",
   "execution_count": 80,
   "metadata": {},
   "outputs": [],
   "source": [
    "merge.rename(index = str, columns = {'grp usd': 'grp'}, inplace= True)"
   ]
  },
  {
   "cell_type": "code",
   "execution_count": 81,
   "metadata": {
    "scrolled": false
   },
   "outputs": [
    {
     "name": "stdout",
     "output_type": "stream",
     "text": [
      "                            OLS Regression Results                            \n",
      "==============================================================================\n",
      "Dep. Variable:                   prod   R-squared:                       0.132\n",
      "Model:                            OLS   Adj. R-squared:                 -0.007\n",
      "Method:                 Least Squares   F-statistic:                    0.9470\n",
      "Date:                Tue, 18 Dec 2018   Prob (F-statistic):              0.453\n",
      "Time:                        13:03:38   Log-Likelihood:                -52.378\n",
      "No. Observations:                  30   AIC:                             114.8\n",
      "Df Residuals:                      25   BIC:                             121.8\n",
      "Df Model:                           4                                         \n",
      "Covariance Type:            nonrobust                                         \n",
      "==============================================================================\n",
      "                 coef    std err          t      P>|t|      [0.025      0.975]\n",
      "------------------------------------------------------------------------------\n",
      "Intercept     -0.0257      0.567     -0.045      0.964      -1.193       1.142\n",
      "ports[T.1]     0.5490      0.705      0.779      0.443      -0.903       2.001\n",
      "grp           -0.0038      0.003     -1.386      0.178      -0.009       0.002\n",
      "export         0.0586      0.035      1.689      0.104      -0.013       0.130\n",
      "pop            0.0184      0.022      0.838      0.410      -0.027       0.064\n",
      "==============================================================================\n",
      "Omnibus:                        2.140   Durbin-Watson:                   1.901\n",
      "Prob(Omnibus):                  0.343   Jarque-Bera (JB):                1.286\n",
      "Skew:                          -0.501   Prob(JB):                        0.526\n",
      "Kurtosis:                       3.163   Cond. No.                     1.20e+03\n",
      "==============================================================================\n",
      "\n",
      "Warnings:\n",
      "[1] Standard Errors assume that the covariance matrix of the errors is correctly specified.\n",
      "[2] The condition number is large, 1.2e+03. This might indicate that there are\n",
      "strong multicollinearity or other numerical problems.\n"
     ]
    }
   ],
   "source": [
    "print(smf.ols('prod ~ grp + ports + export + pop',data=merge).fit().summary())"
   ]
  },
  {
   "cell_type": "markdown",
   "metadata": {},
   "source": [
    "The first block tested is the Economic grouping of variables.  The variable, GRP is found to be statistically insignificant. GRP’s insignificance disproves the U.S. theory concerning rising wealth causing issues in enforceability. In China, the robustness of available surveillance systems and the government’s concern with security, may have decreased the impact of this factor on production. Additionally, we find that multport (the port variable) is also statistically insignificant. We believe that this may be a flaw in the model, due to the number of ports being strongly correlated with the total number of exports. Otherwise, the flaw may lie in the variable as a whole, because the number of ports says little about the quality of, as well as traffic through the ports.\n",
    "\n",
    "However, we find that export is moderately significant to the model. Exports have a positive sign relationship, meaning that as exports increase, production should also increase. This variable is more indicative of the quality and quantity of trade that passes through the province. Provinces that are more heavily reliant on trade would be more inclined to sell any goods they may have, both legal and illegal. Since we have originally posited that producers would want to ship drugs from close to the source of production, they would find significant advantages in provinces which are already conducting more trade."
   ]
  },
  {
   "cell_type": "markdown",
   "metadata": {},
   "source": [
    "## Testing for Geographic Variables"
   ]
  },
  {
   "cell_type": "code",
   "execution_count": 82,
   "metadata": {},
   "outputs": [
    {
     "name": "stdout",
     "output_type": "stream",
     "text": [
      "                            OLS Regression Results                            \n",
      "==============================================================================\n",
      "Dep. Variable:                   prod   R-squared:                       0.386\n",
      "Model:                            OLS   Adj. R-squared:                  0.288\n",
      "Method:                 Least Squares   F-statistic:                     3.937\n",
      "Date:                Tue, 18 Dec 2018   Prob (F-statistic):             0.0130\n",
      "Time:                        13:03:38   Log-Likelihood:                -47.166\n",
      "No. Observations:                  30   AIC:                             104.3\n",
      "Df Residuals:                      25   BIC:                             111.3\n",
      "Df Model:                           4                                         \n",
      "Covariance Type:            nonrobust                                         \n",
      "==============================================================================\n",
      "                 coef    std err          t      P>|t|      [0.025      0.975]\n",
      "------------------------------------------------------------------------------\n",
      "Intercept     -1.2787      2.037     -0.628      0.536      -5.474       2.916\n",
      "NK             0.0013      0.001      2.163      0.040    6.19e-05       0.003\n",
      "Burma          0.0010      0.001      1.368      0.184      -0.000       0.002\n",
      "HK            -0.0014      0.001     -2.755      0.011      -0.002      -0.000\n",
      "pop           -0.0055      0.010     -0.574      0.571      -0.025       0.014\n",
      "==============================================================================\n",
      "Omnibus:                        8.573   Durbin-Watson:                   2.455\n",
      "Prob(Omnibus):                  0.014   Jarque-Bera (JB):                6.946\n",
      "Skew:                          -0.978   Prob(JB):                       0.0310\n",
      "Kurtosis:                       4.315   Cond. No.                     2.67e+04\n",
      "==============================================================================\n",
      "\n",
      "Warnings:\n",
      "[1] Standard Errors assume that the covariance matrix of the errors is correctly specified.\n",
      "[2] The condition number is large, 2.67e+04. This might indicate that there are\n",
      "strong multicollinearity or other numerical problems.\n"
     ]
    }
   ],
   "source": [
    "print(smf.ols('prod ~ NK +  Burma +HK  +pop',data=merge).fit().summary())"
   ]
  },
  {
   "cell_type": "markdown",
   "metadata": {},
   "source": [
    "The variable, distance to North Korea, is strongly correlated to production. Additionally, the coefficient has a positive sign relationship, meaning that as one draws further away from North Korea, production grows. This result is very consistent with our theory. We hypothesized that due to North Korea’s state-sponsored meth production, the market would be saturated by a strong competitor. \n",
    "\n",
    "Distance to Hong Kong, is even more significant in this model. The sign correspondence was negative, meaning that distance from Hong Kong would decrease the amount of meth produced. This finding is also very consistent with our theory, as Hong Kong triads are noted as strong investors in the capital-intensive meth market. \n",
    "Distance to Myanmar has a p-value of 0.184, which implies no statistical significance. Myanmar is however located to the south of China, much like Hong Kong is. The correlation between the two factors may also have created some multicollinearity, causing the model to be incapable of discerning between the influence of the two continuous predictors. Regardless of the reason, any further tests that compare the Geographic block will omit Myanmar due to its relative insignificance."
   ]
  },
  {
   "cell_type": "markdown",
   "metadata": {},
   "source": [
    "## Testing for Corruption Variables"
   ]
  },
  {
   "cell_type": "code",
   "execution_count": 83,
   "metadata": {
    "scrolled": false
   },
   "outputs": [
    {
     "data": {
      "image/png": "[encoded data removed]",
      "text/plain": [
       "<matplotlib.figure.Figure at 0x299b4eae6d8>"
      ]
     },
     "metadata": {},
     "output_type": "display_data"
    }
   ],
   "source": [
    "import seaborn as sns\n",
    "sns.regplot(x=\"average\", y=\"prod\", data=merge);"
   ]
  },
  {
   "cell_type": "code",
   "execution_count": 91,
   "metadata": {
    "scrolled": false
   },
   "outputs": [
    {
     "name": "stdout",
     "output_type": "stream",
     "text": [
      "                            OLS Regression Results                            \n",
      "==============================================================================\n",
      "Dep. Variable:                   prod   R-squared:                       0.127\n",
      "Model:                            OLS   Adj. R-squared:                  0.063\n",
      "Method:                 Least Squares   F-statistic:                     1.971\n",
      "Date:                Tue, 18 Dec 2018   Prob (F-statistic):              0.159\n",
      "Time:                        13:08:23   Log-Likelihood:                -52.450\n",
      "No. Observations:                  30   AIC:                             110.9\n",
      "Df Residuals:                      27   BIC:                             115.1\n",
      "Df Model:                           2                                         \n",
      "Covariance Type:            nonrobust                                         \n",
      "==============================================================================\n",
      "                 coef    std err          t      P>|t|      [0.025      0.975]\n",
      "------------------------------------------------------------------------------\n",
      "Intercept     -0.7466      0.734     -1.017      0.318      -2.253       0.760\n",
      "average        0.0667      0.034      1.972      0.059      -0.003       0.136\n",
      "pop            0.0021      0.010      0.212      0.834      -0.018       0.022\n",
      "==============================================================================\n",
      "Omnibus:                       18.404   Durbin-Watson:                   2.082\n",
      "Prob(Omnibus):                  0.000   Jarque-Bera (JB):               25.716\n",
      "Skew:                          -1.467   Prob(JB):                     2.60e-06\n",
      "Kurtosis:                       6.459   Cond. No.                         151.\n",
      "==============================================================================\n",
      "\n",
      "Warnings:\n",
      "[1] Standard Errors assume that the covariance matrix of the errors is correctly specified.\n"
     ]
    }
   ],
   "source": [
    "print(smf.ols('prod ~ average +pop',data=merge).fit().summary())"
   ]
  },
  {
   "cell_type": "markdown",
   "metadata": {},
   "source": [
    "The third block tested was the Corruption grouping of variables.  In this model, our ranking of corruption scores a p-value of 0.059, making it significantly correlated with production. The sign relationship is also positive, meaning that more corruption results in higher production levels. This finding is very consistent with our original theory. Corruption would entail both immunity from law enforcement, as well as potential benefits in the forms of favorable prices or procurement of required tools and goods. This model is also consistent with the theories of previous literature, which state that corruption is correlated with production. "
   ]
  },
  {
   "cell_type": "markdown",
   "metadata": {},
   "source": [
    "## Testing for Corruption and Export"
   ]
  },
  {
   "cell_type": "markdown",
   "metadata": {},
   "source": [
    "We now take the significant variables from each one and test them together"
   ]
  },
  {
   "cell_type": "code",
   "execution_count": 85,
   "metadata": {},
   "outputs": [
    {
     "name": "stdout",
     "output_type": "stream",
     "text": [
      "                            OLS Regression Results                            \n",
      "==============================================================================\n",
      "Dep. Variable:                   prod   R-squared:                       0.160\n",
      "Model:                            OLS   Adj. R-squared:                  0.063\n",
      "Method:                 Least Squares   F-statistic:                     1.648\n",
      "Date:                Tue, 18 Dec 2018   Prob (F-statistic):              0.203\n",
      "Time:                        13:03:40   Log-Likelihood:                -51.883\n",
      "No. Observations:                  30   AIC:                             111.8\n",
      "Df Residuals:                      26   BIC:                             117.4\n",
      "Df Model:                           3                                         \n",
      "Covariance Type:            nonrobust                                         \n",
      "==============================================================================\n",
      "                 coef    std err          t      P>|t|      [0.025      0.975]\n",
      "------------------------------------------------------------------------------\n",
      "Intercept     -0.7578      0.734     -1.032      0.311      -2.267       0.751\n",
      "export         0.0223      0.022      1.000      0.326      -0.024       0.068\n",
      "average        0.0624      0.034      1.831      0.079      -0.008       0.132\n",
      "pop           -0.0020      0.011     -0.187      0.853      -0.024       0.020\n",
      "==============================================================================\n",
      "Omnibus:                       19.143   Durbin-Watson:                   2.057\n",
      "Prob(Omnibus):                  0.000   Jarque-Bera (JB):               28.329\n",
      "Skew:                          -1.486   Prob(JB):                     7.05e-07\n",
      "Kurtosis:                       6.718   Cond. No.                         156.\n",
      "==============================================================================\n",
      "\n",
      "Warnings:\n",
      "[1] Standard Errors assume that the covariance matrix of the errors is correctly specified.\n"
     ]
    }
   ],
   "source": [
    "print(smf.ols('prod ~ export + average + pop',data=merge).fit().summary())"
   ]
  },
  {
   "cell_type": "markdown",
   "metadata": {},
   "source": [
    "In this test, exports are found to be insignificant on production, however corruption is still moderately significant. The fact that corruption is more significant than economic variables is very consistent with our hypothesis. The economic situations in a province are far more circumstantial, while the corruption present is a much more active factor. Economic situations should not be as influential, since a corrupt provincial governor, who can provide assistance to the production team, is always far more impactful. "
   ]
  },
  {
   "cell_type": "markdown",
   "metadata": {},
   "source": [
    "## Testing for Geography and Economic"
   ]
  },
  {
   "cell_type": "code",
   "execution_count": 86,
   "metadata": {},
   "outputs": [
    {
     "name": "stdout",
     "output_type": "stream",
     "text": [
      "                            OLS Regression Results                            \n",
      "==============================================================================\n",
      "Dep. Variable:                   prod   R-squared:                       0.350\n",
      "Model:                            OLS   Adj. R-squared:                  0.275\n",
      "Method:                 Least Squares   F-statistic:                     4.667\n",
      "Date:                Tue, 18 Dec 2018   Prob (F-statistic):            0.00973\n",
      "Time:                        13:03:40   Log-Likelihood:                -48.032\n",
      "No. Observations:                  30   AIC:                             104.1\n",
      "Df Residuals:                      26   BIC:                             109.7\n",
      "Df Model:                           3                                         \n",
      "Covariance Type:            nonrobust                                         \n",
      "==============================================================================\n",
      "                 coef    std err          t      P>|t|      [0.025      0.975]\n",
      "------------------------------------------------------------------------------\n",
      "Intercept      0.0605      1.025      0.059      0.953      -2.047       2.168\n",
      "export         0.0166      0.020      0.822      0.419      -0.025       0.058\n",
      "NK             0.0007      0.000      2.163      0.040    3.71e-05       0.001\n",
      "HK            -0.0007      0.000     -1.941      0.063      -0.001    4.14e-05\n",
      "==============================================================================\n",
      "Omnibus:                        7.371   Durbin-Watson:                   2.331\n",
      "Prob(Omnibus):                  0.025   Jarque-Bera (JB):                5.682\n",
      "Skew:                          -0.987   Prob(JB):                       0.0584\n",
      "Kurtosis:                       3.804   Cond. No.                     9.84e+03\n",
      "==============================================================================\n",
      "\n",
      "Warnings:\n",
      "[1] Standard Errors assume that the covariance matrix of the errors is correctly specified.\n",
      "[2] The condition number is large, 9.84e+03. This might indicate that there are\n",
      "strong multicollinearity or other numerical problems.\n"
     ]
    }
   ],
   "source": [
    "print(smf.ols('prod ~ export + NK + HK',data=merge).fit().summary())"
   ]
  },
  {
   "cell_type": "markdown",
   "metadata": {},
   "source": [
    "Exports are found to be insignificant, therefore fully removing economic variables from our ending model. Distance to Hong Kong is found to be highly significant as is distance to North Korea. This result could be partially due to multicollinearity as coastal provinces tend to trade more and are geographically closer to Hong Kong. However, the more likely explanation is the aforementioned active vs. circumstantial factor. Being positioned near Hong Kong provides active benefits, while propensity to trade can only somewhat increase the extent to which producers can export illicit goods."
   ]
  },
  {
   "cell_type": "markdown",
   "metadata": {},
   "source": [
    "## Testing for Geography and Corruption"
   ]
  },
  {
   "cell_type": "code",
   "execution_count": 87,
   "metadata": {},
   "outputs": [
    {
     "name": "stdout",
     "output_type": "stream",
     "text": [
      "                            OLS Regression Results                            \n",
      "==============================================================================\n",
      "Dep. Variable:                   prod   R-squared:                       0.343\n",
      "Model:                            OLS   Adj. R-squared:                  0.238\n",
      "Method:                 Least Squares   F-statistic:                     3.261\n",
      "Date:                Tue, 18 Dec 2018   Prob (F-statistic):             0.0278\n",
      "Time:                        13:03:40   Log-Likelihood:                -48.196\n",
      "No. Observations:                  30   AIC:                             106.4\n",
      "Df Residuals:                      25   BIC:                             113.4\n",
      "Df Model:                           4                                         \n",
      "Covariance Type:            nonrobust                                         \n",
      "==============================================================================\n",
      "                 coef    std err          t      P>|t|      [0.025      0.975]\n",
      "------------------------------------------------------------------------------\n",
      "Intercept      0.8477      1.328      0.638      0.529      -1.887       3.583\n",
      "NK             0.0006      0.000      1.529      0.139      -0.000       0.001\n",
      "average        0.0107      0.036      0.294      0.771      -0.064       0.086\n",
      "HK            -0.0009      0.000     -2.207      0.037      -0.002   -5.86e-05\n",
      "pop           -0.0050      0.010     -0.505      0.618      -0.026       0.016\n",
      "==============================================================================\n",
      "Omnibus:                       12.332   Durbin-Watson:                   2.407\n",
      "Prob(Omnibus):                  0.002   Jarque-Bera (JB):               11.852\n",
      "Skew:                          -1.234   Prob(JB):                      0.00267\n",
      "Kurtosis:                       4.843   Cond. No.                     1.24e+04\n",
      "==============================================================================\n",
      "\n",
      "Warnings:\n",
      "[1] Standard Errors assume that the covariance matrix of the errors is correctly specified.\n",
      "[2] The condition number is large, 1.24e+04. This might indicate that there are\n",
      "strong multicollinearity or other numerical problems.\n"
     ]
    }
   ],
   "source": [
    "print(smf.ols('prod ~ NK +average+HK+pop',data=merge).fit().summary())"
   ]
  },
  {
   "cell_type": "markdown",
   "metadata": {},
   "source": [
    "Our final multivariate regression model tests the relationship between Corruption and Geography, the two remaining significant blocks . In this model, the variables tested are distance to Hong Kong, distance to North Korea, and corruption (ranking). In this model, distance to North Korea is found to be statistically insignificant, however distance to Hong Kong is found to be highly significant. Most importantly, corruption is found to be statistically insignificant. This model proves that geography has a greater impact on production than corruption. "
   ]
  },
  {
   "cell_type": "markdown",
   "metadata": {},
   "source": [
    "### Best-Fitting Model"
   ]
  },
  {
   "cell_type": "markdown",
   "metadata": {},
   "source": [
    "Given the importance of geography, and the multivariate regression models we have established, we interpret the geographic regression as the best fitting model.  Regression 1 has the highest adjusted R-squared coefficient of 0.386. "
   ]
  },
  {
   "cell_type": "markdown",
   "metadata": {},
   "source": [
    "# Discussion"
   ]
  },
  {
   "cell_type": "markdown",
   "metadata": {},
   "source": [
    "Upon closer investigation of our regression models, we identify a new mechanism that is responsible for the importance of geographic variables relative to corruption. We interpret corruption and geography as independent factors rather than complementary to one another upon the addition of this mechanism. \n",
    "\n",
    "When comparing geography and corruption, we can split these factors into two distinct potential sources of investment. Proximity to Hong Kong gives a producer access to investment from the Triads, whereas a corrupt politician is similar to a patronage resource, coming in the form of both tangible and intangible benefits. The two ‘ownership’ structures are necessarily in conflict with one another based on the Coase Theorem. According to Coase Theorem, property rights are important, because when a rational actor possesses property rights, they are incentivized to act in the most efficient manner. However, cases where ownership rights are not as clear will necessarily result in less efficient outcomes due to the impediments resulting from inability to bargain.  In the case of an investment from Hong Kong, we assume that ownership rights are maintained with the producer, or the Hong Kong triads directly hold ownership rights, and are therefore incentivized to come to more efficient outcomes.  On the other hand, corruption may also provide desired financial benefits from politicians, but the ensuing transference of ownership rights, and the murky status producers enter in terms of future political, financial and social costs, is deleterious to efficient outcomes (the weight adjusted cost of capital spikes signficantly). Therefore, corruption's patronage resource and Hong Kong's triad resource are seen to be discrete financing options which change the propensity to produce at their own rates. It is far more likely then that the provinces around Hong Kong exhibit corruption due to efficiency from criminal groups in infiltration of bureaucracy structures. \n",
    "\n",
    "\n"
   ]
  },
  {
   "cell_type": "markdown",
   "metadata": {},
   "source": [
    "# Conclusion"
   ]
  },
  {
   "cell_type": "markdown",
   "metadata": {},
   "source": [
    "In this paper, we have analyzed the production of methamphetamine in China. To examine the relationship between Economic, Geographic and Corruption variables to the production of meth, we constructed several indices and proxy variables on the provincial level.\n",
    "    \n",
    "We hypothesized that Geographic variables would have the greatest influence. The data suggests that our hypothesis was correct; provinces in the Southeast produce the most meth. In contrast, Economic variables are found to be negligible. The Corruption variable’s significance is more difficult to compare relative to the Geographic variables, due to the presence of multicollinearity. We therefore, attempt to use economic theory to rationalize the regression model's outcomes.\n",
    "\n",
    "Our results imply that production is determined by factors operating individually, rather than collectively. Corruption and Geographic variables are both present as determinants of production, but our findings show that their influence is due to alternative methods of financing. Different financing options modify the ownership structures of illicit production, therefore impacting their production outcomes. The provincial comparative advantage we observe is due to the Coase Theorem’s application on the illicit drug industry and its weight adjusted cost of capital.\n",
    "\n",
    "These findings imply that there is a gap in the current literature. As previously stated, most experts have cited Corruption and Economic variables as the strongest predictors of meth production, possibly due to their ubiquity. Corruption is categorized as the sole dynamic, endogenous variable. The current literature fails to account for the impacts of exogenous variables, and does not consider the intermediary concept of ownership structures on illicit production. \n",
    "\n",
    "When applying our findings to unobserved cases, researchers must attempt to speculate on the inflow of exogenous investments into the area. Although the distance to Hong Kong is solely a domestic determinant in China, distances to other criminal syndicates or white collar crime hubs can be major influencers internationally. \n"
   ]
  },
  {
   "cell_type": "markdown",
   "metadata": {},
   "source": [
    "# Bibliography"
   ]
  },
  {
   "cell_type": "markdown",
   "metadata": {},
   "source": [
    "“58 Arrested, 40 Weapons Seized as Chinese Police Crack International Arms Network | South China Morning Post.” Accessed May 5, 2018. http://www.scmp.com/news/china/society/article/2118128/58-arrested-40-weapons-seized-chinese-police-crack-international.\n",
    "\n",
    "Aidt, T. S., 2003, „Economic Analysis of Corruption: A Survey‟, The Economic Journal, Vol. 113 \n",
    "(491), pp. 632-52\n",
    "\n",
    "“Acting DEA Administrator Meets With Drug Control Officials in China.” P&T Community, January 13, 2017. https://www.ptcommunity.com/news/20170113/acting-dea-administrator-meets-drug-control-officials-china.\n",
    "\n",
    "“A People’s War Final.” Accessed May 5, 2018. https://www.brookings.edu/wp-content/uploads/2016/07/A-Peoples-War-final.pdf.\n",
    "\n",
    "“The ATS Boom in Southeast Asia.” Accessed May 5, 2018. https://www.tni.org/files/download/ATSBoom.pdf.\n",
    "\n",
    "“Biggest Number of Chinese Provincial-Level Corruption Suspects ‘Caught in Guangdong’ | South China Morning Post.” Accessed May 5, 2018. http://www.scmp.com/news/china/policies-politics/article/1843983/biggest-number-chinese-provincial-level-corruption.\n",
    "\n",
    "Brainard, S. Lael. \"An Empirical Assessment Of The Proximity-Concentration Trade-Off \n",
    "Between Multinational Sales And Trade.\" American Economic Review 4269 (1997): \n",
    "520-44. Accessed May 6, 2018. doi:10.3386/w4269.\n",
    "\n",
    "Brouwer, Kimberly C., Patricia Case, Rebeca Ramos, Carlos Magis-Rodríguez, Jesus Bucardo, Thomas L. Patterson, and Steffanie A. Strathdee. “Trends in Production, Trafficking, and Consumption of Methamphetamine and Cocaine in Mexico.” Substance Use & Misuse 41, no. 5 (January 1, 2006): 707–27. https://doi.org/10.1080/10826080500411478.\n",
    "\n",
    "Brownfield, William R. International Narcotics Control Strategy Report: Volume I: Drug and Chemical Control. DIANE Publishing, 2011.\n",
    "\n",
    "“China Ephedrine, Ephedrine Manufacturers, Suppliers | Made-in-China.Com.” Accessed May 5, 2018. https://www.made-in-china.com/products-search/hot-china-products/ephedrine.html.\n",
    "\n",
    "“China: Export of Goods by Region 2016 | Statistic.” Statista. Accessed May 5, 2018. https://www.statista.com/statistics/278579/export-of-goods-from-china-by-region/.\n",
    "\n",
    "“Chinese Police Seize 2.4 Tons of Meth in Major Drug Bust in Guangdong Province.” VICE News. Accessed May 5, 2018. https://news.vice.com/article/chinese-police-seize-24-tons-of-meth-in-major-drug-bust-in-guangdong-province.\n",
    "\n",
    "Chouvy, Pierre-Arnaud, and Joël Meissonnier. Yaa Baa: Production, Traffic, and Consumption of Methamphetamine in Mainland Southeast Asia. NUS Press, 2004.\n",
    "\n",
    "Cole, Matthew., Elliott, Robert, J., Zhang, Jing..“Corruption, Governance and FDI Location in China: A Province-level Analysis.” Accessed May 5, 2018. https://www.birmingham.ac.uk/Documents/college-social-sciences/business/economics/2008-papers/2008-discussion-papers/08-06.pdf.\n",
    "\n",
    "Crime, United Nations Office on Drugs and. 2006 World Drug Report: Analysis. United Nations Publications, 2006.\n",
    "\n",
    "Coase, Ronald H. “The Problem of Social Cost.” Journal of Law and Economics, 1960, 1–44.\n",
    "\n",
    "Diplomat, Shannon Tiezzi, The. “China’s Growing Drug Problem.” The Diplomat. Accessed May 5, 2018. https://thediplomat.com/2015/05/chinas-growing-drug-problem/.\n",
    "\n",
    "Dobkin, Carlos, and Nancy Nicosia. “The War on Drugs: Methamphetamine, Public Health, and Crime.” The American Economic Review 99, no. 1 (March 1, 2009): 324–49. https://doi.org/10.1257/aer.99.1.324.\n",
    "\n",
    "“It Came from the North: Estimating the Flow of Methamphetamine and Other Synthetic Drugs From Quebec, Canada.” Accessed May 5, 2018. https://pdfs.semanticscholar.org/3d3d/f7eaa61321ed769a304b2e8eabd9b857a19a.pdf.\n",
    " \n",
    "Global Illicit Drug Trends 2015. United Nations Publications, n.d.\n",
    "\n",
    "Gong, Ting. “Dangerous Collusion: Corruption as a Collective Venture in Contemporary China.” Communist and Post-Communist Studies 35, no. 1 (March 1, 2002): 85–103. https://doi.org/10.1016/S0967-067X(01)00026-5.\n",
    "\n",
    "Grau, Lauren. “Cutting off the Building Blocks to Methamphetamine Production: A Global Solution to Methamphetamine Abuse Comment.” Houston Journal of International Law 30 (2008 2007): 157–202.\n",
    "\n",
    "Hamilton, Keegan. \"North Korea's Huge Role In Global Meth Trade Revealed In Insane Criminal Case.\" Business Insider, April 4, 2014. Accessed May 6, 2018.\n",
    " \n",
    "Holz, Carsten A. \"No Razors Edge: Reexamining Alwyn Youngs Evidence for Increasing Inter-Provincial Trade Barriers in China.\" SSRN Electronic Journal, 2006. doi:10.2139/ssrn.887683.\n",
    "\n",
    "\"Hong Kong Monetary Authority - Anti-Money Laundering and Counter-Financing of Terrorism \n",
    "(AML/CFT).\" Hong Kong Monetary Authority - Press Release - Residential Mortgage Survey. Accessed May 06, 2018. http://www.hkma.gov.hk/eng/key-functions/banking-stability/aml-cft.shtml.\n",
    "\t\n",
    "Kao, A., Huang, J., and J. Pan., 2005, „China Governance Efficiency and Foreign Direct\n",
    "Investment‟ (Chinese), Review of Taiwan Economics, Vol. 11, 2, pp. 131-56.\n",
    "\n",
    "Kommerskollegium. “Trade and the Fight against Corruption.” Accessed May 5, 2018. https://www.kommers.se/upload/Analysarkiv/In%20English/Trade_and_the_Fight_against_Corruption.pdf.\n",
    "\n",
    "Levin, Dan. “Despite a Crackdown, Use of Illegal Drugs in China Continues Unabated.” The New York Times, January 24, 2015, sec. Asia Pacific. https://www.nytimes.com/2015/01/25/world/despite-a-crackdown-use-of-illegal-drugs-in-china-continues-unabated.html.\n",
    "\n",
    "Makinen, Julie. “Drug Seizures Soar in China; Most Suspects Are ‘Farmers and Unemployed.’” latimes.com. Accessed May 5, 2018. http://www.latimes.com/world/asia/la-fg-drugs-china-meth-ice-20160218-story.html.\n",
    "\n",
    "“Mapping China’s Small Arms Trade: China’s Illicit Domestic Gun Trade.” Jamestown. Accessed May 5, 2018. https://jamestown.org/program/mapping-chinas-small-arms-trade-chinas-illicit-domestic-gun-trade/.\n",
    "\n",
    "“Manufacture Seizures of Illicit Laboratories.” Accessed May 5, 2018. http://www.unodc.org/documents/wdr/WDR_2009/WDR2009_Lab-seizures.pdf.\n",
    "\n",
    "“Methodology for U.S. Government Estimates of Illegal Drug Production.” U.S. Department of State. Accessed May 5, 2018. http://www.state.gov/j/inl/rls/nrcrpt/2014/vol1/222446.htm.\n",
    "\n",
    "“Methamphetamine Reporting Act: Michigan State Police Methamphetamine Investigation Team” Accessed May 5, 2018. https://www.michigan.gov/documents/msp/Meth_Reporting_Act_Legislative_Report_2015_492848_7.pdf.\n",
    "\n",
    "“Narcotics Control in China.” Accessed May 5, 2018. http://www.china-embassy.org/eng/zt/mzpkz/t36387.htm.\n",
    "\n",
    "“Narcotics Control Reports.” Accessed May 5, 2018. https://www.state.gov/j/inl/rls/nrcrpt/.\n",
    "\n",
    "“National Data.” Accessed May 5, 2018. http://data.stats.gov.cn/english/.\n",
    " \n",
    "Porter, Michael E. The Competitive Advantage of Nations. London: Macmillan, 1990.\n",
    "\t\n",
    "Sappington, David E.M., Gregory M. Sidak. “Anticompetitive Behavior by State-Owned Enterprises: Incentives and Capabilities .” Accessed May 5, 2018. https://www.hoover.org/sites/default/files/uploads/documents/081793992X_1.pdf.\n",
    " \n",
    "Yang, Zi. \"Rural China and the Asian Methamphetamine Trade: A Case Study of Lufeng.\" China \n",
    "Brief Volume: 17, no. 2 (February 6, 2017): 19-25. Accessed May 6, 2018. Jamestown \n",
    "Foundation.https://jamestown.org/program/rural-china-asian-methamphetamine-trade-case-study-lufeng/\n",
    "\n",
    "Shleifer, Andrei, and Robert Vishny. \"Corruption.\" The Quarterly Journal of Economics 108, no. 3 (August 1993). doi:10.3386/w4372.\n",
    "\n",
    "Song, P., B. Zhang, Y. Song, and Y. Wei. “[Confusable species of traditional Chinese drugs in Gansu Province and their quality: (1). A survey of drugs customarily used in Gansu Province].” Zhongguo Zhong Yao Za Zhi = Zhongguo Zhongyao Zazhi = China Journal of Chinese Materia Medica 21, no. 12 (December 1996): 717–20, 760.\n",
    "\n",
    "\"The Drug Problem and Organized Crime, Illicit Financial Flows, Corruption and Terrorism.\" World Drug Report World Drug Report 2017 17, no. XII (June 30, 2017): 1-45. doi:10.18356/550b8369-en.\n",
    "\t\n",
    "Timmons, Heather, and Gang Yang. “How a Massive Meth Bust in China Is Tied to Traditional Medicine.” Quartz (blog). Accessed May 5, 2018. https://qz.com/163076/how-a-massive-meth-bust-in-china-is-tied-to-traditional-medicine/.\n",
    "\n",
    "Tinbergen, Jan. “Shaping the World Economy; Suggestions for an International Economic \n",
    "Policy,” January 1, 1962. https://repub.eur.nl/pub/16826/.\n",
    "\n",
    "Tressler, J.h, and C.f Menezes. \"Labor Supply and Wage Rate Uncertainty.\" Journal of Economic \n",
    "Theory 23, no. 3 (January 31, 1980): 425-36. Accessed May 6, 2018. \n",
    "doi:10.1016/0022-0531(80)90023-x.\n",
    "\t\n",
    "Wainwright, Tom. Narconomics: How to Run a Drug Cartel. London: Ebury Press, 2017.\n",
    "\t \n",
    "Yunqing, Cao 曹云清, 走私犯罪的现状与发展趋势 [Smuggling-related Crime and its Future Trajectory], Journal of Jiangxi Police Institute 6\n",
    "\t\n",
    "Zhang, Yong-an. “Asia’s ATS Epidemic: The Challenges for China.” Brookings (blog), November 30, 2001. https://www.brookings.edu/opinions/asias-ats-epidemic-the-challenges-for-china/.\n",
    "\n",
    "Zhong, Hai. “Measuring Corruption in China: An Expenditure-Based Approach Using Household Survey Data.” Economica 85, no. 338 (April 1, 2018): 383–405. https://doi.org/10.1111/ecca.12198.\n",
    "\n",
    "Zhu, Boliang. “MNCs, Rents and Corruption: Evidence from China” Princeton Press. Accessed May 5, 2018. https://www.princeton.edu/politics/about/file-repository/public/Zhu_MNCs-and-Corruption-in-China.pdf.\n",
    " \n",
    "“广东制毒‘第一大村’何以成为‘法外之地’-图闻- 东南网.” Accessed May 5, 2018. http://news.fjsen.com/2014-01/04/content_13275467_all.htm.\n",
    "\n",
    "“记者探访广东制毒村：村民焚烧整箱真钞祭祖.” Accessed May 5, 2018. http://new.qq.com/cmsn/20140118/20140118004012.\n",
    "\n",
    "樊新民. “我国毒品社会问题新趋势与应对思路.” 广东社会科学, no. 02 (2015): 188–93.\n",
    "\n",
    "首页 - 中国裁判文书网.” Accessed May 6, 2018. http://wenshu.court.gov.cn/.\n"
   ]
  },
  {
   "cell_type": "code",
   "execution_count": null,
   "metadata": {},
   "outputs": [],
   "source": []
  }
 ],
 "metadata": {
  "kernelspec": {
   "display_name": "Python 3",
   "language": "python",
   "name": "python3"
  },
  "language_info": {
   "codemirror_mode": {
    "name": "ipython",
    "version": 3
   },
   "file_extension": ".py",
   "mimetype": "text/x-python",
   "name": "python",
   "nbconvert_exporter": "python",
   "pygments_lexer": "ipython3",
   "version": "3.6.4"
  }
 },
 "nbformat": 4,
 "nbformat_minor": 2
}
