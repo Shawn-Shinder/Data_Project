{
 "cells": [
  {
   "cell_type": "code",
   "execution_count": 1,
   "metadata": {},
   "outputs": [],
   "source": [
    "import pandas as pd\n",
    "import matplotlib.pyplot as plt\n",
    "import numpy as np"
   ]
  },
  {
   "cell_type": "markdown",
   "metadata": {},
   "source": [
    "# Background"
   ]
  },
  {
   "cell_type": "markdown",
   "metadata": {},
   "source": [
    "The illegal narcotics trade in China has been shaped by many factors including history, geography, politics and the economy. Historically, due to both China’s proximity to the Golden Triangle and the Opium Wars, opium has played an integral role in China’s drug trade. Today, due to less oversight and developed networks of planting cooperatives, opium production has moved south of China’s border, coalescing in Southeast Asian nations. With the dawn of a new age of drugs, China now synthesizes drugs such as meth amphetamine, ecstasy and nimetazepam. Ephedra, the plant used to produce pseudoephedrine and ephedrine, the precursor chemicals necessary to produce meth, is legal and indigenous to Northern China. Furthermore, with China’s massive population and economic growth, enforcement of illegal drugs is incredibly difficult. Most drugs are then exported to Western countries, such as the US where they present massive health risks. This paper seeks to develop a model that detects the profitability and accessibility of certain provinces to the production of meth amphetamine. We hope to be able to quantify each factor that contributes to production, and through the use of statistical analysis, formalize the significance of each input in terms of impact on output. \n"
   ]
  },
  {
   "cell_type": "markdown",
   "metadata": {},
   "source": [
    "#  Theory and Literature Review"
   ]
  },
  {
   "cell_type": "markdown",
   "metadata": {},
   "source": [
    "Methamphetamine production is a highly secretive and complicated illegal industry. There is a distinct lack of literature related to the production of methamphetamine in China. The Chinese government presents a major barrier to collecting accurate production estimates, and often impedes general data accumulation. Currently, most researchers rationalize drug production as a function of variables such as corruption, augmented by endogenous variables such as economic situation. This paper attempts to create a link between a site’s level of production and its underlying corruption, geographic positioning and economy. These overarching classifications are broken into more complex individual subcategories which we explore in depth.\n",
    "\n",
    "In order to facilitate any large-scale illegal activity in China, corruption is a necessary component. Corruption occurs at the local, provincial and national levels. At the local and provincial levels, officials can easily be bribed to overlook and even hide illegal activities. Corruption allows precursor chemicals to be purchased at price points that boost profit margins. We use a variable built around the number of provincial arrests in anti-corruption cases. A possible limitation behind using corruption arrests as a substitute variable is the politically charged nature of the arrests. Xi Jinping has personally vanguarded the anti-corruption campaign, potentially targeting direct enemies of his regime in order to consolidate power. \n",
    "\n",
    "Geographic location and surrounding points of interest are important to consider when deciding where to operate meth laboratories. As explained by Brainard’s Proximity-Concentration Trade-Off Theory, there is an inherent conflict between moving the production process closer to the consumer to cut transportation costs, and creating a clustered production chain to maximize cost-efficiency around the input factors. Such theories do not entirely apply to illicit goods, as the risk of transporting drugs exaggerates marginal costs significantly. In fact, the high street value of most illegal narcotics can be attributed to risk. Ephedra, the main ingredient needed to synthesize meth, is grown in northern provinces of China such as Inner Mongolia and Xinjiang. Ephedra is legal in China since it is commonly used for medicinal purposes. This allows producers to easily transport ephedra throughout China. Since it is easy to transport precursor chemicals, access to water or a port should be more important than proximity to raw materials for Chinese producers looking to sell abroad. Transporting finished meth throughout China is risky, so producers will seek to export it as quickly as possible.\n",
    "\n",
    "Chinese meth manufacturing should be negatively affected by proximity to North Korea, a country that has state-sponsored meth production. Since the early 2000’s, North Korea has been producing large quantities of meth, much of which is trafficked through Northeast China or Vladivostok. According to the theory set out by Sappington and Sidak, state owned enterprises (SOE’s) marginalize and attempt to outcompete rival private firms. In highly competitive industries, SOE’s engage in anti-competitive behavior such as using privileged access to resources to price out competitors (predatory pricing). Chinese producers, who are more segmented than their DPRK counterparts, fight over a limited market share, superior-grade meth, and anti-competitive behavior.\n",
    "\n",
    "Proximity to Myanmar should be a favorable factor due to the effects of external economies of scale. In comparison to North Korea’s strong internal economy of scale, Myanmar’s meth production is segmented (ie. populated by smaller manufacturers). Based on Michael Porter’s clustering framework, industry clusters spill over international borders, especially ones as porous and under-regulated as the Myanmar/China border. Stronger competition leads to information sharing and innovation, so the meth industry thrives when close to this border region.\n",
    "\n",
    "Proximity to Hong Kong should be favorable to meth production. According to UNODC reports from the early 2000’s, Hong Kong was one of the largest meth-making hubs in the region. A “historical accident”, has built a cultural foundation around the sale and production of illicit drugs. Based on HSBC reports, Hong Kong is a regional leader in financial crimes such as money laundering. According to Brouwer and Case, production of illicit drugs requires large criminal syndicates to raise necessary capital. These syndicates allow producers to connect with dealers and sell their products in bulk. In Mainland China, there is a distinct lack of organized gangs. In comparison, the Triads are a notable criminal organization from Hong Kong. Xinmin points out that due to weak competition from domestic gangs, the Triads have dominated criminal activity in Mainland China. Due to the need for constant financing, and the presence of money laundering, Xinmin asserts that Hong Kong triad members have stepped in to fill the role of traditional investors.\n",
    "\n",
    "Beyond spatial positioning and corruption, the local economy and demographics should play a role in the determination of favorable locations for meth production.  This paper subdivides the economy into four specific variables: Gross Regional Product, importance of exports, population size, and major ports.\n",
    "\n",
    "Higher provincial GRP should be positively correlated with meth production. Higher GRP allows profits from drug production to be hidden behind province’s relative wealth. When dealing with developing countries, state-led oversight committees lack resources needed to investigate growth of illegal profits, particularly if trends are consistent with those of the province. Larger administrative subdivisions, such as provinces or states, should exhibit higher GRP’s when producing more meth. Furthermore, according to Tinbergen’s Gravity Model, high GDP should lead to more trade with other high GDP areas. Higher trade predicts increased demand for an area’s exports, leading to more production of both legal and illegal goods to address unfulfilled demand. \n",
    "\n",
    "Increased population size, could also imply higher levels of production. This stems from either difficulties in enforceability, or increased supply of laborers. Similar to the case of GRP, higher populations allow producers to hide activities. Enforcement agents cannot address all cases; the lack of funds makes the opportunity costs of investigations much higher when the total quantity is also greater. The labor supply is also highly correlated with population, giving producers more bargaining power in terms of setting wages, as well as a greater possibility of finding skilled laborers (chemists). \n"
   ]
  },
  {
   "cell_type": "markdown",
   "metadata": {},
   "source": [
    "# Thesis "
   ]
  },
  {
   "cell_type": "markdown",
   "metadata": {},
   "source": [
    "According to the UNODC, “the drug problem and corruption have a mutually reinforcing relationship. Corruption facilitates the production and trafficking of illegal drugs and this, in turn, benefits corruption.” In this paper, we predict that corruption should not be the factor responsible for output. In China, cross-provincial trade is restricted, as there are many formal tariffs and checkpoints to inspect products shipped. When transporting drugs, each barrier exposes producers to risks of rent extraction or arrests. Due to these risks, costs of transporting drugs are distorted. Based on these distortions, we can begin to analyze provinces as individual actors in the division of labor for synthetic drug production. Comparative advantages should begin to emerge as ‘inter-province tariffs’ segment suppliers. Without considering each province’s comparative advantage, it would be impossible to determine which province is the most productive and the largest exporter of drugs. Our hypothesis is that geography is the greatest point of differentiation between comparative advantages. Therefore, our model will present a far more accurate depiction of productivity between provinces, which directly leads to higher production output. \n"
   ]
  },
  {
   "cell_type": "markdown",
   "metadata": {},
   "source": [
    "# Data "
   ]
  },
  {
   "cell_type": "markdown",
   "metadata": {},
   "source": [
    "First, we create a data set using figures on the economics of the provinces of China. As previously noted, we designate grp(rmb) as the regional gross domestic product of China in Renminbi, pop is the population of each province in millions, ports is the number of major ports within the territority, and export is the RMB value of all exports in this province. "
   ]
  },
  {
   "cell_type": "markdown",
   "metadata": {},
   "source": [
    "### Note"
   ]
  },
  {
   "cell_type": "markdown",
   "metadata": {},
   "source": [
    "We have uploaded our data to github in order to allow others to download our data directly from this document. "
   ]
  },
  {
   "cell_type": "markdown",
   "metadata": {},
   "source": [
    "#### Provincial Economic Data"
   ]
  },
  {
   "cell_type": "code",
   "execution_count": 2,
   "metadata": {},
   "outputs": [],
   "source": [
    "url=\"https://raw.githubusercontent.com/Shawn-Shinder/Data_Project/master/data.csv\"\n",
    "df=pd.read_csv(url)"
   ]
  },
  {
   "cell_type": "code",
   "execution_count": 3,
   "metadata": {},
   "outputs": [],
   "source": [
    "df['grp rmb'] = df['grp rmb'].str.replace(',', '')\n",
    "df['grp rmb'] = df['grp rmb'].astype(float)\n",
    "df['ports'] = df['ports'].astype(float)\n",
    "df.dtypes"
   ]
  },
  {
   "cell_type": "markdown",
   "metadata": {},
   "source": [
    "Now we reconfirm grp(RMB) into USD to maintain the integrity and readability of this data. To do so we will try to avoid the risk inherent in changing exchange rates, and use the average RMB-USD rate for the year. In this case, we will use the variable \n",
    "rmb to display average exchange rates for 2016"
   ]
  },
  {
   "cell_type": "code",
   "execution_count": 8,
   "metadata": {},
   "outputs": [],
   "source": [
    "rmb= 6.9421\n",
    "df['grp usd'] = df['grp rmb']/rmb"
   ]
  },
  {
   "cell_type": "markdown",
   "metadata": {},
   "source": [
    "We can now delete grp(rmb) as it will be a redundancy in our data"
   ]
  },
  {
   "cell_type": "code",
   "execution_count": 9,
   "metadata": {},
   "outputs": [],
   "source": [
    "df = df.drop(\"grp rmb\", axis=1)"
   ]
  },
  {
   "cell_type": "markdown",
   "metadata": {},
   "source": [
    "To account for differences in GRP between provinces, we take the percentage of exports to total GRP. This will remove biases in large more rich provinces. "
   ]
  },
  {
   "cell_type": "code",
   "execution_count": 10,
   "metadata": {},
   "outputs": [],
   "source": [
    "df['export'] = (df['export'] / df['grp usd'] ) * 100"
   ]
  },
  {
   "cell_type": "markdown",
   "metadata": {},
   "source": [
    "#### Provincial Geographic Data"
   ]
  },
  {
   "cell_type": "code",
   "execution_count": 11,
   "metadata": {},
   "outputs": [],
   "source": [
    "geo_url= \"https://raw.githubusercontent.com/jdupes/Data_Final_Project/master/geo.csv\"\n",
    "\n",
    "geo = pd.read_csv(geo_url)  "
   ]
  },
  {
   "cell_type": "markdown",
   "metadata": {},
   "source": [
    "Cleaning: \n",
    "    The variables in the datasets are strings, that include commas.\n",
    "    \n",
    "    We first have to delete all commas from each column. \n",
    "    Secondly, we have to convert the strings into floats."
   ]
  },
  {
   "cell_type": "code",
   "execution_count": 12,
   "metadata": {},
   "outputs": [],
   "source": [
    "geo['NK'] = geo['NK'].str.replace(',', '')\n",
    "geo['NK'] = geo['NK'].astype(float)\n",
    "geo['Burma'] = geo['Burma'].str.replace(',', '')\n",
    "geo['Burma'] = geo['Burma'].astype(float)\n",
    "geo['HK'] = geo['HK'].str.replace(',', '')\n",
    "geo['HK'] = geo['HK'].astype(float)\n",
    "geo.dtypes"
   ]
  },
  {
   "cell_type": "markdown",
   "metadata": {},
   "source": [
    "#### Provincial Corruption Data"
   ]
  },
  {
   "cell_type": "code",
   "execution_count": 14,
   "metadata": {},
   "outputs": [],
   "source": [
    "corrupt_url = \"https://raw.githubusercontent.com/Shawn-Shinder/Data_Project/c/corrupt.csv\"\n",
    "corrupt = pd.read_csv(corrupt_url)"
   ]
  },
  {
   "cell_type": "markdown",
   "metadata": {},
   "source": [
    "We have now added our corruption variables as a csv. Our data is segmented into years (2001-2003) and is calculated in corruption arrests per 100000 people. "
   ]
  },
  {
   "cell_type": "markdown",
   "metadata": {},
   "source": [
    "#### Rationale for Corruption Data"
   ]
  },
  {
   "cell_type": "markdown",
   "metadata": {},
   "source": [
    "Objective methods of measuring corruption differ between scholars. Some, such as Zhu, go for the direct approach. Zhu uses the exact amount of people arrested on corruption charges by province.  However, the direct usage of law enforcement statistics in operationalization is problematic due to the nature of law enforcement in China. There are concerns regarding police targeting suspects who are directly opposed to the current regime, and anti-corruption campaigns are frequently associated with a restructuring of the distributions of power.\n",
    "\n",
    "This paper instead decides to operationalize corruption using the methods of Cole, Elliott, and Zhang.  Their paper, in an attempt to determine the variables responsible for flows of FDI, has created a novel measurement for corruption. Zhu established the expectation that the most corrupt provinces have the most arrests, but in reality, with an opaque legal system in place, China should exhibit a reverse relationship. The theory is consistent with Shleifer and Vishny’s analysis that provinces should experience corruption in a self-reinforcing manner, where one corrupt official incentivizes other officials to act in a similar manner in order to maximize individual returns.  Therefore, when considering that each provincial official in China experiences the same incentives to commit corrupt activities, we can derive a constant provincial supply curve for corruption.  The demand curve is the demand for each provincial leader to address the problems of corruption. The equilibrium point in such a relationship is the total amount of arrests per capita. When a province is less corrupt, we expect there would be more arrests, as there is greater dedication to addressing the problems of corruption. The opposite is true for the most corrupt provinces. \n",
    "\n",
    "We operationalized corruption in terms of a ranking between provinces. Our data uses the amount of arrests related to corruption per 100,000 people, per province. To include a more diverse amount of time periods, we included the rankings for three time periods. The rankings for the three time periods are then averaged out to create a final ranking which is put into our model. The source of this information is China’s Supreme People’s Procuratorate (SPP), which is cited in Cole, Elliot, and Zhang’s study.\n"
   ]
  },
  {
   "cell_type": "code",
   "execution_count": 15,
   "metadata": {},
   "outputs": [
    {
     "data": {
      "text/plain": [
       "corrupt 2001    float64\n",
       "corrupt 2002    float64\n",
       "corrupt 2003    float64\n",
       "dtype: object"
      ]
     },
     "execution_count": 15,
     "metadata": {},
     "output_type": "execute_result"
    }
   ],
   "source": [
    "corrupt.dtypes"
   ]
  },
  {
   "cell_type": "markdown",
   "metadata": {},
   "source": [
    "We now attempt to rank these results by their size in each year. "
   ]
  },
  {
   "cell_type": "code",
   "execution_count": 16,
   "metadata": {},
   "outputs": [],
   "source": [
    "corrupt['corrupt 2001'] = corrupt['corrupt 2001'].rank(axis= 0, method= \"min\", ascending = False)\n",
    "corrupt['corrupt 2002'] = corrupt['corrupt 2002'].rank(axis= 0, method= \"min\", ascending = False)\n",
    "corrupt['corrupt 2003'] = corrupt['corrupt 2003'].rank(axis= 0, method= \"min\", ascending = False)\n"
   ]
  },
  {
   "cell_type": "markdown",
   "metadata": {},
   "source": [
    "We now can take the mean of each column in order to continue our calculations with only one variable."
   ]
  },
  {
   "cell_type": "code",
   "execution_count": 19,
   "metadata": {},
   "outputs": [],
   "source": [
    "corrupt['average']= round(corrupt.mean(axis=1,skipna=True),2)"
   ]
  },
  {
   "cell_type": "markdown",
   "metadata": {},
   "source": [
    "We will now drop the rest of the yearly data "
   ]
  },
  {
   "cell_type": "code",
   "execution_count": 20,
   "metadata": {},
   "outputs": [],
   "source": [
    "corrupt.drop(labels = ['corrupt 2001', 'corrupt 2002', 'corrupt 2003'], axis= 1, inplace=True)"
   ]
  },
  {
   "cell_type": "markdown",
   "metadata": {},
   "source": [
    "#### Production Data"
   ]
  },
  {
   "cell_type": "code",
   "execution_count": 22,
   "metadata": {},
   "outputs": [],
   "source": [
    "product_url= \"https://raw.githubusercontent.com/jdupes/Data_Final_Project/master/product.csv\"\n",
    "\n",
    "product= pd.read_csv(product_url)  "
   ]
  },
  {
   "cell_type": "markdown",
   "metadata": {},
   "source": [
    "#### Rationale for Production Data"
   ]
  },
  {
   "cell_type": "markdown",
   "metadata": {},
   "source": [
    "We operationalize production using drug production arrest data available from the Supreme People's Court. The Chinese government publishes criminal and civil cases online through an online database. Our model uses the percentage of drug production cases out of total arrests in every province (we also incorporate a scaling factor of 1,000 to allow for better readability). We believe that creating a proxy is necessary, because using the raw number of production arrests will fail to account for sizes of provinces, and most importantly, the efficacy of the police department. A police department that is incapable of enforcing drug crimes should be just as inept at policing regular crimes. When considering both total arrests and drug arrests together, we can avoid biases caused by different police forces around the country. The proxy we use is not the actual amount of meth being produced, but how many of total criminals are associated with drug production. This measure assesses both the profitability and the opportunity for meth production, which we assume should be highly correlated to production, as any opportunities should be seized by rational actors. We assume there is uniform incentive between provinces to tamper with case data. If every province is incentivized to lower the amount of cases, there will still be a trend that emerges across geographic divides. The main problem associated with this variable is the weight that some smaller provinces may end up carrying. In these cases, although it is clear that small provinces are not capable of out-producing larger provinces, they may have a much higher incentive to produce. Therefore, we will keep in mind size of provinces when proceeding into our Analysis and Discussion components. \n"
   ]
  },
  {
   "cell_type": "code",
   "execution_count": 23,
   "metadata": {},
   "outputs": [
    {
     "data": {
      "text/plain": [
       "arr        object\n",
       "prodarr    object\n",
       "dtype: object"
      ]
     },
     "execution_count": 23,
     "metadata": {},
     "output_type": "execute_result"
    }
   ],
   "source": [
    "product.dtypes"
   ]
  },
  {
   "cell_type": "code",
   "execution_count": 24,
   "metadata": {
    "scrolled": true
   },
   "outputs": [],
   "source": [
    "product['arr'] = product['arr'].str.replace(',', '')\n",
    "product['arr'] = product['arr'].astype(float)\n",
    "product['prodarr'] = product['prodarr'].str.replace(',', '')\n",
    "product['prodarr'] = product['prodarr'].astype(float)"
   ]
  },
  {
   "cell_type": "code",
   "execution_count": 70,
   "metadata": {},
   "outputs": [
    {
     "data": {
      "text/html": [
       "<div>\n",
       "<style scoped>\n",
       "    .dataframe tbody tr th:only-of-type {\n",
       "        vertical-align: middle;\n",
       "    }\n",
       "\n",
       "    .dataframe tbody tr th {\n",
       "        vertical-align: top;\n",
       "    }\n",
       "\n",
       "    .dataframe thead th {\n",
       "        text-align: right;\n",
       "    }\n",
       "</style>\n",
       "<table border=\"1\" class=\"dataframe\">\n",
       "  <thead>\n",
       "    <tr style=\"text-align: right;\">\n",
       "      <th></th>\n",
       "      <th>prod</th>\n",
       "    </tr>\n",
       "  </thead>\n",
       "  <tbody>\n",
       "    <tr>\n",
       "      <th>0</th>\n",
       "      <td>9.653038</td>\n",
       "    </tr>\n",
       "    <tr>\n",
       "      <th>1</th>\n",
       "      <td>1.198750</td>\n",
       "    </tr>\n",
       "    <tr>\n",
       "      <th>2</th>\n",
       "      <td>2.800296</td>\n",
       "    </tr>\n",
       "  </tbody>\n",
       "</table>\n",
       "</div>"
      ],
      "text/plain": [
       "       prod\n",
       "0  9.653038\n",
       "1  1.198750\n",
       "2  2.800296"
      ]
     },
     "execution_count": 70,
     "metadata": {},
     "output_type": "execute_result"
    }
   ],
   "source": [
    "product.dtypes\n",
    "product.head(3)"
   ]
  },
  {
   "cell_type": "code",
   "execution_count": 27,
   "metadata": {},
   "outputs": [],
   "source": [
    "product ['prod'] = product ['prodarr'] / product['arr'] #Here we divide each column \n",
    "product.drop(labels = ['arr','prodarr'], axis = 1, inplace= True) # We can now remove these columns\n",
    "product ['prod'] = product ['prod'] * 1000"
   ]
  },
  {
   "cell_type": "markdown",
   "metadata": {},
   "source": [
    "### Making Master Data\n",
    "\n",
    "We shall now merge the various data frames together in order to create one master data frame."
   ]
  },
  {
   "cell_type": "code",
   "execution_count": 30,
   "metadata": {},
   "outputs": [],
   "source": [
    "merge = pd.merge(df, geo, how='outer', left_index=True , right_index=True, sort=True)\n",
    "merge = pd.merge(merge, corrupt, how='outer', left_index=True , right_index=True, sort=True)\n",
    "merge = pd.merge(merge, product, how = 'outer', left_index = True, right_index = True, sort = True)"
   ]
  },
  {
   "cell_type": "markdown",
   "metadata": {},
   "source": [
    "Now we can take the province list and make it the index of the data frame"
   ]
  },
  {
   "cell_type": "code",
   "execution_count": 33,
   "metadata": {},
   "outputs": [],
   "source": [
    "merge.set_index('province', inplace = True)"
   ]
  },
  {
   "cell_type": "markdown",
   "metadata": {},
   "source": [
    "I will also now move GRP USD back to the first position  in order to help order this set"
   ]
  },
  {
   "cell_type": "code",
   "execution_count": 34,
   "metadata": {},
   "outputs": [],
   "source": [
    "cols = merge.columns.tolist()\n",
    "cols = ['grp usd', 'pop', 'ports', 'export','NK', 'Burma', 'HK', 'average', 'prod']\n",
    "merge = merge [cols]"
   ]
  },
  {
   "cell_type": "markdown",
   "metadata": {},
   "source": [
    "We must also remove the data for Tibet as we lack any estimate on how corrupt the province is "
   ]
  },
  {
   "cell_type": "code",
   "execution_count": 37,
   "metadata": {},
   "outputs": [],
   "source": [
    "merge = merge.drop(merge.index[30]) #This drops 30 which is Tibet"
   ]
  },
  {
   "cell_type": "markdown",
   "metadata": {},
   "source": [
    "### Testing the Data for Normality"
   ]
  },
  {
   "cell_type": "code",
   "execution_count": 38,
   "metadata": {},
   "outputs": [
    {
     "data": {
      "image/png": "[encoded data removed]",
      "text/plain": [
       "<matplotlib.figure.Figure at 0x22101854c88>"
      ]
     },
     "metadata": {},
     "output_type": "display_data"
    }
   ],
   "source": [
    "size, scale = 700, 10\n",
    "\n",
    "merge['pop'].plot.hist(grid=True, bins=9, rwidth=.8,\n",
    "                   color='#607c8e')\n",
    "plt.title('Population in Millions')\n",
    "plt.xlabel('Population')\n",
    "plt.ylabel('Counts')\n",
    "plt.grid(axis='y', alpha=0.75)"
   ]
  },
  {
   "cell_type": "markdown",
   "metadata": {},
   "source": [
    "We find that this data-set at a bin size of 9, is relatively normally distributed, but slightly left-skewed."
   ]
  },
  {
   "cell_type": "code",
   "execution_count": 39,
   "metadata": {},
   "outputs": [
    {
     "data": {
      "image/png": "[encoded data removed]",
      "text/plain": [
       "<matplotlib.figure.Figure at 0x221018e9278>"
      ]
     },
     "metadata": {},
     "output_type": "display_data"
    }
   ],
   "source": [
    "size, scale = 700, 10\n",
    "\n",
    "merge['ports'].plot.hist(grid=True, bins=20, rwidth=.8,\n",
    "                   color='#28B463')\n",
    "plt.title('Major Ports per Province')\n",
    "plt.xlabel('Counts')\n",
    "plt.ylabel('Ports')\n",
    "plt.grid(axis='y', alpha=0.75)"
   ]
  },
  {
   "cell_type": "markdown",
   "metadata": {},
   "source": [
    "Here, since few provinces have more than 25 ports, we must switch over to using a box-plot in order to test normality"
   ]
  },
  {
   "cell_type": "code",
   "execution_count": 40,
   "metadata": {},
   "outputs": [
    {
     "data": {
      "image/png": "[encoded data removed]",
      "text/plain": [
       "<matplotlib.figure.Figure at 0x221019cf320>"
      ]
     },
     "metadata": {},
     "output_type": "display_data"
    }
   ],
   "source": [
    "size, scale = 70,10 \n",
    "\n",
    "merge.boxplot(column = ['ports'], fontsize=12, rot=0, figsize = (5,5), grid=False)\n",
    "plt.title('Major Ports per Province')\n",
    "plt.grid(axis='y', alpha=0.75)\n"
   ]
  },
  {
   "cell_type": "markdown",
   "metadata": {},
   "source": [
    "Since there are such large outliers and the grouping of ports tends to be around a  small number of ports, we decide to reinterpret ports as a categorical variable. In this variable 1 represents more than 2 ports, and 0 represents any value less than or equal to  2"
   ]
  },
  {
   "cell_type": "code",
   "execution_count": 41,
   "metadata": {},
   "outputs": [
    {
     "data": {
      "text/plain": [
       "30"
      ]
     },
     "execution_count": 41,
     "metadata": {},
     "output_type": "execute_result"
    }
   ],
   "source": [
    "portvalue = []\n",
    "for i in merge['ports']:\n",
    "    if i < 2:\n",
    "        portvalue.append(0)\n",
    "    if i == 2:\n",
    "        portvalue.append(0)\n",
    "    if i > 2:\n",
    "        portvalue.append(1)\n",
    "        \n",
    "len(portvalue)"
   ]
  },
  {
   "cell_type": "code",
   "execution_count": 44,
   "metadata": {},
   "outputs": [
    {
     "data": {
      "text/plain": [
       "CategoricalDtype(categories=[0, 1], ordered=False)"
      ]
     },
     "execution_count": 44,
     "metadata": {},
     "output_type": "execute_result"
    }
   ],
   "source": [
    "merge['ports'] = portvalue\n",
    "merge['ports'] = merge['ports'].astype('category')\n",
    "merge['ports'].dtypes"
   ]
  },
  {
   "cell_type": "code",
   "execution_count": 45,
   "metadata": {},
   "outputs": [
    {
     "data": {
      "image/png": "[encoded data removed]",
      "text/plain": [
       "<matplotlib.figure.Figure at 0x22101cb87f0>"
      ]
     },
     "metadata": {},
     "output_type": "display_data"
    }
   ],
   "source": [
    "size, scale = 700, 10\n",
    "merge['export'].plot.hist(grid=True, bins=8, rwidth=.8,\n",
    "                   color='#F4D03F')\n",
    "plt.title('Percentage of GRP to Exports')\n",
    "plt.xlabel('Counts')\n",
    "plt.ylabel('Exports')\n",
    "plt.grid(axis='y', alpha=0.75)"
   ]
  },
  {
   "cell_type": "markdown",
   "metadata": {},
   "source": [
    "Will try to remove an outlier for the purposes of testing normality"
   ]
  },
  {
   "cell_type": "code",
   "execution_count": 46,
   "metadata": {},
   "outputs": [],
   "source": [
    "def is_outlier(points, thresh=3.5):\n",
    "    if len(points.shape) == 1:\n",
    "        points = points[:,None]\n",
    "    median = np.median(points, axis=0)\n",
    "    diff = np.sum((points - median)**2, axis=-1)\n",
    "    diff = np.sqrt(diff)\n",
    "    med_abs_deviation = np.median(diff)\n",
    "\n",
    "    modified_z_score = 0.6745 * diff / med_abs_deviation\n",
    "\n",
    "    return modified_z_score > thresh"
   ]
  },
  {
   "cell_type": "code",
   "execution_count": 73,
   "metadata": {
    "scrolled": true
   },
   "outputs": [
    {
     "data": {
      "text/plain": [
       "array([ True,  True, False,  True, False, False, False, False, False,\n",
       "       False,  True, False, False, False, False, False, False, False,\n",
       "       False, False, False, False, False, False, False, False, False,\n",
       "       False, False, False])"
      ]
     },
     "execution_count": 73,
     "metadata": {},
     "output_type": "execute_result"
    }
   ],
   "source": [
    "is_outlier(merge ['export'])"
   ]
  },
  {
   "cell_type": "code",
   "execution_count": 76,
   "metadata": {},
   "outputs": [
    {
     "data": {
      "image/png": "[encoded data removed]",
      "text/plain": [
       "<matplotlib.figure.Figure at 0x221042e2d68>"
      ]
     },
     "metadata": {},
     "output_type": "display_data"
    }
   ],
   "source": [
    "filteredexp = merge.export[~is_outlier(merge [ 'export'])]\n",
    "size, scale = 700, 10\n",
    "filteredexp.plot.hist(grid=True, bins=8, rwidth=.8,\n",
    "                   color='#F4D03F')\n",
    "plt.title('Percentage of GRP to Exports')\n",
    "plt.xlabel('% Exports')\n",
    "plt.ylabel('Count')\n",
    "plt.grid(axis='y', alpha=0.75)"
   ]
  },
  {
   "cell_type": "code",
   "execution_count": 51,
   "metadata": {},
   "outputs": [
    {
     "data": {
      "image/png": "[encoded data removed]",
      "text/plain": [
       "<matplotlib.figure.Figure at 0x2210199b1d0>"
      ]
     },
     "metadata": {},
     "output_type": "display_data"
    }
   ],
   "source": [
    "size, scale = 700, 10\n",
    "merge['grp usd'].plot.hist(grid=True, bins=8, rwidth=.8,\n",
    "                   color='#00FFFF')\n",
    "plt.title('GRP in Provinces')\n",
    "plt.xlabel('GRP')\n",
    "plt.ylabel('Counts')\n",
    "plt.grid(axis='y', alpha=0.75)"
   ]
  },
  {
   "cell_type": "code",
   "execution_count": 53,
   "metadata": {},
   "outputs": [
    {
     "data": {
      "image/png": "[encoded data removed]",
      "text/plain": [
       "<matplotlib.figure.Figure at 0x22101dbf240>"
      ]
     },
     "metadata": {},
     "output_type": "display_data"
    }
   ],
   "source": [
    "size, scale = 700, 10\n",
    "merge['NK'].plot.hist(grid=True, bins=7, rwidth=.8,\n",
    "                   color='#FFA07A')\n",
    "plt.title('Distances to North Korea')\n",
    "plt.xlabel('Distance')\n",
    "plt.ylabel('Count')\n",
    "plt.grid(axis='y', alpha=0.75)"
   ]
  },
  {
   "cell_type": "code",
   "execution_count": 54,
   "metadata": {},
   "outputs": [
    {
     "data": {
      "image/png": "[encoded data removed]",
      "text/plain": [
       "<matplotlib.figure.Figure at 0x22102e1ea58>"
      ]
     },
     "metadata": {},
     "output_type": "display_data"
    }
   ],
   "source": [
    "size, scale = 700, 10\n",
    "merge['Burma'].plot.hist(grid=True, bins=8, rwidth=.8,\n",
    "                   color='#FFD700')\n",
    "plt.title('Distances to Burma')\n",
    "plt.xlabel('Distance')\n",
    "plt.ylabel('Counts')\n",
    "plt.grid(axis='y', alpha=0.75)"
   ]
  },
  {
   "cell_type": "code",
   "execution_count": 55,
   "metadata": {},
   "outputs": [
    {
     "data": {
      "image/png": "[encoded data removed]",
      "text/plain": [
       "<matplotlib.figure.Figure at 0x22102e9f908>"
      ]
     },
     "metadata": {},
     "output_type": "display_data"
    }
   ],
   "source": [
    "size, scale = 700, 10\n",
    "merge['HK'].plot.hist(grid=True, bins=8, rwidth=.8,\n",
    "                   color='#FF00FF', alpha = 0.75)\n",
    "plt.title('Distances to Hong Kong')\n",
    "plt.xlabel('Distance')\n",
    "plt.ylabel('Counts')\n",
    "plt.grid(axis='y', alpha=0.75)"
   ]
  },
  {
   "cell_type": "code",
   "execution_count": 56,
   "metadata": {},
   "outputs": [
    {
     "data": {
      "image/png": "[encoded data removed]",
      "text/plain": [
       "<matplotlib.figure.Figure at 0x22102ea4668>"
      ]
     },
     "metadata": {},
     "output_type": "display_data"
    }
   ],
   "source": [
    "size, scale = 700, 10\n",
    "merge['average'].plot.hist(grid=True, bins=6, rwidth=.95,\n",
    "                   color = '#980000', alpha = 0.6)\n",
    "plt.title('Provincial Corruption Ranking')\n",
    "plt.xlabel('Corruption')\n",
    "plt.ylabel('Count')\n",
    "plt.grid(axis='y', alpha=0.75)"
   ]
  },
  {
   "cell_type": "code",
   "execution_count": 57,
   "metadata": {},
   "outputs": [
    {
     "data": {
      "image/png": "[encoded data removed]",
      "text/plain": [
       "<matplotlib.figure.Figure at 0x22102fcb780>"
      ]
     },
     "metadata": {},
     "output_type": "display_data"
    }
   ],
   "source": [
    "size, scale = 700, 10\n",
    "merge['prod'].plot.hist(grid=True, bins=5, rwidth=.95,\n",
    "                   color = '#2F4F4F', alpha = 0.6)\n",
    "plt.title('Provincial Drug Production')\n",
    "plt.xlabel('Production')\n",
    "plt.ylabel('Count')\n",
    "plt.grid(axis='y', alpha=0.75)"
   ]
  },
  {
   "cell_type": "markdown",
   "metadata": {},
   "source": [
    "This data set is severely right-skewed therefore a possible solution is a transformation of the data to make it more normally distributed"
   ]
  },
  {
   "cell_type": "code",
   "execution_count": 59,
   "metadata": {},
   "outputs": [
    {
     "data": {
      "image/png": "[encoded data removed]",
      "text/plain": [
       "<matplotlib.figure.Figure at 0x22103020160>"
      ]
     },
     "metadata": {},
     "output_type": "display_data"
    }
   ],
   "source": [
    "merge ['prod'] = np.log(merge ['prod'])\n",
    "size, scale = 700, 10\n",
    "merge['prod'].plot.hist(grid=True, bins=8, rwidth=.95,\n",
    "                   color = '#2F4F4F', alpha = 0.6)\n",
    "plt.title('Provincial Drug Production')\n",
    "plt.xlabel('Production')\n",
    "plt.ylabel('Count')\n",
    "plt.grid(axis='y', alpha=0.75)"
   ]
  },
  {
   "cell_type": "markdown",
   "metadata": {},
   "source": [
    "### Due to this change, we now will refer to the logarithmic of the production data set when referring to the production variable. "
   ]
  },
  {
   "cell_type": "markdown",
   "metadata": {},
   "source": [
    "# Data Analysis"
   ]
  },
  {
   "cell_type": "markdown",
   "metadata": {},
   "source": [
    "We form multivariate regression models out of the variables based on their relation to one another. We separate the different variables into blocks due to the large quantity of variables tested for, and the limited number of observations. When simultaneously considering all predictors, it is impossible to determine with confidence if any variables are individually significant. Therefore, consistent with our original theory section, we form three blocks: Economic, Corruption and Geographic. The Economic variables considered are multports (the categorical interpretation of ports), GRP (Gross Regional Product) and exports as percentage of GDP. Geographic variables are distance to North Korea, distance to Hong Kong and distance to Myanmar. The Corruption grouping consists only of the average ranking of provincial corruption cases, as established in the data section. Population is considered as a control."
   ]
  },
  {
   "cell_type": "markdown",
   "metadata": {},
   "source": [
    "## Testing for Economic Variables"
   ]
  },
  {
   "cell_type": "code",
   "execution_count": 77,
   "metadata": {},
   "outputs": [
    {
     "name": "stdout",
     "output_type": "stream",
     "text": [
      "                            OLS Regression Results                            \n",
      "==============================================================================\n",
      "Dep. Variable:                   prod   R-squared:                       0.132\n",
      "Model:                            OLS   Adj. R-squared:                 -0.007\n",
      "Method:                 Least Squares   F-statistic:                    0.9470\n",
      "Date:                Fri, 21 Dec 2018   Prob (F-statistic):              0.453\n",
      "Time:                        18:16:49   Log-Likelihood:                -52.378\n",
      "No. Observations:                  30   AIC:                             114.8\n",
      "Df Residuals:                      25   BIC:                             121.8\n",
      "Df Model:                           4                                         \n",
      "Covariance Type:            nonrobust                                         \n",
      "==============================================================================\n",
      "                 coef    std err          t      P>|t|      [0.025      0.975]\n",
      "------------------------------------------------------------------------------\n",
      "Intercept     -0.0257      0.567     -0.045      0.964      -1.193       1.142\n",
      "ports[T.1]     0.5490      0.705      0.779      0.443      -0.903       2.001\n",
      "grp           -0.0038      0.003     -1.386      0.178      -0.009       0.002\n",
      "export         0.0586      0.035      1.689      0.104      -0.013       0.130\n",
      "pop            0.0184      0.022      0.838      0.410      -0.027       0.064\n",
      "==============================================================================\n",
      "Omnibus:                        2.140   Durbin-Watson:                   1.901\n",
      "Prob(Omnibus):                  0.343   Jarque-Bera (JB):                1.286\n",
      "Skew:                          -0.501   Prob(JB):                        0.526\n",
      "Kurtosis:                       3.163   Cond. No.                     1.20e+03\n",
      "==============================================================================\n",
      "\n",
      "Warnings:\n",
      "[1] Standard Errors assume that the covariance matrix of the errors is correctly specified.\n",
      "[2] The condition number is large, 1.2e+03. This might indicate that there are\n",
      "strong multicollinearity or other numerical problems.\n"
     ]
    }
   ],
   "source": [
    "import statsmodels.formula.api as smf\n",
    "merge.rename(index = str, columns = {'grp usd': 'grp'}, inplace= True)\n",
    "print(smf.ols('prod ~ grp + ports + export + pop',data=merge).fit().summary())"
   ]
  },
  {
   "cell_type": "markdown",
   "metadata": {},
   "source": [
    "The first block tested is the Economic grouping of variables.  The variable, GRP is found to be statistically insignificant. GRP’s insignificance disproves the U.S. theory concerning rising wealth causing issues in enforceability. In China, the robustness of available surveillance systems and the government’s concern with security, may have decreased the impact of this factor on production. Additionally, we find that multport (the port variable) is also statistically insignificant. We believe that this may be a flaw in the model, due to the number of ports being strongly correlated with the total number of exports. Otherwise, the flaw may lie in the variable as a whole, because the number of ports says little about the quality of, as well as traffic through the ports.\n",
    "\n",
    "However, we find that export is moderately significant to the model. Exports have a positive sign relationship, meaning that as exports increase, production should also increase. This variable is more indicative of the quality and quantity of trade that passes through the province. Provinces that are more heavily reliant on trade would be more inclined to sell any goods they may have, both legal and illegal. Since we have originally posited that producers would want to ship drugs from close to the source of production, they would find significant advantages in provinces which are already conducting more trade."
   ]
  },
  {
   "cell_type": "markdown",
   "metadata": {},
   "source": [
    "## Testing for Geographic Variables"
   ]
  },
  {
   "cell_type": "code",
   "execution_count": 63,
   "metadata": {},
   "outputs": [
    {
     "name": "stdout",
     "output_type": "stream",
     "text": [
      "                            OLS Regression Results                            \n",
      "==============================================================================\n",
      "Dep. Variable:                   prod   R-squared:                       0.386\n",
      "Model:                            OLS   Adj. R-squared:                  0.288\n",
      "Method:                 Least Squares   F-statistic:                     3.937\n",
      "Date:                Fri, 21 Dec 2018   Prob (F-statistic):             0.0130\n",
      "Time:                        18:09:13   Log-Likelihood:                -47.166\n",
      "No. Observations:                  30   AIC:                             104.3\n",
      "Df Residuals:                      25   BIC:                             111.3\n",
      "Df Model:                           4                                         \n",
      "Covariance Type:            nonrobust                                         \n",
      "==============================================================================\n",
      "                 coef    std err          t      P>|t|      [0.025      0.975]\n",
      "------------------------------------------------------------------------------\n",
      "Intercept     -1.2787      2.037     -0.628      0.536      -5.474       2.916\n",
      "NK             0.0013      0.001      2.163      0.040    6.19e-05       0.003\n",
      "Burma          0.0010      0.001      1.368      0.184      -0.000       0.002\n",
      "HK            -0.0014      0.001     -2.755      0.011      -0.002      -0.000\n",
      "pop           -0.0055      0.010     -0.574      0.571      -0.025       0.014\n",
      "==============================================================================\n",
      "Omnibus:                        8.573   Durbin-Watson:                   2.455\n",
      "Prob(Omnibus):                  0.014   Jarque-Bera (JB):                6.946\n",
      "Skew:                          -0.978   Prob(JB):                       0.0310\n",
      "Kurtosis:                       4.315   Cond. No.                     2.67e+04\n",
      "==============================================================================\n",
      "\n",
      "Warnings:\n",
      "[1] Standard Errors assume that the covariance matrix of the errors is correctly specified.\n",
      "[2] The condition number is large, 2.67e+04. This might indicate that there are\n",
      "strong multicollinearity or other numerical problems.\n"
     ]
    }
   ],
   "source": [
    "print(smf.ols('prod ~ NK +  Burma +HK  +pop',data=merge).fit().summary())"
   ]
  },
  {
   "cell_type": "markdown",
   "metadata": {},
   "source": [
    "The variable, distance to North Korea, is strongly correlated to production. Additionally, the coefficient has a positive sign relationship, meaning that as one draws further away from North Korea, production grows. This result is very consistent with our theory. We hypothesized that due to North Korea’s state-sponsored meth production, the market would be saturated by a strong competitor. \n",
    "\n",
    "Distance to Hong Kong, is even more significant in this model. The sign correspondence was negative, meaning that distance from Hong Kong would decrease the amount of meth produced. This finding is also very consistent with our theory, as Hong Kong triads are noted as strong investors in the capital-intensive meth market. \n",
    "Distance to Myanmar has a p-value of 0.184, which implies no statistical significance. Myanmar is however located to the south of China, much like Hong Kong is. The correlation between the two factors may also have created some multicollinearity, causing the model to be incapable of discerning between the influence of the two continuous predictors. Regardless of the reason, any further tests that compare the Geographic block will omit Myanmar due to its relative insignificance."
   ]
  },
  {
   "cell_type": "markdown",
   "metadata": {},
   "source": [
    "## Testing for Corruption Variables"
   ]
  },
  {
   "cell_type": "code",
   "execution_count": 64,
   "metadata": {
    "scrolled": false
   },
   "outputs": [
    {
     "data": {
      "image/png": "[encoded data removed]",
      "text/plain": [
       "<matplotlib.figure.Figure at 0x221041c8828>"
      ]
     },
     "metadata": {},
     "output_type": "display_data"
    }
   ],
   "source": [
    "import seaborn as sns\n",
    "sns.regplot(x=\"average\", y=\"prod\", data=merge);"
   ]
  },
  {
   "cell_type": "code",
   "execution_count": 65,
   "metadata": {
    "scrolled": false
   },
   "outputs": [
    {
     "name": "stdout",
     "output_type": "stream",
     "text": [
      "                            OLS Regression Results                            \n",
      "==============================================================================\n",
      "Dep. Variable:                   prod   R-squared:                       0.127\n",
      "Model:                            OLS   Adj. R-squared:                  0.063\n",
      "Method:                 Least Squares   F-statistic:                     1.971\n",
      "Date:                Fri, 21 Dec 2018   Prob (F-statistic):              0.159\n",
      "Time:                        18:09:13   Log-Likelihood:                -52.450\n",
      "No. Observations:                  30   AIC:                             110.9\n",
      "Df Residuals:                      27   BIC:                             115.1\n",
      "Df Model:                           2                                         \n",
      "Covariance Type:            nonrobust                                         \n",
      "==============================================================================\n",
      "                 coef    std err          t      P>|t|      [0.025      0.975]\n",
      "------------------------------------------------------------------------------\n",
      "Intercept     -0.7466      0.734     -1.017      0.318      -2.253       0.760\n",
      "average        0.0667      0.034      1.972      0.059      -0.003       0.136\n",
      "pop            0.0021      0.010      0.212      0.834      -0.018       0.022\n",
      "==============================================================================\n",
      "Omnibus:                       18.404   Durbin-Watson:                   2.082\n",
      "Prob(Omnibus):                  0.000   Jarque-Bera (JB):               25.716\n",
      "Skew:                          -1.467   Prob(JB):                     2.60e-06\n",
      "Kurtosis:                       6.459   Cond. No.                         151.\n",
      "==============================================================================\n",
      "\n",
      "Warnings:\n",
      "[1] Standard Errors assume that the covariance matrix of the errors is correctly specified.\n"
     ]
    }
   ],
   "source": [
    "print(smf.ols('prod ~ average +pop',data=merge).fit().summary())"
   ]
  },
  {
   "cell_type": "markdown",
   "metadata": {},
   "source": [
    "The third block tested was the Corruption grouping of variables.  In this model, our ranking of corruption scores a p-value of 0.059, making it significantly correlated with production. The sign relationship is also positive, meaning that more corruption results in higher production levels. This finding is very consistent with our original theory. Corruption would entail both immunity from law enforcement, as well as potential benefits in the forms of favorable prices or procurement of required tools and goods. This model is also consistent with the theories of previous literature, which state that corruption is correlated with production. "
   ]
  },
  {
   "cell_type": "markdown",
   "metadata": {},
   "source": [
    "## Testing for Corruption and Export"
   ]
  },
  {
   "cell_type": "markdown",
   "metadata": {},
   "source": [
    "We now take the significant variables from each one and test them together"
   ]
  },
  {
   "cell_type": "code",
   "execution_count": 66,
   "metadata": {},
   "outputs": [
    {
     "name": "stdout",
     "output_type": "stream",
     "text": [
      "                            OLS Regression Results                            \n",
      "==============================================================================\n",
      "Dep. Variable:                   prod   R-squared:                       0.160\n",
      "Model:                            OLS   Adj. R-squared:                  0.063\n",
      "Method:                 Least Squares   F-statistic:                     1.648\n",
      "Date:                Fri, 21 Dec 2018   Prob (F-statistic):              0.203\n",
      "Time:                        18:09:13   Log-Likelihood:                -51.883\n",
      "No. Observations:                  30   AIC:                             111.8\n",
      "Df Residuals:                      26   BIC:                             117.4\n",
      "Df Model:                           3                                         \n",
      "Covariance Type:            nonrobust                                         \n",
      "==============================================================================\n",
      "                 coef    std err          t      P>|t|      [0.025      0.975]\n",
      "------------------------------------------------------------------------------\n",
      "Intercept     -0.7578      0.734     -1.032      0.311      -2.267       0.751\n",
      "export         0.0223      0.022      1.000      0.326      -0.024       0.068\n",
      "average        0.0624      0.034      1.831      0.079      -0.008       0.132\n",
      "pop           -0.0020      0.011     -0.187      0.853      -0.024       0.020\n",
      "==============================================================================\n",
      "Omnibus:                       19.143   Durbin-Watson:                   2.057\n",
      "Prob(Omnibus):                  0.000   Jarque-Bera (JB):               28.329\n",
      "Skew:                          -1.486   Prob(JB):                     7.05e-07\n",
      "Kurtosis:                       6.718   Cond. No.                         156.\n",
      "==============================================================================\n",
      "\n",
      "Warnings:\n",
      "[1] Standard Errors assume that the covariance matrix of the errors is correctly specified.\n"
     ]
    }
   ],
   "source": [
    "print(smf.ols('prod ~ export + average + pop',data=merge).fit().summary())"
   ]
  },
  {
   "cell_type": "markdown",
   "metadata": {},
   "source": [
    "In this test, exports are found to be insignificant on production, however corruption is still moderately significant. The fact that corruption is more significant than economic variables is very consistent with our hypothesis. The economic situations in a province are far more circumstantial, while the corruption present is a much more active factor. Economic situations should not be as influential, since a corrupt provincial governor, who can provide assistance to the production team, is always far more impactful. "
   ]
  },
  {
   "cell_type": "markdown",
   "metadata": {},
   "source": [
    "## Testing for Geography and Economic"
   ]
  },
  {
   "cell_type": "code",
   "execution_count": 67,
   "metadata": {},
   "outputs": [
    {
     "name": "stdout",
     "output_type": "stream",
     "text": [
      "                            OLS Regression Results                            \n",
      "==============================================================================\n",
      "Dep. Variable:                   prod   R-squared:                       0.350\n",
      "Model:                            OLS   Adj. R-squared:                  0.275\n",
      "Method:                 Least Squares   F-statistic:                     4.667\n",
      "Date:                Fri, 21 Dec 2018   Prob (F-statistic):            0.00973\n",
      "Time:                        18:09:13   Log-Likelihood:                -48.032\n",
      "No. Observations:                  30   AIC:                             104.1\n",
      "Df Residuals:                      26   BIC:                             109.7\n",
      "Df Model:                           3                                         \n",
      "Covariance Type:            nonrobust                                         \n",
      "==============================================================================\n",
      "                 coef    std err          t      P>|t|      [0.025      0.975]\n",
      "------------------------------------------------------------------------------\n",
      "Intercept      0.0605      1.025      0.059      0.953      -2.047       2.168\n",
      "export         0.0166      0.020      0.822      0.419      -0.025       0.058\n",
      "NK             0.0007      0.000      2.163      0.040    3.71e-05       0.001\n",
      "HK            -0.0007      0.000     -1.941      0.063      -0.001    4.14e-05\n",
      "==============================================================================\n",
      "Omnibus:                        7.371   Durbin-Watson:                   2.331\n",
      "Prob(Omnibus):                  0.025   Jarque-Bera (JB):                5.682\n",
      "Skew:                          -0.987   Prob(JB):                       0.0584\n",
      "Kurtosis:                       3.804   Cond. No.                     9.84e+03\n",
      "==============================================================================\n",
      "\n",
      "Warnings:\n",
      "[1] Standard Errors assume that the covariance matrix of the errors is correctly specified.\n",
      "[2] The condition number is large, 9.84e+03. This might indicate that there are\n",
      "strong multicollinearity or other numerical problems.\n"
     ]
    }
   ],
   "source": [
    "print(smf.ols('prod ~ export + NK + HK',data=merge).fit().summary())"
   ]
  },
  {
   "cell_type": "markdown",
   "metadata": {},
   "source": [
    "Exports are found to be insignificant, therefore fully removing economic variables from our ending model. Distance to Hong Kong is found to be highly significant as is distance to North Korea. This result could be partially due to multicollinearity as coastal provinces tend to trade more and are geographically closer to Hong Kong. However, the more likely explanation is the aforementioned active vs. circumstantial factor. Being positioned near Hong Kong provides active benefits, while propensity to trade can only somewhat increase the extent to which producers can export illicit goods."
   ]
  },
  {
   "cell_type": "markdown",
   "metadata": {},
   "source": [
    "## Testing for Geography and Corruption"
   ]
  },
  {
   "cell_type": "code",
   "execution_count": 68,
   "metadata": {},
   "outputs": [
    {
     "name": "stdout",
     "output_type": "stream",
     "text": [
      "                            OLS Regression Results                            \n",
      "==============================================================================\n",
      "Dep. Variable:                   prod   R-squared:                       0.343\n",
      "Model:                            OLS   Adj. R-squared:                  0.238\n",
      "Method:                 Least Squares   F-statistic:                     3.261\n",
      "Date:                Fri, 21 Dec 2018   Prob (F-statistic):             0.0278\n",
      "Time:                        18:09:13   Log-Likelihood:                -48.196\n",
      "No. Observations:                  30   AIC:                             106.4\n",
      "Df Residuals:                      25   BIC:                             113.4\n",
      "Df Model:                           4                                         \n",
      "Covariance Type:            nonrobust                                         \n",
      "==============================================================================\n",
      "                 coef    std err          t      P>|t|      [0.025      0.975]\n",
      "------------------------------------------------------------------------------\n",
      "Intercept      0.8477      1.328      0.638      0.529      -1.887       3.583\n",
      "NK             0.0006      0.000      1.529      0.139      -0.000       0.001\n",
      "average        0.0107      0.036      0.294      0.771      -0.064       0.086\n",
      "HK            -0.0009      0.000     -2.207      0.037      -0.002   -5.86e-05\n",
      "pop           -0.0050      0.010     -0.505      0.618      -0.026       0.016\n",
      "==============================================================================\n",
      "Omnibus:                       12.332   Durbin-Watson:                   2.407\n",
      "Prob(Omnibus):                  0.002   Jarque-Bera (JB):               11.852\n",
      "Skew:                          -1.234   Prob(JB):                      0.00267\n",
      "Kurtosis:                       4.843   Cond. No.                     1.24e+04\n",
      "==============================================================================\n",
      "\n",
      "Warnings:\n",
      "[1] Standard Errors assume that the covariance matrix of the errors is correctly specified.\n",
      "[2] The condition number is large, 1.24e+04. This might indicate that there are\n",
      "strong multicollinearity or other numerical problems.\n"
     ]
    }
   ],
   "source": [
    "print(smf.ols('prod ~ NK +average+HK+pop',data=merge).fit().summary())"
   ]
  },
  {
   "cell_type": "markdown",
   "metadata": {},
   "source": [
    "Our final multivariate regression model tests the relationship between Corruption and Geography, the two remaining significant blocks . In this model, the variables tested are distance to Hong Kong, distance to North Korea, and corruption (ranking). In this model, distance to North Korea is found to be statistically insignificant, however distance to Hong Kong is found to be highly significant. Most importantly, corruption is found to be statistically insignificant. This model proves that geography has a greater impact on production than corruption. "
   ]
  },
  {
   "cell_type": "markdown",
   "metadata": {},
   "source": [
    "### Best-Fitting Model"
   ]
  },
  {
   "cell_type": "markdown",
   "metadata": {},
   "source": [
    "Given the importance of geography, and the multivariate regression models we have established, we interpret the geographic regression as the best fitting model.  Regression 1 has the highest adjusted R-squared coefficient of 0.386. "
   ]
  },
  {
   "cell_type": "markdown",
   "metadata": {},
   "source": [
    "# Discussion"
   ]
  },
  {
   "cell_type": "markdown",
   "metadata": {},
   "source": [
    "Upon closer investigation of our regression models, we identify a new mechanism that is responsible for the importance of geographic variables relative to corruption. We interpret corruption and geography as independent factors rather than complementary to one another upon the addition of this mechanism. \n",
    "\n",
    "When comparing geography and corruption, we can split these factors into two distinct potential sources of investment. Proximity to Hong Kong gives a producer access to investment from the Triads, whereas a corrupt politician is similar to a patronage resource, coming in the form of both tangible and intangible benefits. The two ‘ownership’ structures are necessarily in conflict with one another based on the Coase Theorem. According to Coase Theorem, property rights are important, because when a rational actor possesses property rights, they are incentivized to act in the most efficient manner. However, cases where ownership rights are not as clear will necessarily result in less efficient outcomes due to the impediments resulting from inability to bargain.  In the case of an investment from Hong Kong, we assume that ownership rights are maintained with the producer, or the Hong Kong triads directly hold ownership rights, and are therefore incentivized to come to more efficient outcomes.  On the other hand, corruption may also provide desired financial benefits from politicians, but the ensuing transference of ownership rights, and the murky status producers enter in terms of future political, financial and social costs, is deleterious to efficient outcomes (the weight adjusted cost of capital spikes signficantly). Therefore, corruption's patronage resource and Hong Kong's triad resource are seen to be discrete financing options which change the propensity to produce at their own rates. It is far more likely then that the provinces around Hong Kong exhibit corruption due to efficiency from criminal groups in infiltration of bureaucracy structures. \n",
    "\n",
    "\n"
   ]
  },
  {
   "cell_type": "markdown",
   "metadata": {},
   "source": [
    "# Conclusion"
   ]
  },
  {
   "cell_type": "markdown",
   "metadata": {},
   "source": [
    "In this paper, we have analyzed the production of methamphetamine in China. To examine the relationship between Economic, Geographic and Corruption variables to the production of meth, we constructed several indices and proxy variables on the provincial level.\n",
    "    \n",
    "We hypothesized that Geographic variables would have the greatest influence. The data suggests that our hypothesis was correct; provinces in the Southeast produce the most meth. In contrast, Economic variables are found to be negligible. The Corruption variable’s significance is more difficult to compare relative to the Geographic variables, due to the presence of multicollinearity. We therefore, attempt to use economic theory to rationalize the regression model's outcomes.\n",
    "\n",
    "Our results imply that production is determined by factors operating individually, rather than collectively. Corruption and Geographic variables are both present as determinants of production, but our findings show that their influence is due to alternative methods of financing. Different financing options modify the ownership structures of illicit production, therefore impacting their production outcomes. The provincial comparative advantage we observe is due to the Coase Theorem’s application on the illicit drug industry and its weight adjusted cost of capital.\n",
    "\n",
    "These findings imply that there is a gap in the current literature. As previously stated, most experts have cited Corruption and Economic variables as the strongest predictors of meth production, possibly due to their ubiquity. Corruption is categorized as the sole dynamic, endogenous variable. The current literature fails to account for the impacts of exogenous variables, and does not consider the intermediary concept of ownership structures on illicit production. \n",
    "\n",
    "When applying our findings to unobserved cases, researchers must attempt to speculate on the inflow of exogenous investments into the area. Although the distance to Hong Kong is solely a domestic determinant in China, distances to other criminal syndicates or white collar crime hubs can be major influencers internationally. \n"
   ]
  },
  {
   "cell_type": "markdown",
   "metadata": {},
   "source": [
    "# Code"
   ]
  },
  {
   "cell_type": "code",
   "execution_count": null,
   "metadata": {},
   "outputs": [],
   "source": []
  }
 ],
 "metadata": {
  "kernelspec": {
   "display_name": "Python 3",
   "language": "python",
   "name": "python3"
  },
  "language_info": {
   "codemirror_mode": {
    "name": "ipython",
    "version": 3
   },
   "file_extension": ".py",
   "mimetype": "text/x-python",
   "name": "python",
   "nbconvert_exporter": "python",
   "pygments_lexer": "ipython3",
   "version": "3.6.4"
  }
 },
 "nbformat": 4,
 "nbformat_minor": 2
}
